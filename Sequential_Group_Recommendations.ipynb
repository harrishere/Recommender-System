{
  "nbformat": 4,
  "nbformat_minor": 0,
  "metadata": {
    "colab": {
      "name": "Sequential_Group_Recommendations.ipynb",
      "provenance": [],
      "collapsed_sections": []
    },
    "kernelspec": {
      "name": "python3",
      "display_name": "Python 3"
    },
    "language_info": {
      "name": "python"
    },
    "widgets": {
      "application/vnd.jupyter.widget-state+json": {
        "f2272375f3db4dc293cf79cb2ca88984": {
          "model_module": "@jupyter-widgets/controls",
          "model_name": "HBoxModel",
          "model_module_version": "1.5.0",
          "state": {
            "_view_name": "HBoxView",
            "_dom_classes": [],
            "_model_name": "HBoxModel",
            "_view_module": "@jupyter-widgets/controls",
            "_model_module_version": "1.5.0",
            "_view_count": null,
            "_view_module_version": "1.5.0",
            "box_style": "",
            "layout": "IPY_MODEL_beaefb505f7b4bdd8733eb0f50be245d",
            "_model_module": "@jupyter-widgets/controls",
            "children": [
              "IPY_MODEL_3e87b78e0a874efe8db0fbbb8069c238",
              "IPY_MODEL_3184e351755641d086172ee40cd6f390",
              "IPY_MODEL_806efb117ba64c1fa588eb08e80be1df"
            ]
          }
        },
        "beaefb505f7b4bdd8733eb0f50be245d": {
          "model_module": "@jupyter-widgets/base",
          "model_name": "LayoutModel",
          "model_module_version": "1.2.0",
          "state": {
            "_view_name": "LayoutView",
            "grid_template_rows": null,
            "right": null,
            "justify_content": null,
            "_view_module": "@jupyter-widgets/base",
            "overflow": null,
            "_model_module_version": "1.2.0",
            "_view_count": null,
            "flex_flow": null,
            "width": null,
            "min_width": null,
            "border": null,
            "align_items": null,
            "bottom": null,
            "_model_module": "@jupyter-widgets/base",
            "top": null,
            "grid_column": null,
            "overflow_y": null,
            "overflow_x": null,
            "grid_auto_flow": null,
            "grid_area": null,
            "grid_template_columns": null,
            "flex": null,
            "_model_name": "LayoutModel",
            "justify_items": null,
            "grid_row": null,
            "max_height": null,
            "align_content": null,
            "visibility": null,
            "align_self": null,
            "height": null,
            "min_height": null,
            "padding": null,
            "grid_auto_rows": null,
            "grid_gap": null,
            "max_width": null,
            "order": null,
            "_view_module_version": "1.2.0",
            "grid_template_areas": null,
            "object_position": null,
            "object_fit": null,
            "grid_auto_columns": null,
            "margin": null,
            "display": null,
            "left": null
          }
        },
        "3e87b78e0a874efe8db0fbbb8069c238": {
          "model_module": "@jupyter-widgets/controls",
          "model_name": "HTMLModel",
          "model_module_version": "1.5.0",
          "state": {
            "_view_name": "HTMLView",
            "style": "IPY_MODEL_c08e970dfbb44a29af9c3941e195bad0",
            "_dom_classes": [],
            "description": "",
            "_model_name": "HTMLModel",
            "placeholder": "​",
            "_view_module": "@jupyter-widgets/controls",
            "_model_module_version": "1.5.0",
            "value": "Processing: 100%",
            "_view_count": null,
            "_view_module_version": "1.5.0",
            "description_tooltip": null,
            "_model_module": "@jupyter-widgets/controls",
            "layout": "IPY_MODEL_00c1e9a5466c43729b5b25780b60f0ce"
          }
        },
        "3184e351755641d086172ee40cd6f390": {
          "model_module": "@jupyter-widgets/controls",
          "model_name": "FloatProgressModel",
          "model_module_version": "1.5.0",
          "state": {
            "_view_name": "ProgressView",
            "style": "IPY_MODEL_eed9b16596ac45ca80f0e6177e3e2741",
            "_dom_classes": [],
            "description": "",
            "_model_name": "FloatProgressModel",
            "bar_style": "success",
            "max": 5,
            "_view_module": "@jupyter-widgets/controls",
            "_model_module_version": "1.5.0",
            "value": 5,
            "_view_count": null,
            "_view_module_version": "1.5.0",
            "orientation": "horizontal",
            "min": 0,
            "description_tooltip": null,
            "_model_module": "@jupyter-widgets/controls",
            "layout": "IPY_MODEL_65b9e912a96347c4a3e36dcd9b86c4cd"
          }
        },
        "806efb117ba64c1fa588eb08e80be1df": {
          "model_module": "@jupyter-widgets/controls",
          "model_name": "HTMLModel",
          "model_module_version": "1.5.0",
          "state": {
            "_view_name": "HTMLView",
            "style": "IPY_MODEL_98f53a90e889439bb426b6d3a3988f05",
            "_dom_classes": [],
            "description": "",
            "_model_name": "HTMLModel",
            "placeholder": "​",
            "_view_module": "@jupyter-widgets/controls",
            "_model_module_version": "1.5.0",
            "value": " 5/5 [11:50&lt;00:00, 140.47s/keystrokes]",
            "_view_count": null,
            "_view_module_version": "1.5.0",
            "description_tooltip": null,
            "_model_module": "@jupyter-widgets/controls",
            "layout": "IPY_MODEL_ff63024d844b45da93359856be034df1"
          }
        },
        "c08e970dfbb44a29af9c3941e195bad0": {
          "model_module": "@jupyter-widgets/controls",
          "model_name": "DescriptionStyleModel",
          "model_module_version": "1.5.0",
          "state": {
            "_view_name": "StyleView",
            "_model_name": "DescriptionStyleModel",
            "description_width": "",
            "_view_module": "@jupyter-widgets/base",
            "_model_module_version": "1.5.0",
            "_view_count": null,
            "_view_module_version": "1.2.0",
            "_model_module": "@jupyter-widgets/controls"
          }
        },
        "00c1e9a5466c43729b5b25780b60f0ce": {
          "model_module": "@jupyter-widgets/base",
          "model_name": "LayoutModel",
          "model_module_version": "1.2.0",
          "state": {
            "_view_name": "LayoutView",
            "grid_template_rows": null,
            "right": null,
            "justify_content": null,
            "_view_module": "@jupyter-widgets/base",
            "overflow": null,
            "_model_module_version": "1.2.0",
            "_view_count": null,
            "flex_flow": null,
            "width": null,
            "min_width": null,
            "border": null,
            "align_items": null,
            "bottom": null,
            "_model_module": "@jupyter-widgets/base",
            "top": null,
            "grid_column": null,
            "overflow_y": null,
            "overflow_x": null,
            "grid_auto_flow": null,
            "grid_area": null,
            "grid_template_columns": null,
            "flex": null,
            "_model_name": "LayoutModel",
            "justify_items": null,
            "grid_row": null,
            "max_height": null,
            "align_content": null,
            "visibility": null,
            "align_self": null,
            "height": null,
            "min_height": null,
            "padding": null,
            "grid_auto_rows": null,
            "grid_gap": null,
            "max_width": null,
            "order": null,
            "_view_module_version": "1.2.0",
            "grid_template_areas": null,
            "object_position": null,
            "object_fit": null,
            "grid_auto_columns": null,
            "margin": null,
            "display": null,
            "left": null
          }
        },
        "eed9b16596ac45ca80f0e6177e3e2741": {
          "model_module": "@jupyter-widgets/controls",
          "model_name": "ProgressStyleModel",
          "model_module_version": "1.5.0",
          "state": {
            "_view_name": "StyleView",
            "_model_name": "ProgressStyleModel",
            "description_width": "",
            "_view_module": "@jupyter-widgets/base",
            "_model_module_version": "1.5.0",
            "_view_count": null,
            "_view_module_version": "1.2.0",
            "bar_color": null,
            "_model_module": "@jupyter-widgets/controls"
          }
        },
        "65b9e912a96347c4a3e36dcd9b86c4cd": {
          "model_module": "@jupyter-widgets/base",
          "model_name": "LayoutModel",
          "model_module_version": "1.2.0",
          "state": {
            "_view_name": "LayoutView",
            "grid_template_rows": null,
            "right": null,
            "justify_content": null,
            "_view_module": "@jupyter-widgets/base",
            "overflow": null,
            "_model_module_version": "1.2.0",
            "_view_count": null,
            "flex_flow": null,
            "width": null,
            "min_width": null,
            "border": null,
            "align_items": null,
            "bottom": null,
            "_model_module": "@jupyter-widgets/base",
            "top": null,
            "grid_column": null,
            "overflow_y": null,
            "overflow_x": null,
            "grid_auto_flow": null,
            "grid_area": null,
            "grid_template_columns": null,
            "flex": null,
            "_model_name": "LayoutModel",
            "justify_items": null,
            "grid_row": null,
            "max_height": null,
            "align_content": null,
            "visibility": null,
            "align_self": null,
            "height": null,
            "min_height": null,
            "padding": null,
            "grid_auto_rows": null,
            "grid_gap": null,
            "max_width": null,
            "order": null,
            "_view_module_version": "1.2.0",
            "grid_template_areas": null,
            "object_position": null,
            "object_fit": null,
            "grid_auto_columns": null,
            "margin": null,
            "display": null,
            "left": null
          }
        },
        "98f53a90e889439bb426b6d3a3988f05": {
          "model_module": "@jupyter-widgets/controls",
          "model_name": "DescriptionStyleModel",
          "model_module_version": "1.5.0",
          "state": {
            "_view_name": "StyleView",
            "_model_name": "DescriptionStyleModel",
            "description_width": "",
            "_view_module": "@jupyter-widgets/base",
            "_model_module_version": "1.5.0",
            "_view_count": null,
            "_view_module_version": "1.2.0",
            "_model_module": "@jupyter-widgets/controls"
          }
        },
        "ff63024d844b45da93359856be034df1": {
          "model_module": "@jupyter-widgets/base",
          "model_name": "LayoutModel",
          "model_module_version": "1.2.0",
          "state": {
            "_view_name": "LayoutView",
            "grid_template_rows": null,
            "right": null,
            "justify_content": null,
            "_view_module": "@jupyter-widgets/base",
            "overflow": null,
            "_model_module_version": "1.2.0",
            "_view_count": null,
            "flex_flow": null,
            "width": null,
            "min_width": null,
            "border": null,
            "align_items": null,
            "bottom": null,
            "_model_module": "@jupyter-widgets/base",
            "top": null,
            "grid_column": null,
            "overflow_y": null,
            "overflow_x": null,
            "grid_auto_flow": null,
            "grid_area": null,
            "grid_template_columns": null,
            "flex": null,
            "_model_name": "LayoutModel",
            "justify_items": null,
            "grid_row": null,
            "max_height": null,
            "align_content": null,
            "visibility": null,
            "align_self": null,
            "height": null,
            "min_height": null,
            "padding": null,
            "grid_auto_rows": null,
            "grid_gap": null,
            "max_width": null,
            "order": null,
            "_view_module_version": "1.2.0",
            "grid_template_areas": null,
            "object_position": null,
            "object_fit": null,
            "grid_auto_columns": null,
            "margin": null,
            "display": null,
            "left": null
          }
        }
      }
    }
  },
  "cells": [
    {
      "cell_type": "code",
      "metadata": {
        "colab": {
          "base_uri": "https://localhost:8080/",
          "height": 0
        },
        "id": "xLjzQgNxfcCB",
        "outputId": "72ed3751-0b01-46d0-c4a8-6988d91aa843"
      },
      "source": [
        "from google.colab import drive\n",
        "drive.mount('/content/drive')"
      ],
      "execution_count": 129,
      "outputs": [
        {
          "output_type": "stream",
          "name": "stdout",
          "text": [
            "Drive already mounted at /content/drive; to attempt to forcibly remount, call drive.mount(\"/content/drive\", force_remount=True).\n"
          ]
        }
      ]
    },
    {
      "cell_type": "code",
      "metadata": {
        "colab": {
          "base_uri": "https://localhost:8080/",
          "height": 0
        },
        "id": "kODwwo0GRsIZ",
        "outputId": "a8ae948f-15b1-4708-ccf8-aab3d11dd4ec"
      },
      "source": [
        "pip install tqdm"
      ],
      "execution_count": 130,
      "outputs": [
        {
          "output_type": "stream",
          "name": "stdout",
          "text": [
            "Requirement already satisfied: tqdm in /usr/local/lib/python3.7/dist-packages (4.62.3)\n"
          ]
        }
      ]
    },
    {
      "cell_type": "code",
      "metadata": {
        "id": "b9ge4GqvR7mL"
      },
      "source": [
        "from tqdm.notebook import tqdm"
      ],
      "execution_count": 131,
      "outputs": []
    },
    {
      "cell_type": "code",
      "metadata": {
        "colab": {
          "base_uri": "https://localhost:8080/",
          "height": 0
        },
        "id": "jVQA-Fojflke",
        "outputId": "963aae7a-3547-402f-f942-3967e458c82b"
      },
      "source": [
        "cd /content/drive/MyDrive/Recommender Systems/ml-latest-small/ml-latest-small"
      ],
      "execution_count": 132,
      "outputs": [
        {
          "output_type": "stream",
          "name": "stdout",
          "text": [
            "/content/drive/MyDrive/Recommender Systems/ml-latest-small/ml-latest-small\n"
          ]
        }
      ]
    },
    {
      "cell_type": "code",
      "metadata": {
        "colab": {
          "base_uri": "https://localhost:8080/",
          "height": 0
        },
        "id": "05AeOQiyfucA",
        "outputId": "67330b26-4a62-4b38-c3b0-e416b55fcddc"
      },
      "source": [
        "ls"
      ],
      "execution_count": 133,
      "outputs": [
        {
          "output_type": "stream",
          "name": "stdout",
          "text": [
            "links.csv  movies.csv  ratings.csv  README.txt  tags.csv\n"
          ]
        }
      ]
    },
    {
      "cell_type": "code",
      "metadata": {
        "id": "3vsGFCoQfwo_"
      },
      "source": [
        "import pandas as pd\n",
        "from math import sqrt\n",
        "import numpy as np\n",
        "import matplotlib.pyplot as plt\n",
        "import statistics \n",
        "%matplotlib inline"
      ],
      "execution_count": 134,
      "outputs": []
    },
    {
      "cell_type": "code",
      "metadata": {
        "id": "AQm42XQ0fzEK"
      },
      "source": [
        "df_movies = pd.read_csv('movies.csv')\n",
        "df_ratings = pd.read_csv('ratings.csv')"
      ],
      "execution_count": 135,
      "outputs": []
    },
    {
      "cell_type": "code",
      "metadata": {
        "colab": {
          "base_uri": "https://localhost:8080/",
          "height": 424
        },
        "id": "7yFeviKzf1Dm",
        "outputId": "066db5a9-7bd0-4a57-9fc2-63e0b4fd8c27"
      },
      "source": [
        "df_ratings.groupby(['userId']).size().reset_index(name='counts').sort_values(by='counts', ascending=False)"
      ],
      "execution_count": 136,
      "outputs": [
        {
          "output_type": "execute_result",
          "data": {
            "text/html": [
              "<div>\n",
              "<style scoped>\n",
              "    .dataframe tbody tr th:only-of-type {\n",
              "        vertical-align: middle;\n",
              "    }\n",
              "\n",
              "    .dataframe tbody tr th {\n",
              "        vertical-align: top;\n",
              "    }\n",
              "\n",
              "    .dataframe thead th {\n",
              "        text-align: right;\n",
              "    }\n",
              "</style>\n",
              "<table border=\"1\" class=\"dataframe\">\n",
              "  <thead>\n",
              "    <tr style=\"text-align: right;\">\n",
              "      <th></th>\n",
              "      <th>userId</th>\n",
              "      <th>counts</th>\n",
              "    </tr>\n",
              "  </thead>\n",
              "  <tbody>\n",
              "    <tr>\n",
              "      <th>413</th>\n",
              "      <td>414</td>\n",
              "      <td>2698</td>\n",
              "    </tr>\n",
              "    <tr>\n",
              "      <th>598</th>\n",
              "      <td>599</td>\n",
              "      <td>2478</td>\n",
              "    </tr>\n",
              "    <tr>\n",
              "      <th>473</th>\n",
              "      <td>474</td>\n",
              "      <td>2108</td>\n",
              "    </tr>\n",
              "    <tr>\n",
              "      <th>447</th>\n",
              "      <td>448</td>\n",
              "      <td>1864</td>\n",
              "    </tr>\n",
              "    <tr>\n",
              "      <th>273</th>\n",
              "      <td>274</td>\n",
              "      <td>1346</td>\n",
              "    </tr>\n",
              "    <tr>\n",
              "      <th>...</th>\n",
              "      <td>...</td>\n",
              "      <td>...</td>\n",
              "    </tr>\n",
              "    <tr>\n",
              "      <th>441</th>\n",
              "      <td>442</td>\n",
              "      <td>20</td>\n",
              "    </tr>\n",
              "    <tr>\n",
              "      <th>568</th>\n",
              "      <td>569</td>\n",
              "      <td>20</td>\n",
              "    </tr>\n",
              "    <tr>\n",
              "      <th>319</th>\n",
              "      <td>320</td>\n",
              "      <td>20</td>\n",
              "    </tr>\n",
              "    <tr>\n",
              "      <th>575</th>\n",
              "      <td>576</td>\n",
              "      <td>20</td>\n",
              "    </tr>\n",
              "    <tr>\n",
              "      <th>52</th>\n",
              "      <td>53</td>\n",
              "      <td>20</td>\n",
              "    </tr>\n",
              "  </tbody>\n",
              "</table>\n",
              "<p>610 rows × 2 columns</p>\n",
              "</div>"
            ],
            "text/plain": [
              "     userId  counts\n",
              "413     414    2698\n",
              "598     599    2478\n",
              "473     474    2108\n",
              "447     448    1864\n",
              "273     274    1346\n",
              "..      ...     ...\n",
              "441     442      20\n",
              "568     569      20\n",
              "319     320      20\n",
              "575     576      20\n",
              "52       53      20\n",
              "\n",
              "[610 rows x 2 columns]"
            ]
          },
          "metadata": {},
          "execution_count": 136
        }
      ]
    },
    {
      "cell_type": "code",
      "metadata": {
        "colab": {
          "base_uri": "https://localhost:8080/",
          "height": 0
        },
        "id": "CRPSHB7Mf1sn",
        "outputId": "c5908775-11f5-4269-a2ac-34cd1d2fc77c"
      },
      "source": [
        "df_ratings.shape[0]"
      ],
      "execution_count": 137,
      "outputs": [
        {
          "output_type": "execute_result",
          "data": {
            "text/plain": [
              "100836"
            ]
          },
          "metadata": {},
          "execution_count": 137
        }
      ]
    },
    {
      "cell_type": "code",
      "metadata": {
        "colab": {
          "base_uri": "https://localhost:8080/",
          "height": 206
        },
        "id": "2WiEUPsuf32a",
        "outputId": "249fa5c5-3b7a-4b64-f424-12f69b312a95"
      },
      "source": [
        "df_movies.head()"
      ],
      "execution_count": 138,
      "outputs": [
        {
          "output_type": "execute_result",
          "data": {
            "text/html": [
              "<div>\n",
              "<style scoped>\n",
              "    .dataframe tbody tr th:only-of-type {\n",
              "        vertical-align: middle;\n",
              "    }\n",
              "\n",
              "    .dataframe tbody tr th {\n",
              "        vertical-align: top;\n",
              "    }\n",
              "\n",
              "    .dataframe thead th {\n",
              "        text-align: right;\n",
              "    }\n",
              "</style>\n",
              "<table border=\"1\" class=\"dataframe\">\n",
              "  <thead>\n",
              "    <tr style=\"text-align: right;\">\n",
              "      <th></th>\n",
              "      <th>movieId</th>\n",
              "      <th>title</th>\n",
              "      <th>genres</th>\n",
              "    </tr>\n",
              "  </thead>\n",
              "  <tbody>\n",
              "    <tr>\n",
              "      <th>0</th>\n",
              "      <td>1</td>\n",
              "      <td>Toy Story (1995)</td>\n",
              "      <td>Adventure|Animation|Children|Comedy|Fantasy</td>\n",
              "    </tr>\n",
              "    <tr>\n",
              "      <th>1</th>\n",
              "      <td>2</td>\n",
              "      <td>Jumanji (1995)</td>\n",
              "      <td>Adventure|Children|Fantasy</td>\n",
              "    </tr>\n",
              "    <tr>\n",
              "      <th>2</th>\n",
              "      <td>3</td>\n",
              "      <td>Grumpier Old Men (1995)</td>\n",
              "      <td>Comedy|Romance</td>\n",
              "    </tr>\n",
              "    <tr>\n",
              "      <th>3</th>\n",
              "      <td>4</td>\n",
              "      <td>Waiting to Exhale (1995)</td>\n",
              "      <td>Comedy|Drama|Romance</td>\n",
              "    </tr>\n",
              "    <tr>\n",
              "      <th>4</th>\n",
              "      <td>5</td>\n",
              "      <td>Father of the Bride Part II (1995)</td>\n",
              "      <td>Comedy</td>\n",
              "    </tr>\n",
              "  </tbody>\n",
              "</table>\n",
              "</div>"
            ],
            "text/plain": [
              "   movieId  ...                                       genres\n",
              "0        1  ...  Adventure|Animation|Children|Comedy|Fantasy\n",
              "1        2  ...                   Adventure|Children|Fantasy\n",
              "2        3  ...                               Comedy|Romance\n",
              "3        4  ...                         Comedy|Drama|Romance\n",
              "4        5  ...                                       Comedy\n",
              "\n",
              "[5 rows x 3 columns]"
            ]
          },
          "metadata": {},
          "execution_count": 138
        }
      ]
    },
    {
      "cell_type": "code",
      "metadata": {
        "id": "f-xoULYZf6Z-"
      },
      "source": [
        "df_movies['year'] = df_movies.title.str.slice(-5,-1)"
      ],
      "execution_count": 139,
      "outputs": []
    },
    {
      "cell_type": "code",
      "metadata": {
        "colab": {
          "base_uri": "https://localhost:8080/",
          "height": 206
        },
        "id": "K2oOXH3hf6QE",
        "outputId": "55ffcb19-73ab-4cfe-fb3d-39940e7841aa"
      },
      "source": [
        "df_movies.head()"
      ],
      "execution_count": 140,
      "outputs": [
        {
          "output_type": "execute_result",
          "data": {
            "text/html": [
              "<div>\n",
              "<style scoped>\n",
              "    .dataframe tbody tr th:only-of-type {\n",
              "        vertical-align: middle;\n",
              "    }\n",
              "\n",
              "    .dataframe tbody tr th {\n",
              "        vertical-align: top;\n",
              "    }\n",
              "\n",
              "    .dataframe thead th {\n",
              "        text-align: right;\n",
              "    }\n",
              "</style>\n",
              "<table border=\"1\" class=\"dataframe\">\n",
              "  <thead>\n",
              "    <tr style=\"text-align: right;\">\n",
              "      <th></th>\n",
              "      <th>movieId</th>\n",
              "      <th>title</th>\n",
              "      <th>genres</th>\n",
              "      <th>year</th>\n",
              "    </tr>\n",
              "  </thead>\n",
              "  <tbody>\n",
              "    <tr>\n",
              "      <th>0</th>\n",
              "      <td>1</td>\n",
              "      <td>Toy Story (1995)</td>\n",
              "      <td>Adventure|Animation|Children|Comedy|Fantasy</td>\n",
              "      <td>1995</td>\n",
              "    </tr>\n",
              "    <tr>\n",
              "      <th>1</th>\n",
              "      <td>2</td>\n",
              "      <td>Jumanji (1995)</td>\n",
              "      <td>Adventure|Children|Fantasy</td>\n",
              "      <td>1995</td>\n",
              "    </tr>\n",
              "    <tr>\n",
              "      <th>2</th>\n",
              "      <td>3</td>\n",
              "      <td>Grumpier Old Men (1995)</td>\n",
              "      <td>Comedy|Romance</td>\n",
              "      <td>1995</td>\n",
              "    </tr>\n",
              "    <tr>\n",
              "      <th>3</th>\n",
              "      <td>4</td>\n",
              "      <td>Waiting to Exhale (1995)</td>\n",
              "      <td>Comedy|Drama|Romance</td>\n",
              "      <td>1995</td>\n",
              "    </tr>\n",
              "    <tr>\n",
              "      <th>4</th>\n",
              "      <td>5</td>\n",
              "      <td>Father of the Bride Part II (1995)</td>\n",
              "      <td>Comedy</td>\n",
              "      <td>1995</td>\n",
              "    </tr>\n",
              "  </tbody>\n",
              "</table>\n",
              "</div>"
            ],
            "text/plain": [
              "   movieId  ...  year\n",
              "0        1  ...  1995\n",
              "1        2  ...  1995\n",
              "2        3  ...  1995\n",
              "3        4  ...  1995\n",
              "4        5  ...  1995\n",
              "\n",
              "[5 rows x 4 columns]"
            ]
          },
          "metadata": {},
          "execution_count": 140
        }
      ]
    },
    {
      "cell_type": "code",
      "metadata": {
        "id": "dV1JE8CBf6Jg"
      },
      "source": [
        "df_movies.title = df_movies.title.str.replace('\\(\\d\\d\\d\\d\\)',\"\")"
      ],
      "execution_count": 141,
      "outputs": []
    },
    {
      "cell_type": "code",
      "metadata": {
        "colab": {
          "base_uri": "https://localhost:8080/",
          "height": 677
        },
        "id": "3iinJ3nVf5_5",
        "outputId": "09a04389-0b6f-4859-eb28-2a5b6ff93011"
      },
      "source": [
        "df_movies.head(n=20)"
      ],
      "execution_count": 142,
      "outputs": [
        {
          "output_type": "execute_result",
          "data": {
            "text/html": [
              "<div>\n",
              "<style scoped>\n",
              "    .dataframe tbody tr th:only-of-type {\n",
              "        vertical-align: middle;\n",
              "    }\n",
              "\n",
              "    .dataframe tbody tr th {\n",
              "        vertical-align: top;\n",
              "    }\n",
              "\n",
              "    .dataframe thead th {\n",
              "        text-align: right;\n",
              "    }\n",
              "</style>\n",
              "<table border=\"1\" class=\"dataframe\">\n",
              "  <thead>\n",
              "    <tr style=\"text-align: right;\">\n",
              "      <th></th>\n",
              "      <th>movieId</th>\n",
              "      <th>title</th>\n",
              "      <th>genres</th>\n",
              "      <th>year</th>\n",
              "    </tr>\n",
              "  </thead>\n",
              "  <tbody>\n",
              "    <tr>\n",
              "      <th>0</th>\n",
              "      <td>1</td>\n",
              "      <td>Toy Story</td>\n",
              "      <td>Adventure|Animation|Children|Comedy|Fantasy</td>\n",
              "      <td>1995</td>\n",
              "    </tr>\n",
              "    <tr>\n",
              "      <th>1</th>\n",
              "      <td>2</td>\n",
              "      <td>Jumanji</td>\n",
              "      <td>Adventure|Children|Fantasy</td>\n",
              "      <td>1995</td>\n",
              "    </tr>\n",
              "    <tr>\n",
              "      <th>2</th>\n",
              "      <td>3</td>\n",
              "      <td>Grumpier Old Men</td>\n",
              "      <td>Comedy|Romance</td>\n",
              "      <td>1995</td>\n",
              "    </tr>\n",
              "    <tr>\n",
              "      <th>3</th>\n",
              "      <td>4</td>\n",
              "      <td>Waiting to Exhale</td>\n",
              "      <td>Comedy|Drama|Romance</td>\n",
              "      <td>1995</td>\n",
              "    </tr>\n",
              "    <tr>\n",
              "      <th>4</th>\n",
              "      <td>5</td>\n",
              "      <td>Father of the Bride Part II</td>\n",
              "      <td>Comedy</td>\n",
              "      <td>1995</td>\n",
              "    </tr>\n",
              "    <tr>\n",
              "      <th>5</th>\n",
              "      <td>6</td>\n",
              "      <td>Heat</td>\n",
              "      <td>Action|Crime|Thriller</td>\n",
              "      <td>1995</td>\n",
              "    </tr>\n",
              "    <tr>\n",
              "      <th>6</th>\n",
              "      <td>7</td>\n",
              "      <td>Sabrina</td>\n",
              "      <td>Comedy|Romance</td>\n",
              "      <td>1995</td>\n",
              "    </tr>\n",
              "    <tr>\n",
              "      <th>7</th>\n",
              "      <td>8</td>\n",
              "      <td>Tom and Huck</td>\n",
              "      <td>Adventure|Children</td>\n",
              "      <td>1995</td>\n",
              "    </tr>\n",
              "    <tr>\n",
              "      <th>8</th>\n",
              "      <td>9</td>\n",
              "      <td>Sudden Death</td>\n",
              "      <td>Action</td>\n",
              "      <td>1995</td>\n",
              "    </tr>\n",
              "    <tr>\n",
              "      <th>9</th>\n",
              "      <td>10</td>\n",
              "      <td>GoldenEye</td>\n",
              "      <td>Action|Adventure|Thriller</td>\n",
              "      <td>1995</td>\n",
              "    </tr>\n",
              "    <tr>\n",
              "      <th>10</th>\n",
              "      <td>11</td>\n",
              "      <td>American President, The</td>\n",
              "      <td>Comedy|Drama|Romance</td>\n",
              "      <td>1995</td>\n",
              "    </tr>\n",
              "    <tr>\n",
              "      <th>11</th>\n",
              "      <td>12</td>\n",
              "      <td>Dracula: Dead and Loving It</td>\n",
              "      <td>Comedy|Horror</td>\n",
              "      <td>1995</td>\n",
              "    </tr>\n",
              "    <tr>\n",
              "      <th>12</th>\n",
              "      <td>13</td>\n",
              "      <td>Balto</td>\n",
              "      <td>Adventure|Animation|Children</td>\n",
              "      <td>1995</td>\n",
              "    </tr>\n",
              "    <tr>\n",
              "      <th>13</th>\n",
              "      <td>14</td>\n",
              "      <td>Nixon</td>\n",
              "      <td>Drama</td>\n",
              "      <td>1995</td>\n",
              "    </tr>\n",
              "    <tr>\n",
              "      <th>14</th>\n",
              "      <td>15</td>\n",
              "      <td>Cutthroat Island</td>\n",
              "      <td>Action|Adventure|Romance</td>\n",
              "      <td>1995</td>\n",
              "    </tr>\n",
              "    <tr>\n",
              "      <th>15</th>\n",
              "      <td>16</td>\n",
              "      <td>Casino</td>\n",
              "      <td>Crime|Drama</td>\n",
              "      <td>1995</td>\n",
              "    </tr>\n",
              "    <tr>\n",
              "      <th>16</th>\n",
              "      <td>17</td>\n",
              "      <td>Sense and Sensibility</td>\n",
              "      <td>Drama|Romance</td>\n",
              "      <td>1995</td>\n",
              "    </tr>\n",
              "    <tr>\n",
              "      <th>17</th>\n",
              "      <td>18</td>\n",
              "      <td>Four Rooms</td>\n",
              "      <td>Comedy</td>\n",
              "      <td>1995</td>\n",
              "    </tr>\n",
              "    <tr>\n",
              "      <th>18</th>\n",
              "      <td>19</td>\n",
              "      <td>Ace Ventura: When Nature Calls</td>\n",
              "      <td>Comedy</td>\n",
              "      <td>1995</td>\n",
              "    </tr>\n",
              "    <tr>\n",
              "      <th>19</th>\n",
              "      <td>20</td>\n",
              "      <td>Money Train</td>\n",
              "      <td>Action|Comedy|Crime|Drama|Thriller</td>\n",
              "      <td>1995</td>\n",
              "    </tr>\n",
              "  </tbody>\n",
              "</table>\n",
              "</div>"
            ],
            "text/plain": [
              "    movieId  ...  year\n",
              "0         1  ...  1995\n",
              "1         2  ...  1995\n",
              "2         3  ...  1995\n",
              "3         4  ...  1995\n",
              "4         5  ...  1995\n",
              "5         6  ...  1995\n",
              "6         7  ...  1995\n",
              "7         8  ...  1995\n",
              "8         9  ...  1995\n",
              "9        10  ...  1995\n",
              "10       11  ...  1995\n",
              "11       12  ...  1995\n",
              "12       13  ...  1995\n",
              "13       14  ...  1995\n",
              "14       15  ...  1995\n",
              "15       16  ...  1995\n",
              "16       17  ...  1995\n",
              "17       18  ...  1995\n",
              "18       19  ...  1995\n",
              "19       20  ...  1995\n",
              "\n",
              "[20 rows x 4 columns]"
            ]
          },
          "metadata": {},
          "execution_count": 142
        }
      ]
    },
    {
      "cell_type": "code",
      "metadata": {
        "id": "v-ixok17f5sZ"
      },
      "source": [
        "#It's time to drop the genre column as we don't need it\n",
        "df_movies.drop('genres', 1, inplace=True)"
      ],
      "execution_count": 143,
      "outputs": []
    },
    {
      "cell_type": "code",
      "metadata": {
        "colab": {
          "base_uri": "https://localhost:8080/",
          "height": 206
        },
        "id": "eT3ZqLFcgGEM",
        "outputId": "70661f54-4363-4ac1-9a1f-1f0b0efc6e6f"
      },
      "source": [
        "df_movies.head()"
      ],
      "execution_count": 144,
      "outputs": [
        {
          "output_type": "execute_result",
          "data": {
            "text/html": [
              "<div>\n",
              "<style scoped>\n",
              "    .dataframe tbody tr th:only-of-type {\n",
              "        vertical-align: middle;\n",
              "    }\n",
              "\n",
              "    .dataframe tbody tr th {\n",
              "        vertical-align: top;\n",
              "    }\n",
              "\n",
              "    .dataframe thead th {\n",
              "        text-align: right;\n",
              "    }\n",
              "</style>\n",
              "<table border=\"1\" class=\"dataframe\">\n",
              "  <thead>\n",
              "    <tr style=\"text-align: right;\">\n",
              "      <th></th>\n",
              "      <th>movieId</th>\n",
              "      <th>title</th>\n",
              "      <th>year</th>\n",
              "    </tr>\n",
              "  </thead>\n",
              "  <tbody>\n",
              "    <tr>\n",
              "      <th>0</th>\n",
              "      <td>1</td>\n",
              "      <td>Toy Story</td>\n",
              "      <td>1995</td>\n",
              "    </tr>\n",
              "    <tr>\n",
              "      <th>1</th>\n",
              "      <td>2</td>\n",
              "      <td>Jumanji</td>\n",
              "      <td>1995</td>\n",
              "    </tr>\n",
              "    <tr>\n",
              "      <th>2</th>\n",
              "      <td>3</td>\n",
              "      <td>Grumpier Old Men</td>\n",
              "      <td>1995</td>\n",
              "    </tr>\n",
              "    <tr>\n",
              "      <th>3</th>\n",
              "      <td>4</td>\n",
              "      <td>Waiting to Exhale</td>\n",
              "      <td>1995</td>\n",
              "    </tr>\n",
              "    <tr>\n",
              "      <th>4</th>\n",
              "      <td>5</td>\n",
              "      <td>Father of the Bride Part II</td>\n",
              "      <td>1995</td>\n",
              "    </tr>\n",
              "  </tbody>\n",
              "</table>\n",
              "</div>"
            ],
            "text/plain": [
              "   movieId                         title  year\n",
              "0        1                    Toy Story   1995\n",
              "1        2                      Jumanji   1995\n",
              "2        3             Grumpier Old Men   1995\n",
              "3        4            Waiting to Exhale   1995\n",
              "4        5  Father of the Bride Part II   1995"
            ]
          },
          "metadata": {},
          "execution_count": 144
        }
      ]
    },
    {
      "cell_type": "code",
      "metadata": {
        "id": "WRGQAd6mgGBf"
      },
      "source": [
        "# Same goes for timestamp column in rating dataframe\n",
        "df_ratings.drop('timestamp', 1, inplace=True)"
      ],
      "execution_count": 145,
      "outputs": []
    },
    {
      "cell_type": "code",
      "metadata": {
        "colab": {
          "base_uri": "https://localhost:8080/",
          "height": 0
        },
        "id": "q9WDVZCqgF-n",
        "outputId": "7843e2f1-f0f0-4ed5-b8ea-3fc98b09aaa3"
      },
      "source": [
        "df_ratings.shape"
      ],
      "execution_count": 146,
      "outputs": [
        {
          "output_type": "execute_result",
          "data": {
            "text/plain": [
              "(100836, 3)"
            ]
          },
          "metadata": {},
          "execution_count": 146
        }
      ]
    },
    {
      "cell_type": "code",
      "metadata": {
        "colab": {
          "base_uri": "https://localhost:8080/",
          "height": 424
        },
        "id": "u0otyMyCjyv5",
        "outputId": "07d365cf-433f-4ddc-f8ac-333944bf374f"
      },
      "source": [
        "df_ratings"
      ],
      "execution_count": 147,
      "outputs": [
        {
          "output_type": "execute_result",
          "data": {
            "text/html": [
              "<div>\n",
              "<style scoped>\n",
              "    .dataframe tbody tr th:only-of-type {\n",
              "        vertical-align: middle;\n",
              "    }\n",
              "\n",
              "    .dataframe tbody tr th {\n",
              "        vertical-align: top;\n",
              "    }\n",
              "\n",
              "    .dataframe thead th {\n",
              "        text-align: right;\n",
              "    }\n",
              "</style>\n",
              "<table border=\"1\" class=\"dataframe\">\n",
              "  <thead>\n",
              "    <tr style=\"text-align: right;\">\n",
              "      <th></th>\n",
              "      <th>userId</th>\n",
              "      <th>movieId</th>\n",
              "      <th>rating</th>\n",
              "    </tr>\n",
              "  </thead>\n",
              "  <tbody>\n",
              "    <tr>\n",
              "      <th>0</th>\n",
              "      <td>1</td>\n",
              "      <td>1</td>\n",
              "      <td>4.0</td>\n",
              "    </tr>\n",
              "    <tr>\n",
              "      <th>1</th>\n",
              "      <td>1</td>\n",
              "      <td>3</td>\n",
              "      <td>4.0</td>\n",
              "    </tr>\n",
              "    <tr>\n",
              "      <th>2</th>\n",
              "      <td>1</td>\n",
              "      <td>6</td>\n",
              "      <td>4.0</td>\n",
              "    </tr>\n",
              "    <tr>\n",
              "      <th>3</th>\n",
              "      <td>1</td>\n",
              "      <td>47</td>\n",
              "      <td>5.0</td>\n",
              "    </tr>\n",
              "    <tr>\n",
              "      <th>4</th>\n",
              "      <td>1</td>\n",
              "      <td>50</td>\n",
              "      <td>5.0</td>\n",
              "    </tr>\n",
              "    <tr>\n",
              "      <th>...</th>\n",
              "      <td>...</td>\n",
              "      <td>...</td>\n",
              "      <td>...</td>\n",
              "    </tr>\n",
              "    <tr>\n",
              "      <th>100831</th>\n",
              "      <td>610</td>\n",
              "      <td>166534</td>\n",
              "      <td>4.0</td>\n",
              "    </tr>\n",
              "    <tr>\n",
              "      <th>100832</th>\n",
              "      <td>610</td>\n",
              "      <td>168248</td>\n",
              "      <td>5.0</td>\n",
              "    </tr>\n",
              "    <tr>\n",
              "      <th>100833</th>\n",
              "      <td>610</td>\n",
              "      <td>168250</td>\n",
              "      <td>5.0</td>\n",
              "    </tr>\n",
              "    <tr>\n",
              "      <th>100834</th>\n",
              "      <td>610</td>\n",
              "      <td>168252</td>\n",
              "      <td>5.0</td>\n",
              "    </tr>\n",
              "    <tr>\n",
              "      <th>100835</th>\n",
              "      <td>610</td>\n",
              "      <td>170875</td>\n",
              "      <td>3.0</td>\n",
              "    </tr>\n",
              "  </tbody>\n",
              "</table>\n",
              "<p>100836 rows × 3 columns</p>\n",
              "</div>"
            ],
            "text/plain": [
              "        userId  movieId  rating\n",
              "0            1        1     4.0\n",
              "1            1        3     4.0\n",
              "2            1        6     4.0\n",
              "3            1       47     5.0\n",
              "4            1       50     5.0\n",
              "...        ...      ...     ...\n",
              "100831     610   166534     4.0\n",
              "100832     610   168248     5.0\n",
              "100833     610   168250     5.0\n",
              "100834     610   168252     5.0\n",
              "100835     610   170875     3.0\n",
              "\n",
              "[100836 rows x 3 columns]"
            ]
          },
          "metadata": {},
          "execution_count": 147
        }
      ]
    },
    {
      "cell_type": "markdown",
      "metadata": {
        "id": "7j-9vvQ_gVau"
      },
      "source": [
        "## ***GROUP RECOMMENDATIONS***"
      ]
    },
    {
      "cell_type": "code",
      "metadata": {
        "id": "VCbE9PD6gcH4"
      },
      "source": [
        "group_of_users = [414, 599, 474]"
      ],
      "execution_count": 148,
      "outputs": []
    },
    {
      "cell_type": "code",
      "metadata": {
        "colab": {
          "base_uri": "https://localhost:8080/",
          "height": 424
        },
        "id": "5doTBtDFgF7-",
        "outputId": "e2d31d3d-fc46-4a84-ca37-e0cfb75edfb9"
      },
      "source": [
        "df_ratings.loc[df_ratings['userId'].isin(group_of_users)]"
      ],
      "execution_count": 149,
      "outputs": [
        {
          "output_type": "execute_result",
          "data": {
            "text/html": [
              "<div>\n",
              "<style scoped>\n",
              "    .dataframe tbody tr th:only-of-type {\n",
              "        vertical-align: middle;\n",
              "    }\n",
              "\n",
              "    .dataframe tbody tr th {\n",
              "        vertical-align: top;\n",
              "    }\n",
              "\n",
              "    .dataframe thead th {\n",
              "        text-align: right;\n",
              "    }\n",
              "</style>\n",
              "<table border=\"1\" class=\"dataframe\">\n",
              "  <thead>\n",
              "    <tr style=\"text-align: right;\">\n",
              "      <th></th>\n",
              "      <th>userId</th>\n",
              "      <th>movieId</th>\n",
              "      <th>rating</th>\n",
              "    </tr>\n",
              "  </thead>\n",
              "  <tbody>\n",
              "    <tr>\n",
              "      <th>62294</th>\n",
              "      <td>414</td>\n",
              "      <td>1</td>\n",
              "      <td>4.0</td>\n",
              "    </tr>\n",
              "    <tr>\n",
              "      <th>62295</th>\n",
              "      <td>414</td>\n",
              "      <td>2</td>\n",
              "      <td>3.0</td>\n",
              "    </tr>\n",
              "    <tr>\n",
              "      <th>62296</th>\n",
              "      <td>414</td>\n",
              "      <td>3</td>\n",
              "      <td>4.0</td>\n",
              "    </tr>\n",
              "    <tr>\n",
              "      <th>62297</th>\n",
              "      <td>414</td>\n",
              "      <td>5</td>\n",
              "      <td>2.0</td>\n",
              "    </tr>\n",
              "    <tr>\n",
              "      <th>62298</th>\n",
              "      <td>414</td>\n",
              "      <td>6</td>\n",
              "      <td>3.0</td>\n",
              "    </tr>\n",
              "    <tr>\n",
              "      <th>...</th>\n",
              "      <td>...</td>\n",
              "      <td>...</td>\n",
              "      <td>...</td>\n",
              "    </tr>\n",
              "    <tr>\n",
              "      <th>95096</th>\n",
              "      <td>599</td>\n",
              "      <td>179817</td>\n",
              "      <td>3.0</td>\n",
              "    </tr>\n",
              "    <tr>\n",
              "      <th>95097</th>\n",
              "      <td>599</td>\n",
              "      <td>180031</td>\n",
              "      <td>3.5</td>\n",
              "    </tr>\n",
              "    <tr>\n",
              "      <th>95098</th>\n",
              "      <td>599</td>\n",
              "      <td>180297</td>\n",
              "      <td>3.0</td>\n",
              "    </tr>\n",
              "    <tr>\n",
              "      <th>95099</th>\n",
              "      <td>599</td>\n",
              "      <td>181315</td>\n",
              "      <td>3.5</td>\n",
              "    </tr>\n",
              "    <tr>\n",
              "      <th>95100</th>\n",
              "      <td>599</td>\n",
              "      <td>183301</td>\n",
              "      <td>3.0</td>\n",
              "    </tr>\n",
              "  </tbody>\n",
              "</table>\n",
              "<p>7284 rows × 3 columns</p>\n",
              "</div>"
            ],
            "text/plain": [
              "       userId  movieId  rating\n",
              "62294     414        1     4.0\n",
              "62295     414        2     3.0\n",
              "62296     414        3     4.0\n",
              "62297     414        5     2.0\n",
              "62298     414        6     3.0\n",
              "...       ...      ...     ...\n",
              "95096     599   179817     3.0\n",
              "95097     599   180031     3.5\n",
              "95098     599   180297     3.0\n",
              "95099     599   181315     3.5\n",
              "95100     599   183301     3.0\n",
              "\n",
              "[7284 rows x 3 columns]"
            ]
          },
          "metadata": {},
          "execution_count": 149
        }
      ]
    },
    {
      "cell_type": "code",
      "metadata": {
        "id": "rjFgRfc1gF5P"
      },
      "source": [
        "df_group = df_ratings.loc[df_ratings['userId'].isin(group_of_users)]"
      ],
      "execution_count": 150,
      "outputs": []
    },
    {
      "cell_type": "code",
      "metadata": {
        "colab": {
          "base_uri": "https://localhost:8080/",
          "height": 424
        },
        "id": "yQXz40NCgF2j",
        "outputId": "b4d14a85-ea15-46a6-efec-e5393e92f0e5"
      },
      "source": [
        "df_group"
      ],
      "execution_count": 151,
      "outputs": [
        {
          "output_type": "execute_result",
          "data": {
            "text/html": [
              "<div>\n",
              "<style scoped>\n",
              "    .dataframe tbody tr th:only-of-type {\n",
              "        vertical-align: middle;\n",
              "    }\n",
              "\n",
              "    .dataframe tbody tr th {\n",
              "        vertical-align: top;\n",
              "    }\n",
              "\n",
              "    .dataframe thead th {\n",
              "        text-align: right;\n",
              "    }\n",
              "</style>\n",
              "<table border=\"1\" class=\"dataframe\">\n",
              "  <thead>\n",
              "    <tr style=\"text-align: right;\">\n",
              "      <th></th>\n",
              "      <th>userId</th>\n",
              "      <th>movieId</th>\n",
              "      <th>rating</th>\n",
              "    </tr>\n",
              "  </thead>\n",
              "  <tbody>\n",
              "    <tr>\n",
              "      <th>62294</th>\n",
              "      <td>414</td>\n",
              "      <td>1</td>\n",
              "      <td>4.0</td>\n",
              "    </tr>\n",
              "    <tr>\n",
              "      <th>62295</th>\n",
              "      <td>414</td>\n",
              "      <td>2</td>\n",
              "      <td>3.0</td>\n",
              "    </tr>\n",
              "    <tr>\n",
              "      <th>62296</th>\n",
              "      <td>414</td>\n",
              "      <td>3</td>\n",
              "      <td>4.0</td>\n",
              "    </tr>\n",
              "    <tr>\n",
              "      <th>62297</th>\n",
              "      <td>414</td>\n",
              "      <td>5</td>\n",
              "      <td>2.0</td>\n",
              "    </tr>\n",
              "    <tr>\n",
              "      <th>62298</th>\n",
              "      <td>414</td>\n",
              "      <td>6</td>\n",
              "      <td>3.0</td>\n",
              "    </tr>\n",
              "    <tr>\n",
              "      <th>...</th>\n",
              "      <td>...</td>\n",
              "      <td>...</td>\n",
              "      <td>...</td>\n",
              "    </tr>\n",
              "    <tr>\n",
              "      <th>95096</th>\n",
              "      <td>599</td>\n",
              "      <td>179817</td>\n",
              "      <td>3.0</td>\n",
              "    </tr>\n",
              "    <tr>\n",
              "      <th>95097</th>\n",
              "      <td>599</td>\n",
              "      <td>180031</td>\n",
              "      <td>3.5</td>\n",
              "    </tr>\n",
              "    <tr>\n",
              "      <th>95098</th>\n",
              "      <td>599</td>\n",
              "      <td>180297</td>\n",
              "      <td>3.0</td>\n",
              "    </tr>\n",
              "    <tr>\n",
              "      <th>95099</th>\n",
              "      <td>599</td>\n",
              "      <td>181315</td>\n",
              "      <td>3.5</td>\n",
              "    </tr>\n",
              "    <tr>\n",
              "      <th>95100</th>\n",
              "      <td>599</td>\n",
              "      <td>183301</td>\n",
              "      <td>3.0</td>\n",
              "    </tr>\n",
              "  </tbody>\n",
              "</table>\n",
              "<p>7284 rows × 3 columns</p>\n",
              "</div>"
            ],
            "text/plain": [
              "       userId  movieId  rating\n",
              "62294     414        1     4.0\n",
              "62295     414        2     3.0\n",
              "62296     414        3     4.0\n",
              "62297     414        5     2.0\n",
              "62298     414        6     3.0\n",
              "...       ...      ...     ...\n",
              "95096     599   179817     3.0\n",
              "95097     599   180031     3.5\n",
              "95098     599   180297     3.0\n",
              "95099     599   181315     3.5\n",
              "95100     599   183301     3.0\n",
              "\n",
              "[7284 rows x 3 columns]"
            ]
          },
          "metadata": {},
          "execution_count": 151
        }
      ]
    },
    {
      "cell_type": "code",
      "metadata": {
        "id": "kbsIYLzGgF0A"
      },
      "source": [
        "df_group = pd.merge(df_group ,df_movies[df_movies['movieId'].isin(df_group['movieId'])]).drop('year',1)"
      ],
      "execution_count": 152,
      "outputs": []
    },
    {
      "cell_type": "code",
      "metadata": {
        "colab": {
          "base_uri": "https://localhost:8080/",
          "height": 424
        },
        "id": "wqaialKtgFsa",
        "outputId": "cecb9582-8c27-48f4-9a38-5ec68a06206e"
      },
      "source": [
        "df_group"
      ],
      "execution_count": 153,
      "outputs": [
        {
          "output_type": "execute_result",
          "data": {
            "text/html": [
              "<div>\n",
              "<style scoped>\n",
              "    .dataframe tbody tr th:only-of-type {\n",
              "        vertical-align: middle;\n",
              "    }\n",
              "\n",
              "    .dataframe tbody tr th {\n",
              "        vertical-align: top;\n",
              "    }\n",
              "\n",
              "    .dataframe thead th {\n",
              "        text-align: right;\n",
              "    }\n",
              "</style>\n",
              "<table border=\"1\" class=\"dataframe\">\n",
              "  <thead>\n",
              "    <tr style=\"text-align: right;\">\n",
              "      <th></th>\n",
              "      <th>userId</th>\n",
              "      <th>movieId</th>\n",
              "      <th>rating</th>\n",
              "      <th>title</th>\n",
              "    </tr>\n",
              "  </thead>\n",
              "  <tbody>\n",
              "    <tr>\n",
              "      <th>0</th>\n",
              "      <td>414</td>\n",
              "      <td>1</td>\n",
              "      <td>4.0</td>\n",
              "      <td>Toy Story</td>\n",
              "    </tr>\n",
              "    <tr>\n",
              "      <th>1</th>\n",
              "      <td>474</td>\n",
              "      <td>1</td>\n",
              "      <td>4.0</td>\n",
              "      <td>Toy Story</td>\n",
              "    </tr>\n",
              "    <tr>\n",
              "      <th>2</th>\n",
              "      <td>599</td>\n",
              "      <td>1</td>\n",
              "      <td>3.0</td>\n",
              "      <td>Toy Story</td>\n",
              "    </tr>\n",
              "    <tr>\n",
              "      <th>3</th>\n",
              "      <td>414</td>\n",
              "      <td>2</td>\n",
              "      <td>3.0</td>\n",
              "      <td>Jumanji</td>\n",
              "    </tr>\n",
              "    <tr>\n",
              "      <th>4</th>\n",
              "      <td>474</td>\n",
              "      <td>2</td>\n",
              "      <td>3.0</td>\n",
              "      <td>Jumanji</td>\n",
              "    </tr>\n",
              "    <tr>\n",
              "      <th>...</th>\n",
              "      <td>...</td>\n",
              "      <td>...</td>\n",
              "      <td>...</td>\n",
              "      <td>...</td>\n",
              "    </tr>\n",
              "    <tr>\n",
              "      <th>7279</th>\n",
              "      <td>599</td>\n",
              "      <td>178129</td>\n",
              "      <td>3.5</td>\n",
              "      <td>Adventures in Plymptoons!</td>\n",
              "    </tr>\n",
              "    <tr>\n",
              "      <th>7280</th>\n",
              "      <td>599</td>\n",
              "      <td>179053</td>\n",
              "      <td>3.5</td>\n",
              "      <td>2048: Nowhere to Run</td>\n",
              "    </tr>\n",
              "    <tr>\n",
              "      <th>7281</th>\n",
              "      <td>599</td>\n",
              "      <td>180297</td>\n",
              "      <td>3.0</td>\n",
              "      <td>The Disaster Artist</td>\n",
              "    </tr>\n",
              "    <tr>\n",
              "      <th>7282</th>\n",
              "      <td>599</td>\n",
              "      <td>181315</td>\n",
              "      <td>3.5</td>\n",
              "      <td>Phantom Thread</td>\n",
              "    </tr>\n",
              "    <tr>\n",
              "      <th>7283</th>\n",
              "      <td>599</td>\n",
              "      <td>183301</td>\n",
              "      <td>3.0</td>\n",
              "      <td>The Tale of the Bunny Picnic</td>\n",
              "    </tr>\n",
              "  </tbody>\n",
              "</table>\n",
              "<p>7284 rows × 4 columns</p>\n",
              "</div>"
            ],
            "text/plain": [
              "      userId  movieId  rating                          title\n",
              "0        414        1     4.0                     Toy Story \n",
              "1        474        1     4.0                     Toy Story \n",
              "2        599        1     3.0                     Toy Story \n",
              "3        414        2     3.0                       Jumanji \n",
              "4        474        2     3.0                       Jumanji \n",
              "...      ...      ...     ...                            ...\n",
              "7279     599   178129     3.5     Adventures in Plymptoons! \n",
              "7280     599   179053     3.5          2048: Nowhere to Run \n",
              "7281     599   180297     3.0           The Disaster Artist \n",
              "7282     599   181315     3.5                Phantom Thread \n",
              "7283     599   183301     3.0  The Tale of the Bunny Picnic \n",
              "\n",
              "[7284 rows x 4 columns]"
            ]
          },
          "metadata": {},
          "execution_count": 153
        }
      ]
    },
    {
      "cell_type": "code",
      "metadata": {
        "id": "LR_VSZrjgFpT"
      },
      "source": [
        "# looking for those users who have watched the same movies like our users in group\n",
        "\n",
        "similar_users = df_ratings[df_ratings['movieId'].isin(df_group['movieId']).tolist()]\n",
        "similar_users = similar_users[~similar_users.userId.isin(group_of_users)]"
      ],
      "execution_count": 154,
      "outputs": []
    },
    {
      "cell_type": "code",
      "metadata": {
        "colab": {
          "base_uri": "https://localhost:8080/",
          "height": 424
        },
        "id": "lD4xXhU6gFmR",
        "outputId": "2c369dec-cf73-4673-db21-20f1f5f31eea"
      },
      "source": [
        "similar_users"
      ],
      "execution_count": 155,
      "outputs": [
        {
          "output_type": "execute_result",
          "data": {
            "text/html": [
              "<div>\n",
              "<style scoped>\n",
              "    .dataframe tbody tr th:only-of-type {\n",
              "        vertical-align: middle;\n",
              "    }\n",
              "\n",
              "    .dataframe tbody tr th {\n",
              "        vertical-align: top;\n",
              "    }\n",
              "\n",
              "    .dataframe thead th {\n",
              "        text-align: right;\n",
              "    }\n",
              "</style>\n",
              "<table border=\"1\" class=\"dataframe\">\n",
              "  <thead>\n",
              "    <tr style=\"text-align: right;\">\n",
              "      <th></th>\n",
              "      <th>userId</th>\n",
              "      <th>movieId</th>\n",
              "      <th>rating</th>\n",
              "    </tr>\n",
              "  </thead>\n",
              "  <tbody>\n",
              "    <tr>\n",
              "      <th>0</th>\n",
              "      <td>1</td>\n",
              "      <td>1</td>\n",
              "      <td>4.0</td>\n",
              "    </tr>\n",
              "    <tr>\n",
              "      <th>1</th>\n",
              "      <td>1</td>\n",
              "      <td>3</td>\n",
              "      <td>4.0</td>\n",
              "    </tr>\n",
              "    <tr>\n",
              "      <th>2</th>\n",
              "      <td>1</td>\n",
              "      <td>6</td>\n",
              "      <td>4.0</td>\n",
              "    </tr>\n",
              "    <tr>\n",
              "      <th>3</th>\n",
              "      <td>1</td>\n",
              "      <td>47</td>\n",
              "      <td>5.0</td>\n",
              "    </tr>\n",
              "    <tr>\n",
              "      <th>4</th>\n",
              "      <td>1</td>\n",
              "      <td>50</td>\n",
              "      <td>5.0</td>\n",
              "    </tr>\n",
              "    <tr>\n",
              "      <th>...</th>\n",
              "      <td>...</td>\n",
              "      <td>...</td>\n",
              "      <td>...</td>\n",
              "    </tr>\n",
              "    <tr>\n",
              "      <th>100829</th>\n",
              "      <td>610</td>\n",
              "      <td>164179</td>\n",
              "      <td>5.0</td>\n",
              "    </tr>\n",
              "    <tr>\n",
              "      <th>100830</th>\n",
              "      <td>610</td>\n",
              "      <td>166528</td>\n",
              "      <td>4.0</td>\n",
              "    </tr>\n",
              "    <tr>\n",
              "      <th>100832</th>\n",
              "      <td>610</td>\n",
              "      <td>168248</td>\n",
              "      <td>5.0</td>\n",
              "    </tr>\n",
              "    <tr>\n",
              "      <th>100833</th>\n",
              "      <td>610</td>\n",
              "      <td>168250</td>\n",
              "      <td>5.0</td>\n",
              "    </tr>\n",
              "    <tr>\n",
              "      <th>100834</th>\n",
              "      <td>610</td>\n",
              "      <td>168252</td>\n",
              "      <td>5.0</td>\n",
              "    </tr>\n",
              "  </tbody>\n",
              "</table>\n",
              "<p>79465 rows × 3 columns</p>\n",
              "</div>"
            ],
            "text/plain": [
              "        userId  movieId  rating\n",
              "0            1        1     4.0\n",
              "1            1        3     4.0\n",
              "2            1        6     4.0\n",
              "3            1       47     5.0\n",
              "4            1       50     5.0\n",
              "...        ...      ...     ...\n",
              "100829     610   164179     5.0\n",
              "100830     610   166528     4.0\n",
              "100832     610   168248     5.0\n",
              "100833     610   168250     5.0\n",
              "100834     610   168252     5.0\n",
              "\n",
              "[79465 rows x 3 columns]"
            ]
          },
          "metadata": {},
          "execution_count": 155
        }
      ]
    },
    {
      "cell_type": "code",
      "metadata": {
        "id": "DtHcqGv0gFjW"
      },
      "source": [
        "similar_users = similar_users.groupby(['userId'])"
      ],
      "execution_count": 156,
      "outputs": []
    },
    {
      "cell_type": "code",
      "metadata": {
        "id": "DvM7pNPOgFd8"
      },
      "source": [
        "# Most similar user groups sorted\n",
        "similar_users = sorted(similar_users,  key=lambda x: len(x[1]), reverse=True)"
      ],
      "execution_count": 157,
      "outputs": []
    },
    {
      "cell_type": "code",
      "metadata": {
        "id": "TtPQP93JjZpK"
      },
      "source": [
        "def similar_users_fn(user, df_data):\n",
        "    similar_users = df_data[df_data['userId'] == user]\n",
        "    similar_users = df_ratings[df_ratings['movieId'].isin(similar_users['movieId']).tolist()]\n",
        "    similar_users = similar_users[~similar_users.userId.isin([user])]\n",
        "    similar_users = similar_users.groupby(['userId'])\n",
        "    similar_users = sorted(similar_users,  key=lambda x: len(x[1]), reverse=True)\n",
        "    return similar_users"
      ],
      "execution_count": 158,
      "outputs": []
    },
    {
      "cell_type": "code",
      "metadata": {
        "id": "xOsdhYhb8rv_"
      },
      "source": [
        "def pearson_coefficient(user, df_data):\n",
        "  pearson_coff = {}\n",
        "  similar_users = similar_users_fn(user, df_data)\n",
        "  for name, group in similar_users:\n",
        "    #Let's start by sorting the input and current user group so the values aren't mixed up later on\n",
        "    group = group.sort_values(by='movieId')\n",
        "    input_user = df_data[df_data['userId'] == user].sort_values(by='movieId')\n",
        "\n",
        "    total_ratings = len(group)\n",
        "    # Review scores for the movies that they both have in common\n",
        "    temp_df = input_user[input_user['movieId'].isin(group['movieId'].tolist())]\n",
        "    user_in_ques_ratings = temp_df['rating'].tolist()\n",
        "    # Let's choose the simple variable name i.e. 'x'\n",
        "    x = user_in_ques_ratings\n",
        "    x_mean = statistics.mean(x)\n",
        "    x_minus_x_mean = list((i-x_mean for i in x))\n",
        "    x_minus_x_mean_squre = [i*i for i in x_minus_x_mean]\n",
        "    sum_of_x_minus_x_mean_square = sum(x_minus_x_mean_squre)\n",
        "\n",
        "    #Let's also put the current user group reviews in a list format\n",
        "    ratings_of_similar_user = group['rating'].tolist()\n",
        "    # Let's choose the simple variable name i.e. 'y'\n",
        "    y = ratings_of_similar_user\n",
        "    y_mean = statistics.mean(y)\n",
        "    y_minus_y_mean = list((i-y_mean for i in y))\n",
        "    y_minus_y_mean_square = [i*i for i in y_minus_y_mean]\n",
        "    sum_of_y_minus_y_mean_square = sum(y_minus_y_mean_square)\n",
        "\n",
        "    x_minus_x_mean_mul_y_minus_y_mean = (i*j for i,j in zip(x_minus_x_mean, y_minus_y_mean))\n",
        "    sum_of_x_minus_x_mean_mul_y_minus_y_mean = sum(x_minus_x_mean_mul_y_minus_y_mean)\n",
        "\n",
        "\n",
        "    denominator = sqrt(sum_of_x_minus_x_mean_square*sum_of_y_minus_y_mean_square)\n",
        "      \n",
        "    if denominator != 0:\n",
        "      pearson_coff[name] = sum_of_x_minus_x_mean_mul_y_minus_y_mean/denominator\n",
        "    else:\n",
        "      pearson_coff[name] = 0\n",
        "  return pearson_coff"
      ],
      "execution_count": 159,
      "outputs": []
    },
    {
      "cell_type": "markdown",
      "metadata": {
        "id": "seRA_OGnrpsc"
      },
      "source": [
        "## ***Prediction***"
      ]
    },
    {
      "cell_type": "code",
      "metadata": {
        "id": "DRRLitltGOSg"
      },
      "source": [
        "# Function to get the most similar users for the user in question.\n",
        "\n",
        "def get_most_similar_users(user, user_pear_coeff):\n",
        "  df_pearson_coff = pd.DataFrame.from_dict(user_pear_coeff, orient='index')\n",
        "  df_pearson_coff.columns = ['SimilarityIndex']\n",
        "  df_pearson_coff['UserId'] = df_pearson_coff.index\n",
        "  df_pearson_coff.index = range(len(df_pearson_coff))\n",
        "  most_similar_users = df_pearson_coff.sort_values(by='SimilarityIndex', ascending=False)\n",
        "  return most_similar_users"
      ],
      "execution_count": 160,
      "outputs": []
    },
    {
      "cell_type": "code",
      "metadata": {
        "id": "yZGNejXbGFPP"
      },
      "source": [
        "# Function to get the list of movies that are not watched by the user in question but the similar users have watched.\n",
        "\n",
        "def get_list_of_not_seen_movies(user, user_pear_coeff, df_data):\n",
        "  most_similar_users = get_most_similar_users(user, user_pear_coeff)\n",
        "  most_similar_users = most_similar_users.merge(df_ratings, left_on='UserId', right_on='userId', how='inner').drop('userId', 1)\n",
        "  not_seen_movies = most_similar_users[~most_similar_users['movieId'].isin(df_data[df_data['userId'] == user]['movieId'])].sort_values(by='SimilarityIndex', ascending=False)\n",
        "  not_seen_movies.sort_values(by='movieId', inplace=True)\n",
        "  list_of_not_seen_movies = not_seen_movies.movieId.to_list()\n",
        "  set_of_not_seen_movies = set(list_of_not_seen_movies)\n",
        "  unique_list_of_not_seen_movies = list(sorted(set_of_not_seen_movies))\n",
        "  return unique_list_of_not_seen_movies"
      ],
      "execution_count": 161,
      "outputs": []
    },
    {
      "cell_type": "code",
      "metadata": {
        "id": "ahHQ0OWwO-hh"
      },
      "source": [
        "# mean of ratings of users in group\n",
        "def list_mean_ratings(user, df_data):\n",
        "  return (statistics.mean(df_data[df_data['userId'] == user]['rating'].tolist()))\n"
      ],
      "execution_count": 162,
      "outputs": []
    },
    {
      "cell_type": "code",
      "metadata": {
        "id": "TGQQuaGRdUnX"
      },
      "source": [
        "# Function to get the similarity index of all the similar users for the user in question.\n",
        "\n",
        "def get_list_of_sim_index(user, users_watched_movie, user_pear_coeff):\n",
        "  most_similar_users = get_most_similar_users(user, user_pear_coeff)\n",
        "  sim_index = most_similar_users[most_similar_users['UserId'].isin(users_watched_movie)].sort_values(by='UserId')\n",
        "  return sim_index['SimilarityIndex'].to_list()"
      ],
      "execution_count": 163,
      "outputs": []
    },
    {
      "cell_type": "code",
      "metadata": {
        "id": "epL_YYwDq3qZ"
      },
      "source": [
        "# This block of code calculates the prediction score for all the movies that are not watched by the user in a group but similar users have watched these movies.\n",
        "\n",
        "def prediction_of_movies_for_user(user, user_pear_coeff, df_data):\n",
        "  prediction_of_movies = {}\n",
        "  not_seen_movies = get_list_of_not_seen_movies(user, user_pear_coeff, df_data)\n",
        "  for movie in not_seen_movies:\n",
        "    users_watched_movie = df_ratings[df_ratings['movieId'] == int(movie)].sort_values(by='userId')\n",
        "    ratings_of_users_watched_movie = users_watched_movie['rating'].tolist()\n",
        "\n",
        "    mean_of_ratings_users_watched_movie = statistics.mean(ratings_of_users_watched_movie)\n",
        "\n",
        "    list_of_sim_index = get_list_of_sim_index(user, users_watched_movie['userId'].to_list(), user_pear_coeff)\n",
        "\n",
        "    r_bp_minus_mean_of_rb = [i-mean_of_ratings_users_watched_movie for i in ratings_of_users_watched_movie]\n",
        "\n",
        "    temp_numerator = (i*j for i, j in list(zip(list_of_sim_index, r_bp_minus_mean_of_rb)))\n",
        "\n",
        "    sum_temp_numerator = sum(temp_numerator)\n",
        "\n",
        "    numerator_pred = sum_temp_numerator + list_mean_ratings(user, df_data)\n",
        "\n",
        "    if sum(list_of_sim_index) != 0:\n",
        "      prediction_of_movie = numerator_pred/sum(list_of_sim_index)\n",
        "      prediction_of_movies[movie] = prediction_of_movie\n",
        "    else:\n",
        "      prediction_of_movies[movie] = 0\n",
        "  return prediction_of_movies"
      ],
      "execution_count": 164,
      "outputs": []
    },
    {
      "cell_type": "code",
      "metadata": {
        "id": "POe2AlePFZSr"
      },
      "source": [
        "# This preprocessing method will select the id's of movies predicted for all the users or you can say the this method will select the common predicted \n",
        "# movies among the users. For simplicity I am taking 100 movies.\n",
        "def preprocessing(ratings_of_users_in_group_dic):\n",
        "  common_movies_id = set()\n",
        "  movie_ids = []\n",
        "  for user in ratings_of_users_in_group_dic:\n",
        "    df_user = pd.DataFrame.from_dict(ratings_of_users_in_group_dic[user], orient='index')\n",
        "    df_user.columns = ['rating']\n",
        "    df_user['movieId'] = df_user.index\n",
        "    df_user.index = range(len(ratings_of_users_in_group_dic[user]))\n",
        "    movie_ids.append(df_user['movieId'].to_list())\n",
        "  \n",
        "  common_movies_id = set(movie_ids[0])\n",
        "  for li in movie_ids[1:]:\n",
        "    common_movies_id = common_movies_id.intersection(set(li))\n",
        "  return sorted(common_movies_id)"
      ],
      "execution_count": 165,
      "outputs": []
    },
    {
      "cell_type": "markdown",
      "metadata": {
        "id": "puPcsGMC4M1Q"
      },
      "source": [
        "## ***Average Aggregation*** "
      ]
    },
    {
      "cell_type": "code",
      "metadata": {
        "id": "HkypEav7SSig"
      },
      "source": [
        "# This method will take the movie id (predicted movie id from above preprocessing method) and compute the rating for the whole group.\n",
        "def avg_aggregation(predictions_for_users, movie_id):\n",
        "  ratings_given_by_users = []\n",
        "  for user in predictions_for_users:\n",
        "    ratings_given_by_users.append(predictions_for_users[user][movie_id])\n",
        "  return statistics.mean(ratings_given_by_users)"
      ],
      "execution_count": 166,
      "outputs": []
    },
    {
      "cell_type": "markdown",
      "metadata": {
        "id": "QOm6K26Ulkr0"
      },
      "source": [
        "## ***Least Misery Aggregation***"
      ]
    },
    {
      "cell_type": "code",
      "metadata": {
        "id": "gBtQls5WSSfq"
      },
      "source": [
        "# # This method will take the movie id (predicted movie id from above preprocessing method) and compute the rating for the whole group.\n",
        "def least_misery(predictions_for_users, movie_id):\n",
        "  ratings_given_by_users = []\n",
        "  for user in predictions_for_users:\n",
        "    ratings_given_by_users.append((predictions_for_users[user][movie_id]))\n",
        "  return min(ratings_given_by_users)"
      ],
      "execution_count": 167,
      "outputs": []
    },
    {
      "cell_type": "markdown",
      "metadata": {
        "id": "sqnexaZWBgjd"
      },
      "source": [
        "## ***Calculating user satisfaction and group disagreements***"
      ]
    },
    {
      "cell_type": "code",
      "metadata": {
        "id": "jRFgLBki2xUa"
      },
      "source": [
        "def user_satisfaction_fn(user, Gr_list):\n",
        "  df = pd.DataFrame.from_dict(user, orient='index')\n",
        "  df.columns = ['rating']\n",
        "  df['movieId'] = df.index\n",
        "  df.index = range(len(user))\n",
        "  df = df.sort_values(by='rating', ascending=False)\n",
        "  user_top_ratings = df['rating'][:20].to_list()\n",
        "  user_top_ratings_movie_ids = df['movieId'].to_list()\n",
        "  Gr_temp = df[df['movieId'].isin(Gr_list)]\n",
        "  Gr_temp = Gr_temp['rating'].to_list()\n",
        "  return (sum(Gr_temp)/sum(user_top_ratings))"
      ],
      "execution_count": 168,
      "outputs": []
    },
    {
      "cell_type": "markdown",
      "metadata": {
        "id": "-FviWKdsYbec"
      },
      "source": [
        "## ***Produce a group of 3 users, and for this group, show the top-20 recommendations in 5 different sequences, i.e., the 20 movies with the highest prediction scores in 5 rounds, using the MovieLens 100K rating dataset***"
      ]
    },
    {
      "cell_type": "code",
      "metadata": {
        "colab": {
          "base_uri": "https://localhost:8080/",
          "height": 3694,
          "referenced_widgets": [
            "f2272375f3db4dc293cf79cb2ca88984",
            "beaefb505f7b4bdd8733eb0f50be245d",
            "3e87b78e0a874efe8db0fbbb8069c238",
            "3184e351755641d086172ee40cd6f390",
            "806efb117ba64c1fa588eb08e80be1df",
            "c08e970dfbb44a29af9c3941e195bad0",
            "00c1e9a5466c43729b5b25780b60f0ce",
            "eed9b16596ac45ca80f0e6177e3e2741",
            "65b9e912a96347c4a3e36dcd9b86c4cd",
            "98f53a90e889439bb426b6d3a3988f05",
            "ff63024d844b45da93359856be034df1"
          ]
        },
        "id": "A7izG2USISJ0",
        "outputId": "23370cc2-b265-42df-e710-bcb4bb5b018f"
      },
      "source": [
        "from sklearn.preprocessing import MinMaxScaler\n",
        "import numpy as np\n",
        "\n",
        "iterations = 5\n",
        "users_overall_satisfaction = dict()\n",
        "alpha = 0\n",
        "remaining_data = df_group\n",
        "\n",
        "for iter in tqdm(range(1, iterations+1), desc=\"Processing\", unit='keystrokes'):\n",
        "  # print(f\"At iteration {iter} alpha is: \", alpha)\n",
        "  data_chunk = remaining_data.sample(frac=0.2)\n",
        "  remaining_data = remaining_data.drop(data_chunk.index)\n",
        "  predictions_for_users = dict()\n",
        "  user_satisfaction = []\n",
        "  user_top_ratings = []\n",
        "  user_top_ratings_movie_ids = []\n",
        "  Gr_dict = dict()\n",
        "  Gr = []\n",
        "  for user in group_of_users:\n",
        "    predictions_for_users[user] = {}\n",
        "    user_pearson_coeff = pearson_coefficient(user, data_chunk)\n",
        "    predictions_for_users[user] = prediction_of_movies_for_user(user, user_pearson_coeff, data_chunk)\n",
        "    df = pd.DataFrame.from_dict(predictions_for_users[user], orient='index')\n",
        "    df.columns = ['rating']\n",
        "    df['movieId'] = df.index\n",
        "    df.index = range(len(predictions_for_users[user]))\n",
        "    df = df.sort_values(by='rating', ascending=False)\n",
        "    user_top_ratings = df['rating'][:20].to_list()\n",
        "    user_top_ratings_movie_ids = df['movieId'].to_list()\n",
        "  Gl = preprocessing(predictions_for_users) # Movie id's for each user with no repetition, it's basically a set!\n",
        "  if (iter == 1):\n",
        "    alpha = 0\n",
        "    for item in Gl:\n",
        "      Gr_dict[item] = ((1 - alpha) * avg_aggregation(predictions_for_users, item)) + (alpha * least_misery(predictions_for_users, item))\n",
        "    df_temp = pd.DataFrame.from_dict(Gr_dict, orient='index')\n",
        "    df_temp.columns = ['rating']\n",
        "    df_temp['movie id'] = df_temp.index\n",
        "    df_temp.index = range(len(Gr_dict))\n",
        "    df_temp = df_temp.sort_values(by='rating', ascending=False)\n",
        "    Gr = df_temp['movie id'][:20]\n",
        "    for user in group_of_users:\n",
        "      user_satisfaction.append(user_satisfaction_fn(predictions_for_users[user], Gr))\n",
        "    alpha = max(user_satisfaction) - min(user_satisfaction)\n",
        "  else:\n",
        "    for item in Gl:\n",
        "      Gr_dict[item] = ((1 - alpha) * avg_aggregation(predictions_for_users, item)) + (alpha * least_misery(predictions_for_users, item))\n",
        "    df_temp = pd.DataFrame.from_dict(Gr_dict, orient='index')\n",
        "    df_temp.columns = ['rating']\n",
        "    df_temp['movie id'] = df_temp.index\n",
        "    df_temp.index = range(len(Gr_dict))\n",
        "    df_temp = df_temp.sort_values(by='rating', ascending=False)\n",
        "    Gr = df_temp['movie id'][:20]\n",
        "    for user in group_of_users:\n",
        "      user_satisfaction.append(user_satisfaction_fn(predictions_for_users[user], Gr))\n",
        "    alpha = max(user_satisfaction) - min(user_satisfaction)\n",
        "  print(f\"Top 20 recommendations for iteration {iter}\\n\")\n",
        "  df_top = pd.DataFrame.from_dict(Gr_dict, orient='index')\n",
        "  df_top.columns = ['Rating']\n",
        "  df_top['Movie ID'] = df_top.index\n",
        "  df_top.index = range(len(Gr_dict))\n",
        "  df_top['Rating'] = MinMaxScaler(0,5).fit_transform(np.array(df_top['Rating']).reshape(-1,1))\n",
        "  df_top = df_top.sort_values(by='Rating', ascending=False)[:20].style.hide_index()\n",
        "  display(df_top)\n",
        "  print(f\"Iteration {iter} completed successfully!\\n\")"
      ],
      "execution_count": 169,
      "outputs": [
        {
          "output_type": "display_data",
          "data": {
            "application/vnd.jupyter.widget-view+json": {
              "model_id": "f2272375f3db4dc293cf79cb2ca88984",
              "version_minor": 0,
              "version_major": 2
            },
            "text/plain": [
              "Processing:   0%|          | 0/5 [00:00<?, ?keystrokes/s]"
            ]
          },
          "metadata": {}
        },
        {
          "output_type": "stream",
          "name": "stdout",
          "text": [
            "Top 20 recommendations for iteration 1\n",
            "\n"
          ]
        },
        {
          "output_type": "display_data",
          "data": {
            "text/html": [
              "<style  type=\"text/css\" >\n",
              "</style><table id=\"T_fa2bd040_4c61_11ec_86a7_0242ac1c0002\" class=\"dataframe\"><thead>    <tr>        <th class=\"col_heading level0 col0\" >Rating</th>        <th class=\"col_heading level0 col1\" >Movie ID</th>    </tr></thead><tbody>\n",
              "                <tr>\n",
              "                                <td id=\"T_fa2bd040_4c61_11ec_86a7_0242ac1c0002row0_col0\" class=\"data row0 col0\" >4.671059</td>\n",
              "                        <td id=\"T_fa2bd040_4c61_11ec_86a7_0242ac1c0002row0_col1\" class=\"data row0 col1\" >7982</td>\n",
              "            </tr>\n",
              "            <tr>\n",
              "                                <td id=\"T_fa2bd040_4c61_11ec_86a7_0242ac1c0002row1_col0\" class=\"data row1 col0\" >4.600403</td>\n",
              "                        <td id=\"T_fa2bd040_4c61_11ec_86a7_0242ac1c0002row1_col1\" class=\"data row1 col1\" >26778</td>\n",
              "            </tr>\n",
              "            <tr>\n",
              "                                <td id=\"T_fa2bd040_4c61_11ec_86a7_0242ac1c0002row2_col0\" class=\"data row2 col0\" >4.578825</td>\n",
              "                        <td id=\"T_fa2bd040_4c61_11ec_86a7_0242ac1c0002row2_col1\" class=\"data row2 col1\" >3938</td>\n",
              "            </tr>\n",
              "            <tr>\n",
              "                                <td id=\"T_fa2bd040_4c61_11ec_86a7_0242ac1c0002row3_col0\" class=\"data row3 col0\" >4.503297</td>\n",
              "                        <td id=\"T_fa2bd040_4c61_11ec_86a7_0242ac1c0002row3_col1\" class=\"data row3 col1\" >7225</td>\n",
              "            </tr>\n",
              "            <tr>\n",
              "                                <td id=\"T_fa2bd040_4c61_11ec_86a7_0242ac1c0002row4_col0\" class=\"data row4 col0\" >4.498201</td>\n",
              "                        <td id=\"T_fa2bd040_4c61_11ec_86a7_0242ac1c0002row4_col1\" class=\"data row4 col1\" >209</td>\n",
              "            </tr>\n",
              "            <tr>\n",
              "                                <td id=\"T_fa2bd040_4c61_11ec_86a7_0242ac1c0002row5_col0\" class=\"data row5 col0\" >4.387486</td>\n",
              "                        <td id=\"T_fa2bd040_4c61_11ec_86a7_0242ac1c0002row5_col1\" class=\"data row5 col1\" >4862</td>\n",
              "            </tr>\n",
              "            <tr>\n",
              "                                <td id=\"T_fa2bd040_4c61_11ec_86a7_0242ac1c0002row6_col0\" class=\"data row6 col0\" >4.361495</td>\n",
              "                        <td id=\"T_fa2bd040_4c61_11ec_86a7_0242ac1c0002row6_col1\" class=\"data row6 col1\" >5076</td>\n",
              "            </tr>\n",
              "            <tr>\n",
              "                                <td id=\"T_fa2bd040_4c61_11ec_86a7_0242ac1c0002row7_col0\" class=\"data row7 col0\" >4.337741</td>\n",
              "                        <td id=\"T_fa2bd040_4c61_11ec_86a7_0242ac1c0002row7_col1\" class=\"data row7 col1\" >3738</td>\n",
              "            </tr>\n",
              "            <tr>\n",
              "                                <td id=\"T_fa2bd040_4c61_11ec_86a7_0242ac1c0002row8_col0\" class=\"data row8 col0\" >4.282002</td>\n",
              "                        <td id=\"T_fa2bd040_4c61_11ec_86a7_0242ac1c0002row8_col1\" class=\"data row8 col1\" >94018</td>\n",
              "            </tr>\n",
              "            <tr>\n",
              "                                <td id=\"T_fa2bd040_4c61_11ec_86a7_0242ac1c0002row9_col0\" class=\"data row9 col0\" >4.267055</td>\n",
              "                        <td id=\"T_fa2bd040_4c61_11ec_86a7_0242ac1c0002row9_col1\" class=\"data row9 col1\" >80</td>\n",
              "            </tr>\n",
              "            <tr>\n",
              "                                <td id=\"T_fa2bd040_4c61_11ec_86a7_0242ac1c0002row10_col0\" class=\"data row10 col0\" >4.239945</td>\n",
              "                        <td id=\"T_fa2bd040_4c61_11ec_86a7_0242ac1c0002row10_col1\" class=\"data row10 col1\" >1601</td>\n",
              "            </tr>\n",
              "            <tr>\n",
              "                                <td id=\"T_fa2bd040_4c61_11ec_86a7_0242ac1c0002row11_col0\" class=\"data row11 col0\" >4.223723</td>\n",
              "                        <td id=\"T_fa2bd040_4c61_11ec_86a7_0242ac1c0002row11_col1\" class=\"data row11 col1\" >3768</td>\n",
              "            </tr>\n",
              "            <tr>\n",
              "                                <td id=\"T_fa2bd040_4c61_11ec_86a7_0242ac1c0002row12_col0\" class=\"data row12 col0\" >4.210783</td>\n",
              "                        <td id=\"T_fa2bd040_4c61_11ec_86a7_0242ac1c0002row12_col1\" class=\"data row12 col1\" >6966</td>\n",
              "            </tr>\n",
              "            <tr>\n",
              "                                <td id=\"T_fa2bd040_4c61_11ec_86a7_0242ac1c0002row13_col0\" class=\"data row13 col0\" >4.205131</td>\n",
              "                        <td id=\"T_fa2bd040_4c61_11ec_86a7_0242ac1c0002row13_col1\" class=\"data row13 col1\" >5543</td>\n",
              "            </tr>\n",
              "            <tr>\n",
              "                                <td id=\"T_fa2bd040_4c61_11ec_86a7_0242ac1c0002row14_col0\" class=\"data row14 col0\" >4.203640</td>\n",
              "                        <td id=\"T_fa2bd040_4c61_11ec_86a7_0242ac1c0002row14_col1\" class=\"data row14 col1\" >3559</td>\n",
              "            </tr>\n",
              "            <tr>\n",
              "                                <td id=\"T_fa2bd040_4c61_11ec_86a7_0242ac1c0002row15_col0\" class=\"data row15 col0\" >4.193220</td>\n",
              "                        <td id=\"T_fa2bd040_4c61_11ec_86a7_0242ac1c0002row15_col1\" class=\"data row15 col1\" >94015</td>\n",
              "            </tr>\n",
              "            <tr>\n",
              "                                <td id=\"T_fa2bd040_4c61_11ec_86a7_0242ac1c0002row16_col0\" class=\"data row16 col0\" >4.159413</td>\n",
              "                        <td id=\"T_fa2bd040_4c61_11ec_86a7_0242ac1c0002row16_col1\" class=\"data row16 col1\" >2331</td>\n",
              "            </tr>\n",
              "            <tr>\n",
              "                                <td id=\"T_fa2bd040_4c61_11ec_86a7_0242ac1c0002row17_col0\" class=\"data row17 col0\" >4.137332</td>\n",
              "                        <td id=\"T_fa2bd040_4c61_11ec_86a7_0242ac1c0002row17_col1\" class=\"data row17 col1\" >2903</td>\n",
              "            </tr>\n",
              "            <tr>\n",
              "                                <td id=\"T_fa2bd040_4c61_11ec_86a7_0242ac1c0002row18_col0\" class=\"data row18 col0\" >4.129655</td>\n",
              "                        <td id=\"T_fa2bd040_4c61_11ec_86a7_0242ac1c0002row18_col1\" class=\"data row18 col1\" >1798</td>\n",
              "            </tr>\n",
              "            <tr>\n",
              "                                <td id=\"T_fa2bd040_4c61_11ec_86a7_0242ac1c0002row19_col0\" class=\"data row19 col0\" >4.124314</td>\n",
              "                        <td id=\"T_fa2bd040_4c61_11ec_86a7_0242ac1c0002row19_col1\" class=\"data row19 col1\" >3626</td>\n",
              "            </tr>\n",
              "    </tbody></table>"
            ],
            "text/plain": [
              "<pandas.io.formats.style.Styler at 0x7fc3da3e44d0>"
            ]
          },
          "metadata": {}
        },
        {
          "output_type": "stream",
          "name": "stdout",
          "text": [
            "Iteration 1 completed successfully!\n",
            "\n",
            "Top 20 recommendations for iteration 2\n",
            "\n"
          ]
        },
        {
          "output_type": "display_data",
          "data": {
            "text/html": [
              "<style  type=\"text/css\" >\n",
              "</style><table id=\"T_50065c9c_4c62_11ec_86a7_0242ac1c0002\" class=\"dataframe\"><thead>    <tr>        <th class=\"col_heading level0 col0\" >Rating</th>        <th class=\"col_heading level0 col1\" >Movie ID</th>    </tr></thead><tbody>\n",
              "                <tr>\n",
              "                                <td id=\"T_50065c9c_4c62_11ec_86a7_0242ac1c0002row0_col0\" class=\"data row0 col0\" >4.700885</td>\n",
              "                        <td id=\"T_50065c9c_4c62_11ec_86a7_0242ac1c0002row0_col1\" class=\"data row0 col1\" >27865</td>\n",
              "            </tr>\n",
              "            <tr>\n",
              "                                <td id=\"T_50065c9c_4c62_11ec_86a7_0242ac1c0002row1_col0\" class=\"data row1 col0\" >4.635211</td>\n",
              "                        <td id=\"T_50065c9c_4c62_11ec_86a7_0242ac1c0002row1_col1\" class=\"data row1 col1\" >6022</td>\n",
              "            </tr>\n",
              "            <tr>\n",
              "                                <td id=\"T_50065c9c_4c62_11ec_86a7_0242ac1c0002row2_col0\" class=\"data row2 col0\" >4.569098</td>\n",
              "                        <td id=\"T_50065c9c_4c62_11ec_86a7_0242ac1c0002row2_col1\" class=\"data row2 col1\" >567</td>\n",
              "            </tr>\n",
              "            <tr>\n",
              "                                <td id=\"T_50065c9c_4c62_11ec_86a7_0242ac1c0002row3_col0\" class=\"data row3 col0\" >4.358051</td>\n",
              "                        <td id=\"T_50065c9c_4c62_11ec_86a7_0242ac1c0002row3_col1\" class=\"data row3 col1\" >4428</td>\n",
              "            </tr>\n",
              "            <tr>\n",
              "                                <td id=\"T_50065c9c_4c62_11ec_86a7_0242ac1c0002row4_col0\" class=\"data row4 col0\" >4.358051</td>\n",
              "                        <td id=\"T_50065c9c_4c62_11ec_86a7_0242ac1c0002row4_col1\" class=\"data row4 col1\" >3655</td>\n",
              "            </tr>\n",
              "            <tr>\n",
              "                                <td id=\"T_50065c9c_4c62_11ec_86a7_0242ac1c0002row5_col0\" class=\"data row5 col0\" >4.276637</td>\n",
              "                        <td id=\"T_50065c9c_4c62_11ec_86a7_0242ac1c0002row5_col1\" class=\"data row5 col1\" >5707</td>\n",
              "            </tr>\n",
              "            <tr>\n",
              "                                <td id=\"T_50065c9c_4c62_11ec_86a7_0242ac1c0002row6_col0\" class=\"data row6 col0\" >4.219956</td>\n",
              "                        <td id=\"T_50065c9c_4c62_11ec_86a7_0242ac1c0002row6_col1\" class=\"data row6 col1\" >2962</td>\n",
              "            </tr>\n",
              "            <tr>\n",
              "                                <td id=\"T_50065c9c_4c62_11ec_86a7_0242ac1c0002row7_col0\" class=\"data row7 col0\" >4.179942</td>\n",
              "                        <td id=\"T_50065c9c_4c62_11ec_86a7_0242ac1c0002row7_col1\" class=\"data row7 col1\" >6448</td>\n",
              "            </tr>\n",
              "            <tr>\n",
              "                                <td id=\"T_50065c9c_4c62_11ec_86a7_0242ac1c0002row8_col0\" class=\"data row8 col0\" >4.153739</td>\n",
              "                        <td id=\"T_50065c9c_4c62_11ec_86a7_0242ac1c0002row8_col1\" class=\"data row8 col1\" >3834</td>\n",
              "            </tr>\n",
              "            <tr>\n",
              "                                <td id=\"T_50065c9c_4c62_11ec_86a7_0242ac1c0002row9_col0\" class=\"data row9 col0\" >4.135863</td>\n",
              "                        <td id=\"T_50065c9c_4c62_11ec_86a7_0242ac1c0002row9_col1\" class=\"data row9 col1\" >4146</td>\n",
              "            </tr>\n",
              "            <tr>\n",
              "                                <td id=\"T_50065c9c_4c62_11ec_86a7_0242ac1c0002row10_col0\" class=\"data row10 col0\" >4.119250</td>\n",
              "                        <td id=\"T_50065c9c_4c62_11ec_86a7_0242ac1c0002row10_col1\" class=\"data row10 col1\" >4916</td>\n",
              "            </tr>\n",
              "            <tr>\n",
              "                                <td id=\"T_50065c9c_4c62_11ec_86a7_0242ac1c0002row11_col0\" class=\"data row11 col0\" >4.110281</td>\n",
              "                        <td id=\"T_50065c9c_4c62_11ec_86a7_0242ac1c0002row11_col1\" class=\"data row11 col1\" >7820</td>\n",
              "            </tr>\n",
              "            <tr>\n",
              "                                <td id=\"T_50065c9c_4c62_11ec_86a7_0242ac1c0002row12_col0\" class=\"data row12 col0\" >4.085120</td>\n",
              "                        <td id=\"T_50065c9c_4c62_11ec_86a7_0242ac1c0002row12_col1\" class=\"data row12 col1\" >321</td>\n",
              "            </tr>\n",
              "            <tr>\n",
              "                                <td id=\"T_50065c9c_4c62_11ec_86a7_0242ac1c0002row13_col0\" class=\"data row13 col0\" >4.059293</td>\n",
              "                        <td id=\"T_50065c9c_4c62_11ec_86a7_0242ac1c0002row13_col1\" class=\"data row13 col1\" >8405</td>\n",
              "            </tr>\n",
              "            <tr>\n",
              "                                <td id=\"T_50065c9c_4c62_11ec_86a7_0242ac1c0002row14_col0\" class=\"data row14 col0\" >4.023527</td>\n",
              "                        <td id=\"T_50065c9c_4c62_11ec_86a7_0242ac1c0002row14_col1\" class=\"data row14 col1\" >6483</td>\n",
              "            </tr>\n",
              "            <tr>\n",
              "                                <td id=\"T_50065c9c_4c62_11ec_86a7_0242ac1c0002row15_col0\" class=\"data row15 col0\" >4.022653</td>\n",
              "                        <td id=\"T_50065c9c_4c62_11ec_86a7_0242ac1c0002row15_col1\" class=\"data row15 col1\" >363</td>\n",
              "            </tr>\n",
              "            <tr>\n",
              "                                <td id=\"T_50065c9c_4c62_11ec_86a7_0242ac1c0002row16_col0\" class=\"data row16 col0\" >4.021711</td>\n",
              "                        <td id=\"T_50065c9c_4c62_11ec_86a7_0242ac1c0002row16_col1\" class=\"data row16 col1\" >6185</td>\n",
              "            </tr>\n",
              "            <tr>\n",
              "                                <td id=\"T_50065c9c_4c62_11ec_86a7_0242ac1c0002row17_col0\" class=\"data row17 col0\" >4.009995</td>\n",
              "                        <td id=\"T_50065c9c_4c62_11ec_86a7_0242ac1c0002row17_col1\" class=\"data row17 col1\" >5334</td>\n",
              "            </tr>\n",
              "            <tr>\n",
              "                                <td id=\"T_50065c9c_4c62_11ec_86a7_0242ac1c0002row18_col0\" class=\"data row18 col0\" >4.008305</td>\n",
              "                        <td id=\"T_50065c9c_4c62_11ec_86a7_0242ac1c0002row18_col1\" class=\"data row18 col1\" >6530</td>\n",
              "            </tr>\n",
              "            <tr>\n",
              "                                <td id=\"T_50065c9c_4c62_11ec_86a7_0242ac1c0002row19_col0\" class=\"data row19 col0\" >3.994226</td>\n",
              "                        <td id=\"T_50065c9c_4c62_11ec_86a7_0242ac1c0002row19_col1\" class=\"data row19 col1\" >461</td>\n",
              "            </tr>\n",
              "    </tbody></table>"
            ],
            "text/plain": [
              "<pandas.io.formats.style.Styler at 0x7fc3eed6e410>"
            ]
          },
          "metadata": {}
        },
        {
          "output_type": "stream",
          "name": "stdout",
          "text": [
            "Iteration 2 completed successfully!\n",
            "\n",
            "Top 20 recommendations for iteration 3\n",
            "\n"
          ]
        },
        {
          "output_type": "display_data",
          "data": {
            "text/html": [
              "<style  type=\"text/css\" >\n",
              "</style><table id=\"T_a42732b0_4c62_11ec_86a7_0242ac1c0002\" class=\"dataframe\"><thead>    <tr>        <th class=\"col_heading level0 col0\" >Rating</th>        <th class=\"col_heading level0 col1\" >Movie ID</th>    </tr></thead><tbody>\n",
              "                <tr>\n",
              "                                <td id=\"T_a42732b0_4c62_11ec_86a7_0242ac1c0002row0_col0\" class=\"data row0 col0\" >4.716891</td>\n",
              "                        <td id=\"T_a42732b0_4c62_11ec_86a7_0242ac1c0002row0_col1\" class=\"data row0 col1\" >4442</td>\n",
              "            </tr>\n",
              "            <tr>\n",
              "                                <td id=\"T_a42732b0_4c62_11ec_86a7_0242ac1c0002row1_col0\" class=\"data row1 col0\" >4.627736</td>\n",
              "                        <td id=\"T_a42732b0_4c62_11ec_86a7_0242ac1c0002row1_col1\" class=\"data row1 col1\" >6582</td>\n",
              "            </tr>\n",
              "            <tr>\n",
              "                                <td id=\"T_a42732b0_4c62_11ec_86a7_0242ac1c0002row2_col0\" class=\"data row2 col0\" >4.610739</td>\n",
              "                        <td id=\"T_a42732b0_4c62_11ec_86a7_0242ac1c0002row2_col1\" class=\"data row2 col1\" >2472</td>\n",
              "            </tr>\n",
              "            <tr>\n",
              "                                <td id=\"T_a42732b0_4c62_11ec_86a7_0242ac1c0002row3_col0\" class=\"data row3 col0\" >4.531541</td>\n",
              "                        <td id=\"T_a42732b0_4c62_11ec_86a7_0242ac1c0002row3_col1\" class=\"data row3 col1\" >4152</td>\n",
              "            </tr>\n",
              "            <tr>\n",
              "                                <td id=\"T_a42732b0_4c62_11ec_86a7_0242ac1c0002row4_col0\" class=\"data row4 col0\" >4.498253</td>\n",
              "                        <td id=\"T_a42732b0_4c62_11ec_86a7_0242ac1c0002row4_col1\" class=\"data row4 col1\" >4313</td>\n",
              "            </tr>\n",
              "            <tr>\n",
              "                                <td id=\"T_a42732b0_4c62_11ec_86a7_0242ac1c0002row5_col0\" class=\"data row5 col0\" >4.498253</td>\n",
              "                        <td id=\"T_a42732b0_4c62_11ec_86a7_0242ac1c0002row5_col1\" class=\"data row5 col1\" >3003</td>\n",
              "            </tr>\n",
              "            <tr>\n",
              "                                <td id=\"T_a42732b0_4c62_11ec_86a7_0242ac1c0002row6_col0\" class=\"data row6 col0\" >4.451755</td>\n",
              "                        <td id=\"T_a42732b0_4c62_11ec_86a7_0242ac1c0002row6_col1\" class=\"data row6 col1\" >6185</td>\n",
              "            </tr>\n",
              "            <tr>\n",
              "                                <td id=\"T_a42732b0_4c62_11ec_86a7_0242ac1c0002row7_col0\" class=\"data row7 col0\" >4.348506</td>\n",
              "                        <td id=\"T_a42732b0_4c62_11ec_86a7_0242ac1c0002row7_col1\" class=\"data row7 col1\" >107069</td>\n",
              "            </tr>\n",
              "            <tr>\n",
              "                                <td id=\"T_a42732b0_4c62_11ec_86a7_0242ac1c0002row8_col0\" class=\"data row8 col0\" >4.304899</td>\n",
              "                        <td id=\"T_a42732b0_4c62_11ec_86a7_0242ac1c0002row8_col1\" class=\"data row8 col1\" >808</td>\n",
              "            </tr>\n",
              "            <tr>\n",
              "                                <td id=\"T_a42732b0_4c62_11ec_86a7_0242ac1c0002row9_col0\" class=\"data row9 col0\" >4.235769</td>\n",
              "                        <td id=\"T_a42732b0_4c62_11ec_86a7_0242ac1c0002row9_col1\" class=\"data row9 col1\" >101283</td>\n",
              "            </tr>\n",
              "            <tr>\n",
              "                                <td id=\"T_a42732b0_4c62_11ec_86a7_0242ac1c0002row10_col0\" class=\"data row10 col0\" >4.211692</td>\n",
              "                        <td id=\"T_a42732b0_4c62_11ec_86a7_0242ac1c0002row10_col1\" class=\"data row10 col1\" >1051</td>\n",
              "            </tr>\n",
              "            <tr>\n",
              "                                <td id=\"T_a42732b0_4c62_11ec_86a7_0242ac1c0002row11_col0\" class=\"data row11 col0\" >4.164201</td>\n",
              "                        <td id=\"T_a42732b0_4c62_11ec_86a7_0242ac1c0002row11_col1\" class=\"data row11 col1\" >3879</td>\n",
              "            </tr>\n",
              "            <tr>\n",
              "                                <td id=\"T_a42732b0_4c62_11ec_86a7_0242ac1c0002row12_col0\" class=\"data row12 col0\" >4.136838</td>\n",
              "                        <td id=\"T_a42732b0_4c62_11ec_86a7_0242ac1c0002row12_col1\" class=\"data row12 col1\" >639</td>\n",
              "            </tr>\n",
              "            <tr>\n",
              "                                <td id=\"T_a42732b0_4c62_11ec_86a7_0242ac1c0002row13_col0\" class=\"data row13 col0\" >4.122876</td>\n",
              "                        <td id=\"T_a42732b0_4c62_11ec_86a7_0242ac1c0002row13_col1\" class=\"data row13 col1\" >33896</td>\n",
              "            </tr>\n",
              "            <tr>\n",
              "                                <td id=\"T_a42732b0_4c62_11ec_86a7_0242ac1c0002row14_col0\" class=\"data row14 col0\" >4.121198</td>\n",
              "                        <td id=\"T_a42732b0_4c62_11ec_86a7_0242ac1c0002row14_col1\" class=\"data row14 col1\" >5613</td>\n",
              "            </tr>\n",
              "            <tr>\n",
              "                                <td id=\"T_a42732b0_4c62_11ec_86a7_0242ac1c0002row15_col0\" class=\"data row15 col0\" >4.118779</td>\n",
              "                        <td id=\"T_a42732b0_4c62_11ec_86a7_0242ac1c0002row15_col1\" class=\"data row15 col1\" >90603</td>\n",
              "            </tr>\n",
              "            <tr>\n",
              "                                <td id=\"T_a42732b0_4c62_11ec_86a7_0242ac1c0002row16_col0\" class=\"data row16 col0\" >4.079573</td>\n",
              "                        <td id=\"T_a42732b0_4c62_11ec_86a7_0242ac1c0002row16_col1\" class=\"data row16 col1\" >2900</td>\n",
              "            </tr>\n",
              "            <tr>\n",
              "                                <td id=\"T_a42732b0_4c62_11ec_86a7_0242ac1c0002row17_col0\" class=\"data row17 col0\" >4.069431</td>\n",
              "                        <td id=\"T_a42732b0_4c62_11ec_86a7_0242ac1c0002row17_col1\" class=\"data row17 col1\" >2365</td>\n",
              "            </tr>\n",
              "            <tr>\n",
              "                                <td id=\"T_a42732b0_4c62_11ec_86a7_0242ac1c0002row18_col0\" class=\"data row18 col0\" >4.066848</td>\n",
              "                        <td id=\"T_a42732b0_4c62_11ec_86a7_0242ac1c0002row18_col1\" class=\"data row18 col1\" >3662</td>\n",
              "            </tr>\n",
              "            <tr>\n",
              "                                <td id=\"T_a42732b0_4c62_11ec_86a7_0242ac1c0002row19_col0\" class=\"data row19 col0\" >4.060308</td>\n",
              "                        <td id=\"T_a42732b0_4c62_11ec_86a7_0242ac1c0002row19_col1\" class=\"data row19 col1\" >2400</td>\n",
              "            </tr>\n",
              "    </tbody></table>"
            ],
            "text/plain": [
              "<pandas.io.formats.style.Styler at 0x7fc3d9dbbb50>"
            ]
          },
          "metadata": {}
        },
        {
          "output_type": "stream",
          "name": "stdout",
          "text": [
            "Iteration 3 completed successfully!\n",
            "\n",
            "Top 20 recommendations for iteration 4\n",
            "\n"
          ]
        },
        {
          "output_type": "display_data",
          "data": {
            "text/html": [
              "<style  type=\"text/css\" >\n",
              "</style><table id=\"T_f7731394_4c62_11ec_86a7_0242ac1c0002\" class=\"dataframe\"><thead>    <tr>        <th class=\"col_heading level0 col0\" >Rating</th>        <th class=\"col_heading level0 col1\" >Movie ID</th>    </tr></thead><tbody>\n",
              "                <tr>\n",
              "                                <td id=\"T_f7731394_4c62_11ec_86a7_0242ac1c0002row0_col0\" class=\"data row0 col0\" >4.415898</td>\n",
              "                        <td id=\"T_f7731394_4c62_11ec_86a7_0242ac1c0002row0_col1\" class=\"data row0 col1\" >63540</td>\n",
              "            </tr>\n",
              "            <tr>\n",
              "                                <td id=\"T_f7731394_4c62_11ec_86a7_0242ac1c0002row1_col0\" class=\"data row1 col0\" >4.411816</td>\n",
              "                        <td id=\"T_f7731394_4c62_11ec_86a7_0242ac1c0002row1_col1\" class=\"data row1 col1\" >96281</td>\n",
              "            </tr>\n",
              "            <tr>\n",
              "                                <td id=\"T_f7731394_4c62_11ec_86a7_0242ac1c0002row2_col0\" class=\"data row2 col0\" >4.392878</td>\n",
              "                        <td id=\"T_f7731394_4c62_11ec_86a7_0242ac1c0002row2_col1\" class=\"data row2 col1\" >6143</td>\n",
              "            </tr>\n",
              "            <tr>\n",
              "                                <td id=\"T_f7731394_4c62_11ec_86a7_0242ac1c0002row3_col0\" class=\"data row3 col0\" >4.343774</td>\n",
              "                        <td id=\"T_f7731394_4c62_11ec_86a7_0242ac1c0002row3_col1\" class=\"data row3 col1\" >25825</td>\n",
              "            </tr>\n",
              "            <tr>\n",
              "                                <td id=\"T_f7731394_4c62_11ec_86a7_0242ac1c0002row4_col0\" class=\"data row4 col0\" >4.277773</td>\n",
              "                        <td id=\"T_f7731394_4c62_11ec_86a7_0242ac1c0002row4_col1\" class=\"data row4 col1\" >42632</td>\n",
              "            </tr>\n",
              "            <tr>\n",
              "                                <td id=\"T_f7731394_4c62_11ec_86a7_0242ac1c0002row5_col0\" class=\"data row5 col0\" >4.260276</td>\n",
              "                        <td id=\"T_f7731394_4c62_11ec_86a7_0242ac1c0002row5_col1\" class=\"data row5 col1\" >68159</td>\n",
              "            </tr>\n",
              "            <tr>\n",
              "                                <td id=\"T_f7731394_4c62_11ec_86a7_0242ac1c0002row6_col0\" class=\"data row6 col0\" >4.189902</td>\n",
              "                        <td id=\"T_f7731394_4c62_11ec_86a7_0242ac1c0002row6_col1\" class=\"data row6 col1\" >5075</td>\n",
              "            </tr>\n",
              "            <tr>\n",
              "                                <td id=\"T_f7731394_4c62_11ec_86a7_0242ac1c0002row7_col0\" class=\"data row7 col0\" >4.188334</td>\n",
              "                        <td id=\"T_f7731394_4c62_11ec_86a7_0242ac1c0002row7_col1\" class=\"data row7 col1\" >44225</td>\n",
              "            </tr>\n",
              "            <tr>\n",
              "                                <td id=\"T_f7731394_4c62_11ec_86a7_0242ac1c0002row8_col0\" class=\"data row8 col0\" >4.125528</td>\n",
              "                        <td id=\"T_f7731394_4c62_11ec_86a7_0242ac1c0002row8_col1\" class=\"data row8 col1\" >3370</td>\n",
              "            </tr>\n",
              "            <tr>\n",
              "                                <td id=\"T_f7731394_4c62_11ec_86a7_0242ac1c0002row9_col0\" class=\"data row9 col0\" >4.114823</td>\n",
              "                        <td id=\"T_f7731394_4c62_11ec_86a7_0242ac1c0002row9_col1\" class=\"data row9 col1\" >1484</td>\n",
              "            </tr>\n",
              "            <tr>\n",
              "                                <td id=\"T_f7731394_4c62_11ec_86a7_0242ac1c0002row10_col0\" class=\"data row10 col0\" >4.093524</td>\n",
              "                        <td id=\"T_f7731394_4c62_11ec_86a7_0242ac1c0002row10_col1\" class=\"data row10 col1\" >5543</td>\n",
              "            </tr>\n",
              "            <tr>\n",
              "                                <td id=\"T_f7731394_4c62_11ec_86a7_0242ac1c0002row11_col0\" class=\"data row11 col0\" >4.071069</td>\n",
              "                        <td id=\"T_f7731394_4c62_11ec_86a7_0242ac1c0002row11_col1\" class=\"data row11 col1\" >2708</td>\n",
              "            </tr>\n",
              "            <tr>\n",
              "                                <td id=\"T_f7731394_4c62_11ec_86a7_0242ac1c0002row12_col0\" class=\"data row12 col0\" >4.058190</td>\n",
              "                        <td id=\"T_f7731394_4c62_11ec_86a7_0242ac1c0002row12_col1\" class=\"data row12 col1\" >2903</td>\n",
              "            </tr>\n",
              "            <tr>\n",
              "                                <td id=\"T_f7731394_4c62_11ec_86a7_0242ac1c0002row13_col0\" class=\"data row13 col0\" >4.028852</td>\n",
              "                        <td id=\"T_f7731394_4c62_11ec_86a7_0242ac1c0002row13_col1\" class=\"data row13 col1\" >3573</td>\n",
              "            </tr>\n",
              "            <tr>\n",
              "                                <td id=\"T_f7731394_4c62_11ec_86a7_0242ac1c0002row14_col0\" class=\"data row14 col0\" >4.027027</td>\n",
              "                        <td id=\"T_f7731394_4c62_11ec_86a7_0242ac1c0002row14_col1\" class=\"data row14 col1\" >104283</td>\n",
              "            </tr>\n",
              "            <tr>\n",
              "                                <td id=\"T_f7731394_4c62_11ec_86a7_0242ac1c0002row15_col0\" class=\"data row15 col0\" >4.012210</td>\n",
              "                        <td id=\"T_f7731394_4c62_11ec_86a7_0242ac1c0002row15_col1\" class=\"data row15 col1\" >91671</td>\n",
              "            </tr>\n",
              "            <tr>\n",
              "                                <td id=\"T_f7731394_4c62_11ec_86a7_0242ac1c0002row16_col0\" class=\"data row16 col0\" >4.002116</td>\n",
              "                        <td id=\"T_f7731394_4c62_11ec_86a7_0242ac1c0002row16_col1\" class=\"data row16 col1\" >5127</td>\n",
              "            </tr>\n",
              "            <tr>\n",
              "                                <td id=\"T_f7731394_4c62_11ec_86a7_0242ac1c0002row17_col0\" class=\"data row17 col0\" >3.992648</td>\n",
              "                        <td id=\"T_f7731394_4c62_11ec_86a7_0242ac1c0002row17_col1\" class=\"data row17 col1\" >156371</td>\n",
              "            </tr>\n",
              "            <tr>\n",
              "                                <td id=\"T_f7731394_4c62_11ec_86a7_0242ac1c0002row18_col0\" class=\"data row18 col0\" >3.981535</td>\n",
              "                        <td id=\"T_f7731394_4c62_11ec_86a7_0242ac1c0002row18_col1\" class=\"data row18 col1\" >8743</td>\n",
              "            </tr>\n",
              "            <tr>\n",
              "                                <td id=\"T_f7731394_4c62_11ec_86a7_0242ac1c0002row19_col0\" class=\"data row19 col0\" >3.950122</td>\n",
              "                        <td id=\"T_f7731394_4c62_11ec_86a7_0242ac1c0002row19_col1\" class=\"data row19 col1\" >3833</td>\n",
              "            </tr>\n",
              "    </tbody></table>"
            ],
            "text/plain": [
              "<pandas.io.formats.style.Styler at 0x7fc3da2e7f90>"
            ]
          },
          "metadata": {}
        },
        {
          "output_type": "stream",
          "name": "stdout",
          "text": [
            "Iteration 4 completed successfully!\n",
            "\n",
            "Top 20 recommendations for iteration 5\n",
            "\n"
          ]
        },
        {
          "output_type": "display_data",
          "data": {
            "text/html": [
              "<style  type=\"text/css\" >\n",
              "</style><table id=\"T_498c3b4c_4c63_11ec_86a7_0242ac1c0002\" class=\"dataframe\"><thead>    <tr>        <th class=\"col_heading level0 col0\" >Rating</th>        <th class=\"col_heading level0 col1\" >Movie ID</th>    </tr></thead><tbody>\n",
              "                <tr>\n",
              "                                <td id=\"T_498c3b4c_4c63_11ec_86a7_0242ac1c0002row0_col0\" class=\"data row0 col0\" >4.705531</td>\n",
              "                        <td id=\"T_498c3b4c_4c63_11ec_86a7_0242ac1c0002row0_col1\" class=\"data row0 col1\" >1112</td>\n",
              "            </tr>\n",
              "            <tr>\n",
              "                                <td id=\"T_498c3b4c_4c63_11ec_86a7_0242ac1c0002row1_col0\" class=\"data row1 col0\" >4.554786</td>\n",
              "                        <td id=\"T_498c3b4c_4c63_11ec_86a7_0242ac1c0002row1_col1\" class=\"data row1 col1\" >1458</td>\n",
              "            </tr>\n",
              "            <tr>\n",
              "                                <td id=\"T_498c3b4c_4c63_11ec_86a7_0242ac1c0002row2_col0\" class=\"data row2 col0\" >4.485574</td>\n",
              "                        <td id=\"T_498c3b4c_4c63_11ec_86a7_0242ac1c0002row2_col1\" class=\"data row2 col1\" >184791</td>\n",
              "            </tr>\n",
              "            <tr>\n",
              "                                <td id=\"T_498c3b4c_4c63_11ec_86a7_0242ac1c0002row3_col0\" class=\"data row3 col0\" >4.485574</td>\n",
              "                        <td id=\"T_498c3b4c_4c63_11ec_86a7_0242ac1c0002row3_col1\" class=\"data row3 col1\" >5529</td>\n",
              "            </tr>\n",
              "            <tr>\n",
              "                                <td id=\"T_498c3b4c_4c63_11ec_86a7_0242ac1c0002row4_col0\" class=\"data row4 col0\" >4.344724</td>\n",
              "                        <td id=\"T_498c3b4c_4c63_11ec_86a7_0242ac1c0002row4_col1\" class=\"data row4 col1\" >69604</td>\n",
              "            </tr>\n",
              "            <tr>\n",
              "                                <td id=\"T_498c3b4c_4c63_11ec_86a7_0242ac1c0002row5_col0\" class=\"data row5 col0\" >4.334555</td>\n",
              "                        <td id=\"T_498c3b4c_4c63_11ec_86a7_0242ac1c0002row5_col1\" class=\"data row5 col1\" >6798</td>\n",
              "            </tr>\n",
              "            <tr>\n",
              "                                <td id=\"T_498c3b4c_4c63_11ec_86a7_0242ac1c0002row6_col0\" class=\"data row6 col0\" >4.334555</td>\n",
              "                        <td id=\"T_498c3b4c_4c63_11ec_86a7_0242ac1c0002row6_col1\" class=\"data row6 col1\" >5915</td>\n",
              "            </tr>\n",
              "            <tr>\n",
              "                                <td id=\"T_498c3b4c_4c63_11ec_86a7_0242ac1c0002row7_col0\" class=\"data row7 col0\" >4.272507</td>\n",
              "                        <td id=\"T_498c3b4c_4c63_11ec_86a7_0242ac1c0002row7_col1\" class=\"data row7 col1\" >178061</td>\n",
              "            </tr>\n",
              "            <tr>\n",
              "                                <td id=\"T_498c3b4c_4c63_11ec_86a7_0242ac1c0002row8_col0\" class=\"data row8 col0\" >4.248458</td>\n",
              "                        <td id=\"T_498c3b4c_4c63_11ec_86a7_0242ac1c0002row8_col1\" class=\"data row8 col1\" >4256</td>\n",
              "            </tr>\n",
              "            <tr>\n",
              "                                <td id=\"T_498c3b4c_4c63_11ec_86a7_0242ac1c0002row9_col0\" class=\"data row9 col0\" >4.218919</td>\n",
              "                        <td id=\"T_498c3b4c_4c63_11ec_86a7_0242ac1c0002row9_col1\" class=\"data row9 col1\" >4565</td>\n",
              "            </tr>\n",
              "            <tr>\n",
              "                                <td id=\"T_498c3b4c_4c63_11ec_86a7_0242ac1c0002row10_col0\" class=\"data row10 col0\" >4.195624</td>\n",
              "                        <td id=\"T_498c3b4c_4c63_11ec_86a7_0242ac1c0002row10_col1\" class=\"data row10 col1\" >4756</td>\n",
              "            </tr>\n",
              "            <tr>\n",
              "                                <td id=\"T_498c3b4c_4c63_11ec_86a7_0242ac1c0002row11_col0\" class=\"data row11 col0\" >4.188463</td>\n",
              "                        <td id=\"T_498c3b4c_4c63_11ec_86a7_0242ac1c0002row11_col1\" class=\"data row11 col1\" >26999</td>\n",
              "            </tr>\n",
              "            <tr>\n",
              "                                <td id=\"T_498c3b4c_4c63_11ec_86a7_0242ac1c0002row12_col0\" class=\"data row12 col0\" >4.188463</td>\n",
              "                        <td id=\"T_498c3b4c_4c63_11ec_86a7_0242ac1c0002row12_col1\" class=\"data row12 col1\" >6889</td>\n",
              "            </tr>\n",
              "            <tr>\n",
              "                                <td id=\"T_498c3b4c_4c63_11ec_86a7_0242ac1c0002row13_col0\" class=\"data row13 col0\" >4.146047</td>\n",
              "                        <td id=\"T_498c3b4c_4c63_11ec_86a7_0242ac1c0002row13_col1\" class=\"data row13 col1\" >3938</td>\n",
              "            </tr>\n",
              "            <tr>\n",
              "                                <td id=\"T_498c3b4c_4c63_11ec_86a7_0242ac1c0002row14_col0\" class=\"data row14 col0\" >4.111655</td>\n",
              "                        <td id=\"T_498c3b4c_4c63_11ec_86a7_0242ac1c0002row14_col1\" class=\"data row14 col1\" >2472</td>\n",
              "            </tr>\n",
              "            <tr>\n",
              "                                <td id=\"T_498c3b4c_4c63_11ec_86a7_0242ac1c0002row15_col0\" class=\"data row15 col0\" >4.097973</td>\n",
              "                        <td id=\"T_498c3b4c_4c63_11ec_86a7_0242ac1c0002row15_col1\" class=\"data row15 col1\" >48596</td>\n",
              "            </tr>\n",
              "            <tr>\n",
              "                                <td id=\"T_498c3b4c_4c63_11ec_86a7_0242ac1c0002row16_col0\" class=\"data row16 col0\" >4.095480</td>\n",
              "                        <td id=\"T_498c3b4c_4c63_11ec_86a7_0242ac1c0002row16_col1\" class=\"data row16 col1\" >2970</td>\n",
              "            </tr>\n",
              "            <tr>\n",
              "                                <td id=\"T_498c3b4c_4c63_11ec_86a7_0242ac1c0002row17_col0\" class=\"data row17 col0\" >4.092211</td>\n",
              "                        <td id=\"T_498c3b4c_4c63_11ec_86a7_0242ac1c0002row17_col1\" class=\"data row17 col1\" >6315</td>\n",
              "            </tr>\n",
              "            <tr>\n",
              "                                <td id=\"T_498c3b4c_4c63_11ec_86a7_0242ac1c0002row18_col0\" class=\"data row18 col0\" >4.091057</td>\n",
              "                        <td id=\"T_498c3b4c_4c63_11ec_86a7_0242ac1c0002row18_col1\" class=\"data row18 col1\" >31431</td>\n",
              "            </tr>\n",
              "            <tr>\n",
              "                                <td id=\"T_498c3b4c_4c63_11ec_86a7_0242ac1c0002row19_col0\" class=\"data row19 col0\" >4.085945</td>\n",
              "                        <td id=\"T_498c3b4c_4c63_11ec_86a7_0242ac1c0002row19_col1\" class=\"data row19 col1\" >6582</td>\n",
              "            </tr>\n",
              "    </tbody></table>"
            ],
            "text/plain": [
              "<pandas.io.formats.style.Styler at 0x7fc3dfd2e650>"
            ]
          },
          "metadata": {}
        },
        {
          "output_type": "stream",
          "name": "stdout",
          "text": [
            "Iteration 5 completed successfully!\n",
            "\n"
          ]
        }
      ]
    }
  ]
}