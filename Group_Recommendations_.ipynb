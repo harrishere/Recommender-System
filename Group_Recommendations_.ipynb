{
  "nbformat": 4,
  "nbformat_minor": 0,
  "metadata": {
    "colab": {
      "name": "Group_Recommendations (1).ipynb",
      "provenance": [],
      "collapsed_sections": []
    },
    "kernelspec": {
      "name": "python3",
      "display_name": "Python 3"
    },
    "language_info": {
      "name": "python"
    }
  },
  "cells": [
    {
      "cell_type": "code",
      "metadata": {
        "colab": {
          "base_uri": "https://localhost:8080/"
        },
        "id": "xLjzQgNxfcCB",
        "outputId": "34ba5b9c-51b2-452d-e029-b7b253413104"
      },
      "source": [
        "from google.colab import drive\n",
        "drive.mount('/content/drive')"
      ],
      "execution_count": null,
      "outputs": [
        {
          "output_type": "stream",
          "name": "stdout",
          "text": [
            "Drive already mounted at /content/drive; to attempt to forcibly remount, call drive.mount(\"/content/drive\", force_remount=True).\n"
          ]
        }
      ]
    },
    {
      "cell_type": "code",
      "metadata": {
        "colab": {
          "base_uri": "https://localhost:8080/"
        },
        "id": "jVQA-Fojflke",
        "outputId": "facd3309-2866-414b-c914-0bccc1379774"
      },
      "source": [
        "cd /content/drive/MyDrive/Recommender Systems/ml-latest-small/ml-latest-small"
      ],
      "execution_count": null,
      "outputs": [
        {
          "output_type": "stream",
          "name": "stdout",
          "text": [
            "/content/drive/MyDrive/Recommender Systems/ml-latest-small/ml-latest-small\n"
          ]
        }
      ]
    },
    {
      "cell_type": "code",
      "metadata": {
        "colab": {
          "base_uri": "https://localhost:8080/"
        },
        "id": "05AeOQiyfucA",
        "outputId": "cb8f1e5e-d4d8-4f28-e728-ea265b461c0e"
      },
      "source": [
        "ls"
      ],
      "execution_count": null,
      "outputs": [
        {
          "output_type": "stream",
          "name": "stdout",
          "text": [
            "links.csv  movies.csv  ratings.csv  README.txt  tags.csv\n"
          ]
        }
      ]
    },
    {
      "cell_type": "code",
      "metadata": {
        "id": "3vsGFCoQfwo_"
      },
      "source": [
        "import pandas as pd\n",
        "from math import sqrt\n",
        "import numpy as np\n",
        "import matplotlib.pyplot as plt\n",
        "import statistics \n",
        "%matplotlib inline"
      ],
      "execution_count": null,
      "outputs": []
    },
    {
      "cell_type": "code",
      "metadata": {
        "id": "AQm42XQ0fzEK"
      },
      "source": [
        "df_movies = pd.read_csv('movies.csv')\n",
        "df_ratings = pd.read_csv('ratings.csv')"
      ],
      "execution_count": null,
      "outputs": []
    },
    {
      "cell_type": "code",
      "metadata": {
        "colab": {
          "base_uri": "https://localhost:8080/",
          "height": 359
        },
        "id": "7yFeviKzf1Dm",
        "outputId": "4447e133-84ed-481b-9f9b-0a67a1cf258a"
      },
      "source": [
        "df_ratings.head(n=10)"
      ],
      "execution_count": null,
      "outputs": [
        {
          "output_type": "execute_result",
          "data": {
            "text/html": [
              "<div>\n",
              "<style scoped>\n",
              "    .dataframe tbody tr th:only-of-type {\n",
              "        vertical-align: middle;\n",
              "    }\n",
              "\n",
              "    .dataframe tbody tr th {\n",
              "        vertical-align: top;\n",
              "    }\n",
              "\n",
              "    .dataframe thead th {\n",
              "        text-align: right;\n",
              "    }\n",
              "</style>\n",
              "<table border=\"1\" class=\"dataframe\">\n",
              "  <thead>\n",
              "    <tr style=\"text-align: right;\">\n",
              "      <th></th>\n",
              "      <th>userId</th>\n",
              "      <th>movieId</th>\n",
              "      <th>rating</th>\n",
              "      <th>timestamp</th>\n",
              "    </tr>\n",
              "  </thead>\n",
              "  <tbody>\n",
              "    <tr>\n",
              "      <th>0</th>\n",
              "      <td>1</td>\n",
              "      <td>1</td>\n",
              "      <td>4.0</td>\n",
              "      <td>964982703</td>\n",
              "    </tr>\n",
              "    <tr>\n",
              "      <th>1</th>\n",
              "      <td>1</td>\n",
              "      <td>3</td>\n",
              "      <td>4.0</td>\n",
              "      <td>964981247</td>\n",
              "    </tr>\n",
              "    <tr>\n",
              "      <th>2</th>\n",
              "      <td>1</td>\n",
              "      <td>6</td>\n",
              "      <td>4.0</td>\n",
              "      <td>964982224</td>\n",
              "    </tr>\n",
              "    <tr>\n",
              "      <th>3</th>\n",
              "      <td>1</td>\n",
              "      <td>47</td>\n",
              "      <td>5.0</td>\n",
              "      <td>964983815</td>\n",
              "    </tr>\n",
              "    <tr>\n",
              "      <th>4</th>\n",
              "      <td>1</td>\n",
              "      <td>50</td>\n",
              "      <td>5.0</td>\n",
              "      <td>964982931</td>\n",
              "    </tr>\n",
              "    <tr>\n",
              "      <th>5</th>\n",
              "      <td>1</td>\n",
              "      <td>70</td>\n",
              "      <td>3.0</td>\n",
              "      <td>964982400</td>\n",
              "    </tr>\n",
              "    <tr>\n",
              "      <th>6</th>\n",
              "      <td>1</td>\n",
              "      <td>101</td>\n",
              "      <td>5.0</td>\n",
              "      <td>964980868</td>\n",
              "    </tr>\n",
              "    <tr>\n",
              "      <th>7</th>\n",
              "      <td>1</td>\n",
              "      <td>110</td>\n",
              "      <td>4.0</td>\n",
              "      <td>964982176</td>\n",
              "    </tr>\n",
              "    <tr>\n",
              "      <th>8</th>\n",
              "      <td>1</td>\n",
              "      <td>151</td>\n",
              "      <td>5.0</td>\n",
              "      <td>964984041</td>\n",
              "    </tr>\n",
              "    <tr>\n",
              "      <th>9</th>\n",
              "      <td>1</td>\n",
              "      <td>157</td>\n",
              "      <td>5.0</td>\n",
              "      <td>964984100</td>\n",
              "    </tr>\n",
              "  </tbody>\n",
              "</table>\n",
              "</div>"
            ],
            "text/plain": [
              "   userId  movieId  rating  timestamp\n",
              "0       1        1     4.0  964982703\n",
              "1       1        3     4.0  964981247\n",
              "2       1        6     4.0  964982224\n",
              "3       1       47     5.0  964983815\n",
              "4       1       50     5.0  964982931\n",
              "5       1       70     3.0  964982400\n",
              "6       1      101     5.0  964980868\n",
              "7       1      110     4.0  964982176\n",
              "8       1      151     5.0  964984041\n",
              "9       1      157     5.0  964984100"
            ]
          },
          "metadata": {},
          "execution_count": 6
        }
      ]
    },
    {
      "cell_type": "code",
      "metadata": {
        "colab": {
          "base_uri": "https://localhost:8080/"
        },
        "id": "CRPSHB7Mf1sn",
        "outputId": "c09978e2-cd09-4208-bbb3-eb7e33aae9ac"
      },
      "source": [
        "df_ratings.shape[0]"
      ],
      "execution_count": null,
      "outputs": [
        {
          "output_type": "execute_result",
          "data": {
            "text/plain": [
              "100836"
            ]
          },
          "metadata": {},
          "execution_count": 7
        }
      ]
    },
    {
      "cell_type": "code",
      "metadata": {
        "colab": {
          "base_uri": "https://localhost:8080/",
          "height": 204
        },
        "id": "2WiEUPsuf32a",
        "outputId": "b589f42e-a002-44c5-a3c9-893b25c360e0"
      },
      "source": [
        "df_movies.head()"
      ],
      "execution_count": null,
      "outputs": [
        {
          "output_type": "execute_result",
          "data": {
            "text/html": [
              "<div>\n",
              "<style scoped>\n",
              "    .dataframe tbody tr th:only-of-type {\n",
              "        vertical-align: middle;\n",
              "    }\n",
              "\n",
              "    .dataframe tbody tr th {\n",
              "        vertical-align: top;\n",
              "    }\n",
              "\n",
              "    .dataframe thead th {\n",
              "        text-align: right;\n",
              "    }\n",
              "</style>\n",
              "<table border=\"1\" class=\"dataframe\">\n",
              "  <thead>\n",
              "    <tr style=\"text-align: right;\">\n",
              "      <th></th>\n",
              "      <th>movieId</th>\n",
              "      <th>title</th>\n",
              "      <th>genres</th>\n",
              "    </tr>\n",
              "  </thead>\n",
              "  <tbody>\n",
              "    <tr>\n",
              "      <th>0</th>\n",
              "      <td>1</td>\n",
              "      <td>Toy Story (1995)</td>\n",
              "      <td>Adventure|Animation|Children|Comedy|Fantasy</td>\n",
              "    </tr>\n",
              "    <tr>\n",
              "      <th>1</th>\n",
              "      <td>2</td>\n",
              "      <td>Jumanji (1995)</td>\n",
              "      <td>Adventure|Children|Fantasy</td>\n",
              "    </tr>\n",
              "    <tr>\n",
              "      <th>2</th>\n",
              "      <td>3</td>\n",
              "      <td>Grumpier Old Men (1995)</td>\n",
              "      <td>Comedy|Romance</td>\n",
              "    </tr>\n",
              "    <tr>\n",
              "      <th>3</th>\n",
              "      <td>4</td>\n",
              "      <td>Waiting to Exhale (1995)</td>\n",
              "      <td>Comedy|Drama|Romance</td>\n",
              "    </tr>\n",
              "    <tr>\n",
              "      <th>4</th>\n",
              "      <td>5</td>\n",
              "      <td>Father of the Bride Part II (1995)</td>\n",
              "      <td>Comedy</td>\n",
              "    </tr>\n",
              "  </tbody>\n",
              "</table>\n",
              "</div>"
            ],
            "text/plain": [
              "   movieId  ...                                       genres\n",
              "0        1  ...  Adventure|Animation|Children|Comedy|Fantasy\n",
              "1        2  ...                   Adventure|Children|Fantasy\n",
              "2        3  ...                               Comedy|Romance\n",
              "3        4  ...                         Comedy|Drama|Romance\n",
              "4        5  ...                                       Comedy\n",
              "\n",
              "[5 rows x 3 columns]"
            ]
          },
          "metadata": {},
          "execution_count": 8
        }
      ]
    },
    {
      "cell_type": "code",
      "metadata": {
        "id": "f-xoULYZf6Z-"
      },
      "source": [
        "df_movies['year'] = df_movies.title.str.slice(-5,-1)"
      ],
      "execution_count": null,
      "outputs": []
    },
    {
      "cell_type": "code",
      "metadata": {
        "colab": {
          "base_uri": "https://localhost:8080/",
          "height": 204
        },
        "id": "K2oOXH3hf6QE",
        "outputId": "1fed0ceb-fdf2-4b11-81d6-59c70d988273"
      },
      "source": [
        "df_movies.head()"
      ],
      "execution_count": null,
      "outputs": [
        {
          "output_type": "execute_result",
          "data": {
            "text/html": [
              "<div>\n",
              "<style scoped>\n",
              "    .dataframe tbody tr th:only-of-type {\n",
              "        vertical-align: middle;\n",
              "    }\n",
              "\n",
              "    .dataframe tbody tr th {\n",
              "        vertical-align: top;\n",
              "    }\n",
              "\n",
              "    .dataframe thead th {\n",
              "        text-align: right;\n",
              "    }\n",
              "</style>\n",
              "<table border=\"1\" class=\"dataframe\">\n",
              "  <thead>\n",
              "    <tr style=\"text-align: right;\">\n",
              "      <th></th>\n",
              "      <th>movieId</th>\n",
              "      <th>title</th>\n",
              "      <th>genres</th>\n",
              "      <th>year</th>\n",
              "    </tr>\n",
              "  </thead>\n",
              "  <tbody>\n",
              "    <tr>\n",
              "      <th>0</th>\n",
              "      <td>1</td>\n",
              "      <td>Toy Story (1995)</td>\n",
              "      <td>Adventure|Animation|Children|Comedy|Fantasy</td>\n",
              "      <td>1995</td>\n",
              "    </tr>\n",
              "    <tr>\n",
              "      <th>1</th>\n",
              "      <td>2</td>\n",
              "      <td>Jumanji (1995)</td>\n",
              "      <td>Adventure|Children|Fantasy</td>\n",
              "      <td>1995</td>\n",
              "    </tr>\n",
              "    <tr>\n",
              "      <th>2</th>\n",
              "      <td>3</td>\n",
              "      <td>Grumpier Old Men (1995)</td>\n",
              "      <td>Comedy|Romance</td>\n",
              "      <td>1995</td>\n",
              "    </tr>\n",
              "    <tr>\n",
              "      <th>3</th>\n",
              "      <td>4</td>\n",
              "      <td>Waiting to Exhale (1995)</td>\n",
              "      <td>Comedy|Drama|Romance</td>\n",
              "      <td>1995</td>\n",
              "    </tr>\n",
              "    <tr>\n",
              "      <th>4</th>\n",
              "      <td>5</td>\n",
              "      <td>Father of the Bride Part II (1995)</td>\n",
              "      <td>Comedy</td>\n",
              "      <td>1995</td>\n",
              "    </tr>\n",
              "  </tbody>\n",
              "</table>\n",
              "</div>"
            ],
            "text/plain": [
              "   movieId  ...  year\n",
              "0        1  ...  1995\n",
              "1        2  ...  1995\n",
              "2        3  ...  1995\n",
              "3        4  ...  1995\n",
              "4        5  ...  1995\n",
              "\n",
              "[5 rows x 4 columns]"
            ]
          },
          "metadata": {},
          "execution_count": 10
        }
      ]
    },
    {
      "cell_type": "code",
      "metadata": {
        "id": "dV1JE8CBf6Jg"
      },
      "source": [
        "df_movies.title = df_movies.title.str.replace('\\(\\d\\d\\d\\d\\)',\"\")"
      ],
      "execution_count": null,
      "outputs": []
    },
    {
      "cell_type": "code",
      "metadata": {
        "colab": {
          "base_uri": "https://localhost:8080/",
          "height": 669
        },
        "id": "3iinJ3nVf5_5",
        "outputId": "88a9df98-cec6-4f28-e39e-2d0dba13f9e0"
      },
      "source": [
        "df_movies.head(n=20)"
      ],
      "execution_count": null,
      "outputs": [
        {
          "output_type": "execute_result",
          "data": {
            "text/html": [
              "<div>\n",
              "<style scoped>\n",
              "    .dataframe tbody tr th:only-of-type {\n",
              "        vertical-align: middle;\n",
              "    }\n",
              "\n",
              "    .dataframe tbody tr th {\n",
              "        vertical-align: top;\n",
              "    }\n",
              "\n",
              "    .dataframe thead th {\n",
              "        text-align: right;\n",
              "    }\n",
              "</style>\n",
              "<table border=\"1\" class=\"dataframe\">\n",
              "  <thead>\n",
              "    <tr style=\"text-align: right;\">\n",
              "      <th></th>\n",
              "      <th>movieId</th>\n",
              "      <th>title</th>\n",
              "      <th>genres</th>\n",
              "      <th>year</th>\n",
              "    </tr>\n",
              "  </thead>\n",
              "  <tbody>\n",
              "    <tr>\n",
              "      <th>0</th>\n",
              "      <td>1</td>\n",
              "      <td>Toy Story</td>\n",
              "      <td>Adventure|Animation|Children|Comedy|Fantasy</td>\n",
              "      <td>1995</td>\n",
              "    </tr>\n",
              "    <tr>\n",
              "      <th>1</th>\n",
              "      <td>2</td>\n",
              "      <td>Jumanji</td>\n",
              "      <td>Adventure|Children|Fantasy</td>\n",
              "      <td>1995</td>\n",
              "    </tr>\n",
              "    <tr>\n",
              "      <th>2</th>\n",
              "      <td>3</td>\n",
              "      <td>Grumpier Old Men</td>\n",
              "      <td>Comedy|Romance</td>\n",
              "      <td>1995</td>\n",
              "    </tr>\n",
              "    <tr>\n",
              "      <th>3</th>\n",
              "      <td>4</td>\n",
              "      <td>Waiting to Exhale</td>\n",
              "      <td>Comedy|Drama|Romance</td>\n",
              "      <td>1995</td>\n",
              "    </tr>\n",
              "    <tr>\n",
              "      <th>4</th>\n",
              "      <td>5</td>\n",
              "      <td>Father of the Bride Part II</td>\n",
              "      <td>Comedy</td>\n",
              "      <td>1995</td>\n",
              "    </tr>\n",
              "    <tr>\n",
              "      <th>5</th>\n",
              "      <td>6</td>\n",
              "      <td>Heat</td>\n",
              "      <td>Action|Crime|Thriller</td>\n",
              "      <td>1995</td>\n",
              "    </tr>\n",
              "    <tr>\n",
              "      <th>6</th>\n",
              "      <td>7</td>\n",
              "      <td>Sabrina</td>\n",
              "      <td>Comedy|Romance</td>\n",
              "      <td>1995</td>\n",
              "    </tr>\n",
              "    <tr>\n",
              "      <th>7</th>\n",
              "      <td>8</td>\n",
              "      <td>Tom and Huck</td>\n",
              "      <td>Adventure|Children</td>\n",
              "      <td>1995</td>\n",
              "    </tr>\n",
              "    <tr>\n",
              "      <th>8</th>\n",
              "      <td>9</td>\n",
              "      <td>Sudden Death</td>\n",
              "      <td>Action</td>\n",
              "      <td>1995</td>\n",
              "    </tr>\n",
              "    <tr>\n",
              "      <th>9</th>\n",
              "      <td>10</td>\n",
              "      <td>GoldenEye</td>\n",
              "      <td>Action|Adventure|Thriller</td>\n",
              "      <td>1995</td>\n",
              "    </tr>\n",
              "    <tr>\n",
              "      <th>10</th>\n",
              "      <td>11</td>\n",
              "      <td>American President, The</td>\n",
              "      <td>Comedy|Drama|Romance</td>\n",
              "      <td>1995</td>\n",
              "    </tr>\n",
              "    <tr>\n",
              "      <th>11</th>\n",
              "      <td>12</td>\n",
              "      <td>Dracula: Dead and Loving It</td>\n",
              "      <td>Comedy|Horror</td>\n",
              "      <td>1995</td>\n",
              "    </tr>\n",
              "    <tr>\n",
              "      <th>12</th>\n",
              "      <td>13</td>\n",
              "      <td>Balto</td>\n",
              "      <td>Adventure|Animation|Children</td>\n",
              "      <td>1995</td>\n",
              "    </tr>\n",
              "    <tr>\n",
              "      <th>13</th>\n",
              "      <td>14</td>\n",
              "      <td>Nixon</td>\n",
              "      <td>Drama</td>\n",
              "      <td>1995</td>\n",
              "    </tr>\n",
              "    <tr>\n",
              "      <th>14</th>\n",
              "      <td>15</td>\n",
              "      <td>Cutthroat Island</td>\n",
              "      <td>Action|Adventure|Romance</td>\n",
              "      <td>1995</td>\n",
              "    </tr>\n",
              "    <tr>\n",
              "      <th>15</th>\n",
              "      <td>16</td>\n",
              "      <td>Casino</td>\n",
              "      <td>Crime|Drama</td>\n",
              "      <td>1995</td>\n",
              "    </tr>\n",
              "    <tr>\n",
              "      <th>16</th>\n",
              "      <td>17</td>\n",
              "      <td>Sense and Sensibility</td>\n",
              "      <td>Drama|Romance</td>\n",
              "      <td>1995</td>\n",
              "    </tr>\n",
              "    <tr>\n",
              "      <th>17</th>\n",
              "      <td>18</td>\n",
              "      <td>Four Rooms</td>\n",
              "      <td>Comedy</td>\n",
              "      <td>1995</td>\n",
              "    </tr>\n",
              "    <tr>\n",
              "      <th>18</th>\n",
              "      <td>19</td>\n",
              "      <td>Ace Ventura: When Nature Calls</td>\n",
              "      <td>Comedy</td>\n",
              "      <td>1995</td>\n",
              "    </tr>\n",
              "    <tr>\n",
              "      <th>19</th>\n",
              "      <td>20</td>\n",
              "      <td>Money Train</td>\n",
              "      <td>Action|Comedy|Crime|Drama|Thriller</td>\n",
              "      <td>1995</td>\n",
              "    </tr>\n",
              "  </tbody>\n",
              "</table>\n",
              "</div>"
            ],
            "text/plain": [
              "    movieId  ...  year\n",
              "0         1  ...  1995\n",
              "1         2  ...  1995\n",
              "2         3  ...  1995\n",
              "3         4  ...  1995\n",
              "4         5  ...  1995\n",
              "5         6  ...  1995\n",
              "6         7  ...  1995\n",
              "7         8  ...  1995\n",
              "8         9  ...  1995\n",
              "9        10  ...  1995\n",
              "10       11  ...  1995\n",
              "11       12  ...  1995\n",
              "12       13  ...  1995\n",
              "13       14  ...  1995\n",
              "14       15  ...  1995\n",
              "15       16  ...  1995\n",
              "16       17  ...  1995\n",
              "17       18  ...  1995\n",
              "18       19  ...  1995\n",
              "19       20  ...  1995\n",
              "\n",
              "[20 rows x 4 columns]"
            ]
          },
          "metadata": {},
          "execution_count": 12
        }
      ]
    },
    {
      "cell_type": "code",
      "metadata": {
        "id": "v-ixok17f5sZ"
      },
      "source": [
        "#It's time to drop the genre column as we don't need it\n",
        "df_movies.drop('genres', 1, inplace=True)"
      ],
      "execution_count": null,
      "outputs": []
    },
    {
      "cell_type": "code",
      "metadata": {
        "colab": {
          "base_uri": "https://localhost:8080/",
          "height": 204
        },
        "id": "eT3ZqLFcgGEM",
        "outputId": "2e4a1f4c-aad4-4006-9029-610f50884e35"
      },
      "source": [
        "df_movies.head()"
      ],
      "execution_count": null,
      "outputs": [
        {
          "output_type": "execute_result",
          "data": {
            "text/html": [
              "<div>\n",
              "<style scoped>\n",
              "    .dataframe tbody tr th:only-of-type {\n",
              "        vertical-align: middle;\n",
              "    }\n",
              "\n",
              "    .dataframe tbody tr th {\n",
              "        vertical-align: top;\n",
              "    }\n",
              "\n",
              "    .dataframe thead th {\n",
              "        text-align: right;\n",
              "    }\n",
              "</style>\n",
              "<table border=\"1\" class=\"dataframe\">\n",
              "  <thead>\n",
              "    <tr style=\"text-align: right;\">\n",
              "      <th></th>\n",
              "      <th>movieId</th>\n",
              "      <th>title</th>\n",
              "      <th>year</th>\n",
              "    </tr>\n",
              "  </thead>\n",
              "  <tbody>\n",
              "    <tr>\n",
              "      <th>0</th>\n",
              "      <td>1</td>\n",
              "      <td>Toy Story</td>\n",
              "      <td>1995</td>\n",
              "    </tr>\n",
              "    <tr>\n",
              "      <th>1</th>\n",
              "      <td>2</td>\n",
              "      <td>Jumanji</td>\n",
              "      <td>1995</td>\n",
              "    </tr>\n",
              "    <tr>\n",
              "      <th>2</th>\n",
              "      <td>3</td>\n",
              "      <td>Grumpier Old Men</td>\n",
              "      <td>1995</td>\n",
              "    </tr>\n",
              "    <tr>\n",
              "      <th>3</th>\n",
              "      <td>4</td>\n",
              "      <td>Waiting to Exhale</td>\n",
              "      <td>1995</td>\n",
              "    </tr>\n",
              "    <tr>\n",
              "      <th>4</th>\n",
              "      <td>5</td>\n",
              "      <td>Father of the Bride Part II</td>\n",
              "      <td>1995</td>\n",
              "    </tr>\n",
              "  </tbody>\n",
              "</table>\n",
              "</div>"
            ],
            "text/plain": [
              "   movieId                         title  year\n",
              "0        1                    Toy Story   1995\n",
              "1        2                      Jumanji   1995\n",
              "2        3             Grumpier Old Men   1995\n",
              "3        4            Waiting to Exhale   1995\n",
              "4        5  Father of the Bride Part II   1995"
            ]
          },
          "metadata": {},
          "execution_count": 14
        }
      ]
    },
    {
      "cell_type": "code",
      "metadata": {
        "id": "WRGQAd6mgGBf"
      },
      "source": [
        "# Same goes for timestamp column in rating dataframe\n",
        "df_ratings.drop('timestamp', 1, inplace=True)"
      ],
      "execution_count": null,
      "outputs": []
    },
    {
      "cell_type": "code",
      "metadata": {
        "colab": {
          "base_uri": "https://localhost:8080/"
        },
        "id": "q9WDVZCqgF-n",
        "outputId": "2a8cd531-9df6-4367-9d1e-983017049a50"
      },
      "source": [
        "df_ratings.shape"
      ],
      "execution_count": null,
      "outputs": [
        {
          "output_type": "execute_result",
          "data": {
            "text/plain": [
              "(100836, 3)"
            ]
          },
          "metadata": {},
          "execution_count": 16
        }
      ]
    },
    {
      "cell_type": "markdown",
      "metadata": {
        "id": "7j-9vvQ_gVau"
      },
      "source": [
        "## ***GROUP RECOMMENDATIONS***"
      ]
    },
    {
      "cell_type": "code",
      "metadata": {
        "id": "VCbE9PD6gcH4"
      },
      "source": [
        "group_of_users = [1, 2, 3]"
      ],
      "execution_count": null,
      "outputs": []
    },
    {
      "cell_type": "code",
      "metadata": {
        "colab": {
          "base_uri": "https://localhost:8080/",
          "height": 419
        },
        "id": "5doTBtDFgF7-",
        "outputId": "eef44990-d553-4b57-ad51-ce6dceed7b87"
      },
      "source": [
        "df_ratings.loc[df_ratings['userId'].isin(group_of_users)]"
      ],
      "execution_count": null,
      "outputs": [
        {
          "output_type": "execute_result",
          "data": {
            "text/html": [
              "<div>\n",
              "<style scoped>\n",
              "    .dataframe tbody tr th:only-of-type {\n",
              "        vertical-align: middle;\n",
              "    }\n",
              "\n",
              "    .dataframe tbody tr th {\n",
              "        vertical-align: top;\n",
              "    }\n",
              "\n",
              "    .dataframe thead th {\n",
              "        text-align: right;\n",
              "    }\n",
              "</style>\n",
              "<table border=\"1\" class=\"dataframe\">\n",
              "  <thead>\n",
              "    <tr style=\"text-align: right;\">\n",
              "      <th></th>\n",
              "      <th>userId</th>\n",
              "      <th>movieId</th>\n",
              "      <th>rating</th>\n",
              "    </tr>\n",
              "  </thead>\n",
              "  <tbody>\n",
              "    <tr>\n",
              "      <th>0</th>\n",
              "      <td>1</td>\n",
              "      <td>1</td>\n",
              "      <td>4.0</td>\n",
              "    </tr>\n",
              "    <tr>\n",
              "      <th>1</th>\n",
              "      <td>1</td>\n",
              "      <td>3</td>\n",
              "      <td>4.0</td>\n",
              "    </tr>\n",
              "    <tr>\n",
              "      <th>2</th>\n",
              "      <td>1</td>\n",
              "      <td>6</td>\n",
              "      <td>4.0</td>\n",
              "    </tr>\n",
              "    <tr>\n",
              "      <th>3</th>\n",
              "      <td>1</td>\n",
              "      <td>47</td>\n",
              "      <td>5.0</td>\n",
              "    </tr>\n",
              "    <tr>\n",
              "      <th>4</th>\n",
              "      <td>1</td>\n",
              "      <td>50</td>\n",
              "      <td>5.0</td>\n",
              "    </tr>\n",
              "    <tr>\n",
              "      <th>...</th>\n",
              "      <td>...</td>\n",
              "      <td>...</td>\n",
              "      <td>...</td>\n",
              "    </tr>\n",
              "    <tr>\n",
              "      <th>295</th>\n",
              "      <td>3</td>\n",
              "      <td>7899</td>\n",
              "      <td>4.5</td>\n",
              "    </tr>\n",
              "    <tr>\n",
              "      <th>296</th>\n",
              "      <td>3</td>\n",
              "      <td>7991</td>\n",
              "      <td>5.0</td>\n",
              "    </tr>\n",
              "    <tr>\n",
              "      <th>297</th>\n",
              "      <td>3</td>\n",
              "      <td>26409</td>\n",
              "      <td>4.5</td>\n",
              "    </tr>\n",
              "    <tr>\n",
              "      <th>298</th>\n",
              "      <td>3</td>\n",
              "      <td>70946</td>\n",
              "      <td>5.0</td>\n",
              "    </tr>\n",
              "    <tr>\n",
              "      <th>299</th>\n",
              "      <td>3</td>\n",
              "      <td>72378</td>\n",
              "      <td>0.5</td>\n",
              "    </tr>\n",
              "  </tbody>\n",
              "</table>\n",
              "<p>300 rows × 3 columns</p>\n",
              "</div>"
            ],
            "text/plain": [
              "     userId  movieId  rating\n",
              "0         1        1     4.0\n",
              "1         1        3     4.0\n",
              "2         1        6     4.0\n",
              "3         1       47     5.0\n",
              "4         1       50     5.0\n",
              "..      ...      ...     ...\n",
              "295       3     7899     4.5\n",
              "296       3     7991     5.0\n",
              "297       3    26409     4.5\n",
              "298       3    70946     5.0\n",
              "299       3    72378     0.5\n",
              "\n",
              "[300 rows x 3 columns]"
            ]
          },
          "metadata": {},
          "execution_count": 18
        }
      ]
    },
    {
      "cell_type": "code",
      "metadata": {
        "id": "rjFgRfc1gF5P"
      },
      "source": [
        "df_group = df_ratings.loc[df_ratings['userId'].isin(group_of_users)]"
      ],
      "execution_count": null,
      "outputs": []
    },
    {
      "cell_type": "code",
      "metadata": {
        "colab": {
          "base_uri": "https://localhost:8080/",
          "height": 419
        },
        "id": "yQXz40NCgF2j",
        "outputId": "8406c2eb-e534-4e94-c2de-70ab7cd50af1"
      },
      "source": [
        "df_group"
      ],
      "execution_count": null,
      "outputs": [
        {
          "output_type": "execute_result",
          "data": {
            "text/html": [
              "<div>\n",
              "<style scoped>\n",
              "    .dataframe tbody tr th:only-of-type {\n",
              "        vertical-align: middle;\n",
              "    }\n",
              "\n",
              "    .dataframe tbody tr th {\n",
              "        vertical-align: top;\n",
              "    }\n",
              "\n",
              "    .dataframe thead th {\n",
              "        text-align: right;\n",
              "    }\n",
              "</style>\n",
              "<table border=\"1\" class=\"dataframe\">\n",
              "  <thead>\n",
              "    <tr style=\"text-align: right;\">\n",
              "      <th></th>\n",
              "      <th>userId</th>\n",
              "      <th>movieId</th>\n",
              "      <th>rating</th>\n",
              "    </tr>\n",
              "  </thead>\n",
              "  <tbody>\n",
              "    <tr>\n",
              "      <th>0</th>\n",
              "      <td>1</td>\n",
              "      <td>1</td>\n",
              "      <td>4.0</td>\n",
              "    </tr>\n",
              "    <tr>\n",
              "      <th>1</th>\n",
              "      <td>1</td>\n",
              "      <td>3</td>\n",
              "      <td>4.0</td>\n",
              "    </tr>\n",
              "    <tr>\n",
              "      <th>2</th>\n",
              "      <td>1</td>\n",
              "      <td>6</td>\n",
              "      <td>4.0</td>\n",
              "    </tr>\n",
              "    <tr>\n",
              "      <th>3</th>\n",
              "      <td>1</td>\n",
              "      <td>47</td>\n",
              "      <td>5.0</td>\n",
              "    </tr>\n",
              "    <tr>\n",
              "      <th>4</th>\n",
              "      <td>1</td>\n",
              "      <td>50</td>\n",
              "      <td>5.0</td>\n",
              "    </tr>\n",
              "    <tr>\n",
              "      <th>...</th>\n",
              "      <td>...</td>\n",
              "      <td>...</td>\n",
              "      <td>...</td>\n",
              "    </tr>\n",
              "    <tr>\n",
              "      <th>295</th>\n",
              "      <td>3</td>\n",
              "      <td>7899</td>\n",
              "      <td>4.5</td>\n",
              "    </tr>\n",
              "    <tr>\n",
              "      <th>296</th>\n",
              "      <td>3</td>\n",
              "      <td>7991</td>\n",
              "      <td>5.0</td>\n",
              "    </tr>\n",
              "    <tr>\n",
              "      <th>297</th>\n",
              "      <td>3</td>\n",
              "      <td>26409</td>\n",
              "      <td>4.5</td>\n",
              "    </tr>\n",
              "    <tr>\n",
              "      <th>298</th>\n",
              "      <td>3</td>\n",
              "      <td>70946</td>\n",
              "      <td>5.0</td>\n",
              "    </tr>\n",
              "    <tr>\n",
              "      <th>299</th>\n",
              "      <td>3</td>\n",
              "      <td>72378</td>\n",
              "      <td>0.5</td>\n",
              "    </tr>\n",
              "  </tbody>\n",
              "</table>\n",
              "<p>300 rows × 3 columns</p>\n",
              "</div>"
            ],
            "text/plain": [
              "     userId  movieId  rating\n",
              "0         1        1     4.0\n",
              "1         1        3     4.0\n",
              "2         1        6     4.0\n",
              "3         1       47     5.0\n",
              "4         1       50     5.0\n",
              "..      ...      ...     ...\n",
              "295       3     7899     4.5\n",
              "296       3     7991     5.0\n",
              "297       3    26409     4.5\n",
              "298       3    70946     5.0\n",
              "299       3    72378     0.5\n",
              "\n",
              "[300 rows x 3 columns]"
            ]
          },
          "metadata": {},
          "execution_count": 20
        }
      ]
    },
    {
      "cell_type": "code",
      "metadata": {
        "id": "kbsIYLzGgF0A"
      },
      "source": [
        "df_group = pd.merge(df_group ,df_movies[df_movies['movieId'].isin(df_group['movieId'])]).drop('year',1)"
      ],
      "execution_count": null,
      "outputs": []
    },
    {
      "cell_type": "code",
      "metadata": {
        "colab": {
          "base_uri": "https://localhost:8080/",
          "height": 419
        },
        "id": "wqaialKtgFsa",
        "outputId": "c32e7892-a70c-40c4-8928-119e3bdd03c2"
      },
      "source": [
        "df_group"
      ],
      "execution_count": null,
      "outputs": [
        {
          "output_type": "execute_result",
          "data": {
            "text/html": [
              "<div>\n",
              "<style scoped>\n",
              "    .dataframe tbody tr th:only-of-type {\n",
              "        vertical-align: middle;\n",
              "    }\n",
              "\n",
              "    .dataframe tbody tr th {\n",
              "        vertical-align: top;\n",
              "    }\n",
              "\n",
              "    .dataframe thead th {\n",
              "        text-align: right;\n",
              "    }\n",
              "</style>\n",
              "<table border=\"1\" class=\"dataframe\">\n",
              "  <thead>\n",
              "    <tr style=\"text-align: right;\">\n",
              "      <th></th>\n",
              "      <th>userId</th>\n",
              "      <th>movieId</th>\n",
              "      <th>rating</th>\n",
              "      <th>title</th>\n",
              "    </tr>\n",
              "  </thead>\n",
              "  <tbody>\n",
              "    <tr>\n",
              "      <th>0</th>\n",
              "      <td>1</td>\n",
              "      <td>1</td>\n",
              "      <td>4.0</td>\n",
              "      <td>Toy Story</td>\n",
              "    </tr>\n",
              "    <tr>\n",
              "      <th>1</th>\n",
              "      <td>1</td>\n",
              "      <td>3</td>\n",
              "      <td>4.0</td>\n",
              "      <td>Grumpier Old Men</td>\n",
              "    </tr>\n",
              "    <tr>\n",
              "      <th>2</th>\n",
              "      <td>1</td>\n",
              "      <td>6</td>\n",
              "      <td>4.0</td>\n",
              "      <td>Heat</td>\n",
              "    </tr>\n",
              "    <tr>\n",
              "      <th>3</th>\n",
              "      <td>1</td>\n",
              "      <td>47</td>\n",
              "      <td>5.0</td>\n",
              "      <td>Seven (a.k.a. Se7en)</td>\n",
              "    </tr>\n",
              "    <tr>\n",
              "      <th>4</th>\n",
              "      <td>1</td>\n",
              "      <td>50</td>\n",
              "      <td>5.0</td>\n",
              "      <td>Usual Suspects, The</td>\n",
              "    </tr>\n",
              "    <tr>\n",
              "      <th>...</th>\n",
              "      <td>...</td>\n",
              "      <td>...</td>\n",
              "      <td>...</td>\n",
              "      <td>...</td>\n",
              "    </tr>\n",
              "    <tr>\n",
              "      <th>295</th>\n",
              "      <td>3</td>\n",
              "      <td>7899</td>\n",
              "      <td>4.5</td>\n",
              "      <td>Master of the Flying Guillotine (Du bi quan wa...</td>\n",
              "    </tr>\n",
              "    <tr>\n",
              "      <th>296</th>\n",
              "      <td>3</td>\n",
              "      <td>7991</td>\n",
              "      <td>5.0</td>\n",
              "      <td>Death Race 2000</td>\n",
              "    </tr>\n",
              "    <tr>\n",
              "      <th>297</th>\n",
              "      <td>3</td>\n",
              "      <td>26409</td>\n",
              "      <td>4.5</td>\n",
              "      <td>Clonus Horror, The</td>\n",
              "    </tr>\n",
              "    <tr>\n",
              "      <th>298</th>\n",
              "      <td>3</td>\n",
              "      <td>70946</td>\n",
              "      <td>5.0</td>\n",
              "      <td>Troll 2</td>\n",
              "    </tr>\n",
              "    <tr>\n",
              "      <th>299</th>\n",
              "      <td>3</td>\n",
              "      <td>72378</td>\n",
              "      <td>0.5</td>\n",
              "      <td>2012</td>\n",
              "    </tr>\n",
              "  </tbody>\n",
              "</table>\n",
              "<p>300 rows × 4 columns</p>\n",
              "</div>"
            ],
            "text/plain": [
              "     userId  movieId  rating                                              title\n",
              "0         1        1     4.0                                         Toy Story \n",
              "1         1        3     4.0                                  Grumpier Old Men \n",
              "2         1        6     4.0                                              Heat \n",
              "3         1       47     5.0                              Seven (a.k.a. Se7en) \n",
              "4         1       50     5.0                               Usual Suspects, The \n",
              "..      ...      ...     ...                                                ...\n",
              "295       3     7899     4.5  Master of the Flying Guillotine (Du bi quan wa...\n",
              "296       3     7991     5.0                                   Death Race 2000 \n",
              "297       3    26409     4.5                                Clonus Horror, The \n",
              "298       3    70946     5.0                                           Troll 2 \n",
              "299       3    72378     0.5                                              2012 \n",
              "\n",
              "[300 rows x 4 columns]"
            ]
          },
          "metadata": {},
          "execution_count": 22
        }
      ]
    },
    {
      "cell_type": "code",
      "metadata": {
        "id": "LR_VSZrjgFpT"
      },
      "source": [
        "# looking for those users who have watched the same movies like our users in group\n",
        "\n",
        "similar_users = df_ratings[df_ratings['movieId'].isin(df_group['movieId']).tolist()]\n",
        "similar_users = similar_users[~similar_users.userId.isin(group_of_users)]"
      ],
      "execution_count": null,
      "outputs": []
    },
    {
      "cell_type": "code",
      "metadata": {
        "colab": {
          "base_uri": "https://localhost:8080/",
          "height": 419
        },
        "id": "lD4xXhU6gFmR",
        "outputId": "203aa209-0ade-4ad9-85ec-773fcc2635da"
      },
      "source": [
        "similar_users"
      ],
      "execution_count": null,
      "outputs": [
        {
          "output_type": "execute_result",
          "data": {
            "text/html": [
              "<div>\n",
              "<style scoped>\n",
              "    .dataframe tbody tr th:only-of-type {\n",
              "        vertical-align: middle;\n",
              "    }\n",
              "\n",
              "    .dataframe tbody tr th {\n",
              "        vertical-align: top;\n",
              "    }\n",
              "\n",
              "    .dataframe thead th {\n",
              "        text-align: right;\n",
              "    }\n",
              "</style>\n",
              "<table border=\"1\" class=\"dataframe\">\n",
              "  <thead>\n",
              "    <tr style=\"text-align: right;\">\n",
              "      <th></th>\n",
              "      <th>userId</th>\n",
              "      <th>movieId</th>\n",
              "      <th>rating</th>\n",
              "    </tr>\n",
              "  </thead>\n",
              "  <tbody>\n",
              "    <tr>\n",
              "      <th>303</th>\n",
              "      <td>4</td>\n",
              "      <td>47</td>\n",
              "      <td>2.0</td>\n",
              "    </tr>\n",
              "    <tr>\n",
              "      <th>316</th>\n",
              "      <td>4</td>\n",
              "      <td>235</td>\n",
              "      <td>2.0</td>\n",
              "    </tr>\n",
              "    <tr>\n",
              "      <th>318</th>\n",
              "      <td>4</td>\n",
              "      <td>260</td>\n",
              "      <td>5.0</td>\n",
              "    </tr>\n",
              "    <tr>\n",
              "      <th>320</th>\n",
              "      <td>4</td>\n",
              "      <td>296</td>\n",
              "      <td>1.0</td>\n",
              "    </tr>\n",
              "    <tr>\n",
              "      <th>329</th>\n",
              "      <td>4</td>\n",
              "      <td>441</td>\n",
              "      <td>1.0</td>\n",
              "    </tr>\n",
              "    <tr>\n",
              "      <th>...</th>\n",
              "      <td>...</td>\n",
              "      <td>...</td>\n",
              "      <td>...</td>\n",
              "    </tr>\n",
              "    <tr>\n",
              "      <th>100542</th>\n",
              "      <td>610</td>\n",
              "      <td>91658</td>\n",
              "      <td>4.0</td>\n",
              "    </tr>\n",
              "    <tr>\n",
              "      <th>100596</th>\n",
              "      <td>610</td>\n",
              "      <td>99114</td>\n",
              "      <td>4.5</td>\n",
              "    </tr>\n",
              "    <tr>\n",
              "      <th>100657</th>\n",
              "      <td>610</td>\n",
              "      <td>106782</td>\n",
              "      <td>4.5</td>\n",
              "    </tr>\n",
              "    <tr>\n",
              "      <th>100673</th>\n",
              "      <td>610</td>\n",
              "      <td>109487</td>\n",
              "      <td>3.5</td>\n",
              "    </tr>\n",
              "    <tr>\n",
              "      <th>100737</th>\n",
              "      <td>610</td>\n",
              "      <td>122882</td>\n",
              "      <td>5.0</td>\n",
              "    </tr>\n",
              "  </tbody>\n",
              "</table>\n",
              "<p>18556 rows × 3 columns</p>\n",
              "</div>"
            ],
            "text/plain": [
              "        userId  movieId  rating\n",
              "303          4       47     2.0\n",
              "316          4      235     2.0\n",
              "318          4      260     5.0\n",
              "320          4      296     1.0\n",
              "329          4      441     1.0\n",
              "...        ...      ...     ...\n",
              "100542     610    91658     4.0\n",
              "100596     610    99114     4.5\n",
              "100657     610   106782     4.5\n",
              "100673     610   109487     3.5\n",
              "100737     610   122882     5.0\n",
              "\n",
              "[18556 rows x 3 columns]"
            ]
          },
          "metadata": {},
          "execution_count": 24
        }
      ]
    },
    {
      "cell_type": "code",
      "metadata": {
        "id": "DtHcqGv0gFjW"
      },
      "source": [
        "similar_users = similar_users.groupby(['userId'])"
      ],
      "execution_count": null,
      "outputs": []
    },
    {
      "cell_type": "code",
      "metadata": {
        "id": "DvM7pNPOgFd8"
      },
      "source": [
        "# Most similar user groups sorted\n",
        "similar_users = sorted(similar_users,  key=lambda x: len(x[1]), reverse=True)"
      ],
      "execution_count": null,
      "outputs": []
    },
    {
      "cell_type": "code",
      "metadata": {
        "id": "5TkwBRtHgFWD"
      },
      "source": [
        "pearson_coff = {}\n",
        "\n",
        "for user in group_of_users:\n",
        "  pearson_coff[user] = {}\n",
        "  similar_users = df_group[df_group['userId'] == user]\n",
        "  similar_users = df_ratings[df_ratings['movieId'].isin(similar_users['movieId']).tolist()]\n",
        "  similar_users = similar_users[~similar_users.userId.isin([user])]\n",
        "  similar_users = similar_users.groupby(['userId'])\n",
        "  similar_users = sorted(similar_users,  key=lambda x: len(x[1]), reverse=True)\n",
        "  for name, group in similar_users:\n",
        "      #Let's start by sorting the input and current user group so the values aren't mixed up later on\n",
        "      group = group.sort_values(by='movieId')\n",
        "      input_user = df_group[df_group['userId'] == user].sort_values(by='movieId')\n",
        "\n",
        "      total_ratings = len(group)\n",
        "      # Review scores for the movies that they both have in common\n",
        "      temp_df = input_user[input_user['movieId'].isin(group['movieId'].tolist())]\n",
        "      user_in_ques_ratings = temp_df['rating'].tolist()\n",
        "      # Let's choose the simple variable name i.e. 'x'\n",
        "      x = user_in_ques_ratings\n",
        "      x_mean = statistics.mean(x)\n",
        "      x_minus_x_mean = list((i-x_mean for i in x))\n",
        "      x_minus_x_mean_squre = [i*i for i in x_minus_x_mean]\n",
        "      sum_of_x_minus_x_mean_square = sum(x_minus_x_mean_squre)\n",
        "\n",
        "      #Let's also put the current user group reviews in a list format\n",
        "      ratings_of_similar_user = group['rating'].tolist()\n",
        "      # Let's choose the simple variable name i.e. 'y'\n",
        "      y = ratings_of_similar_user\n",
        "      y_mean = statistics.mean(y)\n",
        "      y_minus_y_mean = list((i-y_mean for i in y))\n",
        "      y_minus_y_mean_square = [i*i for i in y_minus_y_mean]\n",
        "      sum_of_y_minus_y_mean_square = sum(y_minus_y_mean_square)\n",
        "\n",
        "      x_minus_x_mean_mul_y_minus_y_mean = (i*j for i,j in zip(x_minus_x_mean, y_minus_y_mean))\n",
        "      sum_of_x_minus_x_mean_mul_y_minus_y_mean = sum(x_minus_x_mean_mul_y_minus_y_mean)\n",
        "\n",
        "\n",
        "      denominator = sqrt(sum_of_x_minus_x_mean_square*sum_of_y_minus_y_mean_square)\n",
        "      \n",
        "      if denominator != 0:\n",
        "        pearson_coff[user][name] = sum_of_x_minus_x_mean_mul_y_minus_y_mean/denominator\n",
        "      else:\n",
        "        pearson_coff[user][name] = 0"
      ],
      "execution_count": null,
      "outputs": []
    },
    {
      "cell_type": "code",
      "metadata": {
        "id": "-azttkbkgFRe",
        "colab": {
          "base_uri": "https://localhost:8080/"
        },
        "outputId": "77c85c45-2e00-4212-b17c-4e20772ccd87"
      },
      "source": [
        "pearson_coff.items()"
      ],
      "execution_count": null,
      "outputs": [
        {
          "output_type": "execute_result",
          "data": {
            "text/plain": [
              "dict_items([(1, {414: 0.41186410352090536, 599: 0.21976809443118978, 474: 0.13462166738326414, 68: 0.028221900216028616, 288: 0.18182772066934832, 274: 0.05681933617507971, 448: 0.3451787982895458, 608: 0.2680699374101865, 182: 0.18182353240556265, 480: 0.2264122983258445, 590: 0.3111824770205233, 380: 0.049271049584399804, 19: 0.32518024337203466, 387: 0.2704146241426443, 217: -0.017673398399180078, 600: 0.25364908813995984, 91: 0.0956622956952898, 307: 0.32096231902537775, 57: 0.3542598962415167, 64: 0.20142767777641482, 469: 0.287975311224966, 603: -0.06150271405737388, 313: 0.058983438040488397, 368: 0.23910305126173534, 483: 0.29789244524828706, 177: 0.11350773061827389, 45: 0.26740222880029524, 555: 0.3208317102277071, 160: 0.32282378045705906, 226: 0.3126532505950559, 477: 0.4053425045684789, 561: 0.2054174462589411, 597: 0.42702914061318026, 202: 0.060703237148243445, 249: 0.309438905126688, 391: 0.18902464114524936, 489: 0.19882703241768437, 219: 0.26422115408093483, 294: 0.04577437547566397, 606: 0.0663784912418169, 330: 0.13576865300635377, 135: 0.30729341362312634, 42: 0.14080922503659643, 305: 0.06392178574076514, 580: 0.1168077779539122, 381: 0.1128681983268206, 425: 0.0470164088066528, 28: -0.014257366896705061, 140: 0.044024732425713205, 239: 0.2143200814838, 298: -0.007502182423894859, 452: 0.037032211480258655, 453: 0.12602330403869796, 18: 0.2053708329072331, 318: -0.017226530707168834, 428: 0.1578766527427642, 156: 0.006667387873860224, 292: 0.21892342889034933, 357: 0.10785822071218021, 610: -0.03208649335382095, 438: 0.22907175671849464, 266: 0.3565109908870696, 66: 0.15576249822828528, 573: 0.05439001255055722, 328: 0.12504320617512482, 354: 0.008273466183963006, 434: 0.32681982829914946, 525: 0.012331028057605546, 577: 0.3111321928865271, 198: 0.3774761044953094, 234: 0.18382188910868846, 514: 0.047893929319203554, 332: 0.24212022788255777, 607: 0.17455715670423244, 103: 0.03726541181146682, 186: -0.013524472317010762, 199: 0.352673706412666, 220: 0.12804617214843841, 462: 0.0006545875139558562, 517: 0.08018113607790278, 570: 0.14860930010683632, 232: 0.1147175667120562, 282: 0.06069259340458553, 356: 0.02595426521093869, 372: -0.02456108119536925, 275: 0.06386714071301744, 385: 0.2837150461946926, 304: 0.15294488299495798, 312: 0.3564457659159249, 200: 0.27243461110593176, 166: 0.17203067297156363, 534: -0.007132826077988432, 560: 0.08687223395818261, 63: 0.2845888870620592, 39: -0.22568092527182754, 132: 0.06167440846456534, 122: 0.32803702676244395, 221: 0.08256347506236364, 21: 0.10711877914382663, 82: 0.10329259976643361, 27: 0.18943733019219794, 290: -0.02239401915156032, 4: 0.2079829665218926, 527: -0.038387015360131935, 84: -0.02599923011582949, 187: 0.21350752701669437, 522: 0.046612897918965154, 195: -0.2255137169170578, 484: 0.5098859238821173, 562: 0.02279744682892473, 167: 0.4052842325369211, 169: 0.2517055175539947, 51: 0.06518261024735053, 201: 0.35689718125575876, 509: 0.02802759273356052, 17: 0.03790087381375181, 59: 0.07534646139338581, 96: 0.08757565662425, 520: 0.035522807626990296, 552: 0.3617772639399454, 93: 0.1943067215533635, 115: 0.26519121324959277, 144: 0.2072250505005084, 325: 0.012196640948870718, 352: 0.16242352544274696, 376: -0.19428999116789045, 524: 0.384954892146264, 596: 0.5632257083923146, 137: 0.09514090916189033, 141: 0.036702575356515325, 230: -0.29275025815402916, 247: 0.020339293425181, 263: 0.43480711383362286, 265: 0.23471876059812619, 279: -0.05892974110718293, 105: 0.004741946714550959, 432: 0.21426385174275214, 464: 0.36725092503440265, 594: 0.19846007489341488, 605: -0.16487115959357457, 287: 0.2468689122352234, 339: 0.1968036205616771, 6: -0.29163578067759205, 20: 0.4196412352206234, 104: 0.0795588367310173, 111: 0.13728049516003865, 117: 0.14579287036048294, 129: -0.11627553482998892, 222: 0.17787795304587986, 370: -0.31822693565526594, 419: 0.08410072999750462, 465: -0.16197797249350945, 95: 0.23570615536714104, 171: 0.36789503414985814, 254: 0.3400327186521375, 322: 0.25091510680166534, 493: 0.12857571271486287, 212: 0.3562381201330514, 244: 0.19725910171883063, 367: -0.19831073270226174, 116: 0.3095171740001214, 215: 0.4748241717504073, 317: -0.2697665149768216, 362: -0.13802888749998707, 62: 0.5116817192534651, 76: 0.36214663460299806, 100: 0.14887706497034423, 334: -0.050348436271298785, 382: -0.16675130578653005, 437: 0.05134698406371744, 216: 0.4085297439895141, 233: 0.22400954380517066, 314: 0.32213636517438304, 369: 0.6120977479108416, 495: 0.40631150881407474, 572: 0.31915832756745904, 33: 0.08852253162596163, 41: -0.13492985935517277, 268: 0.3213989615215971, 301: 0.5356535879352012, 424: -0.055215763037423364, 559: -0.013210651496808872, 586: 0.16357347699153932, 593: 0.4924833614067195, 602: 0.0, 7: -0.11877282594685314, 16: 0.1918505942275043, 58: 0.3519984058171881, 79: -0.08879810126318614, 109: -0.05337909289877586, 286: 0.2290328443217924, 409: 0.02941940048932782, 510: 0.36255186535869555, 15: 0.23263601431101885, 24: 0.24904636057050789, 50: -0.033595657034169786, 178: 0.5613413993878118, 240: -0.06672116597666922, 410: 0.39735970711951335, 415: 0.2317287743291087, 420: 0.16846689776421042, 587: -0.30219518801347284, 183: -0.24525319584985042, 373: -0.09775387565344144, 411: -0.30532901344551727, 125: 0.2719743323425642, 418: 0.39791858180796824, 532: -0.101696538308753, 554: 0.11004677029653627, 32: 0.2770173444257775, 43: 0.11129139959940111, 153: 0.04233306793780618, 223: 0.20696099152929853, 225: 0.054711013691551014, 260: 0.0, 323: 0.3736185948160215, 336: 0.19291434268619803, 470: 0.045124262819713996, 479: 0.47516730961360915, 500: -0.1414347249905878, 124: 0.37199897189092007, 211: 0.01354653778933228, 246: 0.3600097941978055, 303: 0.1798463479999733, 308: 0.355995327591988, 346: -0.25854668987451834, 359: 0.09689557810465202, 405: -0.18128780542752868, 446: -0.0739509972887452, 542: 0.2141547628704844, 566: -0.12229989761755716, 579: -0.45356317883572944, 588: -0.028160635851807572, 29: -0.07049479355541818, 72: 0.596432079365658, 75: 0.4547258774638638, 78: 0.27961990543256393, 164: -0.23950140986747312, 179: -0.11745408600387564, 181: -0.10353498116503185, 280: -0.1294234088581699, 353: 0.0, 386: 0.08068983433060116, 592: -0.09622504486493764, 38: 0.24608488154354952, 83: 0.14962640041614494, 86: 0.23742778106092002, 131: 0.048695725815898094, 264: -0.254907417791742, 284: -0.29240383034426887, 344: 0.5876090568309212, 361: -0.4093241804012289, 399: 0.31213545367470913, 412: 0.18075112452346184, 475: -0.015430334996209197, 541: -0.30716902450767636, 112: 0.5838924858069251, 136: 0.38245559905852544, 267: 0.1930651062743147, 326: 0.3644601288495191, 400: -0.05960787776784028, 457: 0.07694837640638656, 482: -0.40247170220324807, 503: 0.30700397560036424, 23: -0.364371689814067, 31: 0.03336630399750974, 89: 0.05050762722761051, 102: -0.3127178289358891, 297: 0.706281466608201, 395: -0.4850867563364247, 445: 0.569069458713125, 486: -0.3538296401918159, 488: 0.33216919286976, 553: -0.2106073591445907, 567: 0.004301562697456046, 11: -0.08764340007155369, 40: -0.35400521619692155, 149: -0.09592353720958519, 155: 0.1836110532684469, 165: 0.3617515688022157, 168: 0.3475852384554688, 174: -0.17338428937260214, 235: 0.17937400083354382, 261: 0.09687206403547745, 348: 0.2176428750330035, 365: 0.08281733249999221, 393: 0.019895491562407545, 408: 0.1960392117639214, 417: -0.19128607780456042, 436: 0.16834512458535864, 512: 0.4020550065785713, 528: -0.15370897969986877, 551: -0.05550798678618963, 584: -0.07608586610532987, 8: 0.46966821831386196, 34: 0.03235585221454247, 69: 0.3015113445777637, 101: 0.20067540595872999, 133: 0.4546765545206497, 204: 0.19316685232156397, 229: 0.0, 343: -0.055606430617091765, 404: -0.03790490217894512, 447: 0.2886751345948129, 513: 0.4523382164730225, 56: 0.25999999999999995, 110: 0.11262289639991435, 121: -0.2733257439273904, 126: 0.3912874413615636, 152: -0.1863210282133609, 193: 0.1621201276952658, 273: -0.24698619121164947, 276: 0.29827937950065225, 309: 0.08962499969991632, 321: -0.33421342287388933, 337: -0.3444879190396001, 384: -0.13283612836979147, 403: -0.2533201985524493, 413: -0.25679745286624317, 416: -0.16979054399120358, 441: -0.13777841616728467, 444: -0.09860132971832694, 449: 0.47727370300742594, 455: 0.22088531544818726, 458: -0.030151134457776396, 492: -0.3786917049625032, 498: 0.33935956765640346, 557: -0.32201863874006387, 571: -0.09699794920789634, 591: 0.2808747068080343, 5: 0.2687490263457713, 14: 0.22908106449636378, 44: 0.6844475644404534, 47: 0.5029771847499669, 74: -0.061679395474396125, 80: 0.22955225023722262, 94: -0.3036421933135836, 113: 0.5408326913195985, 119: 0.15119416584381723, 128: -0.24720661623652213, 134: -0.2557448052364025, 142: 0.0, 176: 0.5393598899705939, 197: -0.1259113121867347, 347: -0.044946657497549454, 374: -0.029952114893657723, 379: 0.31542003094028026, 390: -0.09247423111652973, 490: 0.1669613913295234, 494: 0.5673498155007975, 540: 0.41489737346538424, 585: 0.05570311373193269, 54: -0.05822225097395817, 61: 0.15631503171567185, 170: 0.2881355932203388, 191: 0.17864740025262407, 208: 0.23782574707724713, 224: -0.4522670168666455, 227: -0.13594132462113392, 231: -0.10286889997472794, 241: -0.1866513050514766, 251: 0, 283: 0.2773500981126145, 302: 0.5538158354626344, 335: 0.1118033988749895, 371: 0.23453453065145566, 497: -0.053994924715603944, 589: -0.3880752628531664, 604: -0.4075557568177074, 37: -0.41935483870967755, 46: 0.08333333333333338, 67: -0.1979166666666667, 172: 0.4876877756473266, 203: -0.5928112891314328, 210: 0.7676494735787386, 316: 0.3814468902793759, 340: 0.30669780754107395, 422: 0.12257258446136496, 443: -0.05241424183609596, 450: 0.5536930229999484, 451: 0.46594555814804667, 476: 0.7869358789643608, 558: 0.1238760208523001, 601: 0.09157370929912614, 36: 0.43242556575519353, 71: -0.7304869991056846, 81: -0.23875114908478098, 98: -0.5409063027036665, 151: 0.1286978904175574, 159: 0.18820469568107587, 180: 0, 209: 0.5329517414226601, 236: 0.3748789971250483, 248: 0.6246950475544242, 256: -0.16574838603294897, 270: 0.4662524041201569, 295: -0.3202563076101742, 327: 0.38924947208076144, 331: -0.12294668957858888, 349: -0.16760038078849773, 350: 0.35043832202523123, 377: -0.3202563076101743, 394: 0.6506000486323554, 402: -0.42028985507246375, 433: -0.31075284887166504, 461: -0.3095238095238095, 463: -0.35064935064935066, 502: 0.15419100677285427, 516: 0.46656947481584343, 526: 0.4385290096535146, 536: 0.35031136541416513, 549: -0.2611164839335468, 565: 0.0, 48: -0.10254355992664327, 70: -0.020869596778242044, 73: -0.21677749238103008, 118: 0.0, 123: 0.25000000000000017, 192: -0.02490677406933587, 213: 0.0, 237: 0.07125074068438123, 242: 0.16854996561581043, 289: -0.21153846153846154, 296: 0.20801257358446096, 310: 0.26933615878091555, 342: 0.0545544725589981, 351: 0.6000000000000001, 355: 0.36927447293799814, 363: -0.4629100498862759, 426: -0.36035906710365456, 454: -0.07624928516630224, 456: 0.01914598952668702, 485: -0.2651974176527183, 507: 0.2773500981126146, 531: 0.39757328397294533, 569: -0.7500000000000001, 609: -0.17541160386140583, 30: -0.14285714285714285, 52: -0.5163977794943222, 88: 0.2176428750330035, 120: 0.5948744389248242, 130: 0.09124485970087103, 173: 0.6172133998483676, 196: 0.32387513781564786, 206: 0.5962847939999439, 255: 0.2279211529192759, 262: 0.23186944788008415, 271: 0.0, 293: -0.29277002188455997, 300: 0.564932682866032, 329: -0.6515837655350015, 364: 0.0, 375: 0.606128125356204, 423: -0.30304576336566325, 430: 0.6546536707079772, 435: 0.6109598099719177, 439: 0.02450715406979359, 468: 0.09325048082403138, 521: 0.4364357804719848, 529: 0.0, 530: 0.7559289460184544, 533: 0.17323973216880928, 539: -0.04364357804719848, 543: 0.2672612419124244, 546: -0.027639499641139105, 3: 0.07981885710176258, 22: -0.46303926413858626, 25: -0.16666666666666669, 26: 0.14142135623730948, 49: 0.7500000000000001, 97: -0.3721042037676254, 99: 0.5834500350116709, 107: 0.23008949665421122, 108: 0.05184758473652125, 145: 0.36689969285267143, 147: -0.39487359486949225, 150: -0.4183300132670378, 162: 0.7083333333333331, 185: 0.4483219332480462, 189: 0.35355339059327373, 194: -0.07254762501100123, 218: 0.020227834851568347, 269: 0.39999999999999997, 299: 0.4135850959342556, 345: -0.2581988897471611, 389: 0.4166666666666665, 392: 0.3202563076101744, 396: -0.3745547518533471, 407: 0.0912870929175277, 466: -0.5383819020581656, 515: -0.25819888974716126, 548: -0.6871180011766418, 564: 0.0, 568: 0.14433756729740643, 574: 0.643796306459214, 595: 0.5095246653650682, 10: -0.037986858819879316, 13: 0.8783100656536798, 35: 0.2970442628930023, 55: 0.5136539681560863, 77: 0, 90: 0.8215838362577492, 114: 0.7592566023652965, 207: 0.7016464154456233, 214: 0.41522739926869984, 228: -0.2449489742783178, 277: -0.13130643285972257, 311: 0.0972128464353041, 378: -0.4629100498862757, 398: 0.2, 421: 0.6412234498911868, 427: -0.6142951168339511, 429: 0.04503773491110449, 431: 0.6030226891555273, 460: -0.1313064328597225, 471: 0.0, 487: 0.7745966692414833, 501: -0.8215838362577491, 504: 0.34299717028501775, 511: 0.9258200997725514, 523: 0.49999999999999994, 535: 0.8664002254439634, 544: -0.5570860145311556, 563: -0.3999999999999999, 583: -0.03787770095392849, 9: 0.9185586535436917, 65: 0.6123724356957946, 139: 0.7905694150420949, 157: 0.8017837257372732, 163: 0.4225771273642583, 188: -0.2500000000000001, 243: -0.8964214570007952, 258: 0, 319: 0.4564354645876384, 338: 0.3952847075210474, 341: 0.23791547571544325, 366: 0.8728715609439694, 401: 0.8669214468630109, 467: 0.5669467095138409, 491: -0.6454972243679028, 505: 0.6123724356957945, 508: 0.2624453295839119, 537: -0.19764235376052375, 575: 0.4225771273642583, 581: 0.0, 582: 0.2500000000000001, 53: 0, 60: 0, 138: 0.39056673294247163, 143: -0.16952581789376897, 161: -0.8164965809277261, 205: 0.0, 238: 0.17407765595569785, 272: 0.3333333333333333, 406: 0.13245323570650439, 473: 0.9622504486493763, 154: 0.8660254037844387, 158: -0.9707253433941511, 190: 0, 250: -0.18898223650461354, 257: -0.6933752452815364, 278: 0, 281: 0, 285: 0.5, 320: 0, 360: 0, 442: 0.5, 459: 0, 478: 0, 481: 0.8660254037844387, 499: 0.8029550685469661, 518: -1.0, 538: 0, 545: 0, 550: 1.0, 576: -0.49999999999999994, 2: 0, 12: 0, 87: 0, 92: -1.0, 106: 1.0, 127: 0, 146: 1.0, 148: -1.0, 252: 0, 259: 0, 324: 0, 333: 1.0, 440: -1.0, 472: 0, 519: 0, 547: 0, 598: 1.0, 85: 0, 184: 0, 245: 0, 253: 0, 291: 0, 315: 0, 358: 0, 383: 0, 388: 0}), (2, {414: -0.3004669669384539, 448: 0.1625230390566086, 599: -0.016020576514023107, 298: 0.25230102002982385, 18: -0.26464574750752307, 68: 0.08005615784207075, 105: -0.2644995705933924, 249: 0.14596855203028558, 62: -0.16222362622983807, 305: -0.42332124730955506, 495: -0.07265477421488706, 610: 0.6232876214384133, 111: 0.37015015468203843, 352: -0.2871677656313626, 274: 0.04473916587575093, 279: -0.35043832202523123, 560: 0.37868099398035776, 561: 0.13616851673513145, 573: 0.5053695300237204, 247: -0.42697110755805645, 317: 0.21560984046602588, 318: -0.24416727596455493, 119: -0.34612422654015396, 122: 0.20779397052122803, 177: -0.17471942877262117, 212: -0.5020790110464022, 233: -0.083701635314193, 103: -0.38674896594332075, 365: 0.07276035313504538, 424: 0.12087344460380706, 522: 0.12525168038977333, 41: 0.11279171913596042, 63: -0.30789676868727817, 125: 0.19170927608908483, 227: 0.43979660370628026, 331: -0.3570476542530333, 339: -0.08827348295047498, 417: 0.2809757434745082, 483: -0.18534184286413158, 21: -0.020534703454456564, 50: -0.12576999619408205, 73: -0.14670289407654769, 141: -0.1153697758738622, 222: -0.20657302290740542, 232: -0.19218769604620276, 282: 0.16035674514745463, 326: 0.7063656255197138, 378: 0.33184075464748564, 380: 0.3044612113447017, 477: -0.3081118490588927, 514: 0.20716399740490568, 596: 0.49407723975162, 601: -0.3873467559917655, 15: -0.3301737043624324, 80: -0.1878263710041784, 408: -0.05769230769230763, 525: 0.17533359609241797, 52: 0.260132990857236, 328: 0.13558153613666013, 357: 0.5303300858899106, 366: -0.7038066272602094, 432: -0.08193419066805775, 434: 0.5664232612353889, 528: 0.2443974501429253, 534: -0.13054946405692608, 582: 0.04419417382415921, 76: 0.2374587360434654, 139: -0.5309738756443682, 211: -0.04394219057377803, 219: 0.09300324093471209, 256: -0.38949459141996673, 292: -0.004733810683311509, 307: -0.29277002188455997, 330: 0.16222142113076254, 351: -0.05776712868787001, 382: -0.4041618896823446, 393: 0.5439580966939495, 435: -0.15114173098063566, 484: -0.2055566129482595, 509: -0.041344911529736156, 22: -0.6192921178835777, 24: -0.6416889479197481, 28: -0.1666666666666667, 65: 0.12136700910941019, 132: -0.5960395606792699, 152: -0.21404317236952233, 209: 0.5037348791686918, 239: 0.0, 332: 0.57282196186948, 362: -0.5129891760425768, 419: -0.48809353009197626, 461: -0.14647495063408777, 466: 0.037037037037036986, 480: 0.2051956704170308, 489: -0.08417256229267932, 511: -0.441004868587238, 523: 0, 537: 0.3859224924939799, 550: -0.7486371059063726, 562: -0.23819653367016538, 567: 0.1803339269334865, 586: -0.19720265943665385, 590: 0.0, 17: 0.0, 25: 0.10846522890932814, 83: 0.18428853505018536, 88: -0.24253562503633297, 112: -0.0674199862463242, 123: -0.5118906968889914, 140: -0.16116459280507608, 153: 0.49408695167958955, 166: -0.1767766952966369, 184: 0.3380617018914066, 189: 0.6875000000000001, 200: -0.14433756729740646, 226: 0.17770466332772772, 300: -0.5838742081211422, 356: -0.3928571428571428, 387: 0.16081688022566923, 415: -0.8574929257125441, 425: -0.21926450482675736, 433: -0.3674234614174768, 438: 0.08770580193070297, 460: -0.7427813527082073, 462: -0.20469731336539293, 464: -0.6868028197434451, 474: -0.661437827766148, 475: 0.06477502756312958, 487: -0.4783446031074606, 497: -0.20145574100634508, 515: 0, 551: 0.04767312946227962, 580: -0.21650635094610968, 608: -0.12499999999999996, 10: 0.03779644730092272, 16: -0.17647058823529416, 29: -0.31008683647302115, 30: 0, 64: -0.3668996928526713, 66: 0.17902871850985821, 91: 0.6933752452815365, 131: -0.1961161351381841, 182: -0.600099198148979, 199: -0.6973779695320637, 223: -0.4082482904638631, 241: 0.15811388300841897, 246: 0.8075728530872482, 261: 0.23076923076923078, 288: -0.3546634510659543, 308: 0.46513025470953173, 319: 0.5833333333333333, 354: -0.49099025303098276, 400: -0.45643546458763845, 413: 0.1474419561548971, 441: 0.0, 445: -0.6123724356957946, 490: 0.6621221919717307, 517: -0.12635708425057246, 564: 0.41286141192238524, 581: -0.7905694150420949, 585: 0.0, 606: 0.5833333333333334, 42: 0.3458572319330373, 47: 0.3971869795707654, 67: -0.7745966692414834, 77: 0.2522483346020447, 86: -0.22941573387056174, 98: -0.6882472016116852, 159: -0.48542788893927885, 190: 0, 204: -0.5057805388588731, 220: -0.4082482904638631, 230: -0.13245323570650439, 237: -0.2970442628930023, 254: 0.5773502691896258, 295: -0.13245323570650439, 322: -0.6622661785325219, 334: -0.30779350562554625, 348: -0.4472135954999579, 381: 0.7894736842105263, 418: -0.22941573387056174, 459: -0.8164965809277261, 472: 0, 503: 0.3244428422615251, 549: 0.22941573387056174, 570: -0.6882472016116852, 7: -0.9912407071619305, 45: 0.49999999999999994, 49: 0.5, 154: 0, 156: -0.6546536707079772, 169: -0.6933752452815363, 187: 0.0, 195: -0.944911182523068, 196: 0.9449111825230682, 198: -0.6546536707079772, 203: -0.27735009811261446, 205: -0.8660254037844387, 231: 0.1889822365046136, 272: -0.5, 275: 0, 280: 0.0, 296: 0, 301: 0, 327: -0.7559289460184544, 343: -0.5, 376: 0.8660254037844385, 391: -0.6546536707079772, 405: 0.0, 420: -0.8660254037844385, 443: -0.4193139346887674, 453: -0.7559289460184544, 520: -0.6546536707079772, 542: -0.9176629354822472, 548: 0.8660254037844387, 593: -0.5765566601970551, 600: 0.18898223650461363, 1: 0, 6: 0, 11: 0, 19: 0, 33: 1.0, 34: 1.0, 36: -1.0, 51: 1.0, 56: -1.0, 57: -1.0, 58: 0, 60: 1.0, 61: -1.0, 69: 0, 70: 0, 93: 1.0, 99: 0, 114: 0, 116: -1.0, 117: -1.0, 129: 0, 135: -1.0, 137: 0, 143: 1.0, 148: 1.0, 155: 0, 215: -1.0, 240: 1.0, 251: 0, 260: 0, 263: 0, 283: 0, 284: 0, 286: 0, 290: -1.0, 304: 0, 306: 0, 313: 1.0, 320: -1.0, 323: 0, 335: -1.0, 336: -1.0, 338: -1.0, 341: 1.0, 346: -1.0, 353: 0, 363: 1.0, 367: 0, 370: 1.0, 375: 0, 386: 0, 398: 0, 416: 1.0, 428: 0, 436: -1.0, 469: -1.0, 471: 0, 488: -1.0, 498: 0, 506: -1.0, 519: 0, 526: 0, 532: -1.0, 539: 0, 543: 0, 553: -1.0, 555: 0, 559: -1.0, 572: 0, 583: 0, 588: -1.0, 592: -1.0, 603: -1.0, 4: 0, 5: 0, 8: 0, 13: 0, 14: 0, 20: 0, 23: 0, 32: 0, 37: 0, 38: 0, 40: 0, 43: 0, 46: 0, 54: 0, 55: 0, 72: 0, 74: 0, 78: 0, 79: 0, 81: 0, 82: 0, 84: 0, 85: 0, 89: 0, 94: 0, 96: 0, 97: 0, 101: 0, 102: 0, 106: 0, 107: 0, 109: 0, 115: 0, 121: 0, 124: 0, 126: 0, 130: 0, 133: 0, 136: 0, 144: 0, 145: 0, 160: 0, 161: 0, 162: 0, 163: 0, 164: 0, 167: 0, 168: 0, 170: 0, 171: 0, 172: 0, 174: 0, 176: 0, 178: 0, 179: 0, 186: 0, 191: 0, 193: 0, 197: 0, 202: 0, 210: 0, 213: 0, 216: 0, 221: 0, 225: 0, 228: 0, 229: 0, 235: 0, 242: 0, 244: 0, 248: 0, 250: 0, 252: 0, 258: 0, 262: 0, 264: 0, 265: 0, 267: 0, 268: 0, 276: 0, 278: 0, 285: 0, 287: 0, 291: 0, 294: 0, 299: 0, 309: 0, 314: 0, 316: 0, 325: 0, 329: 0, 333: 0, 337: 0, 340: 0, 344: 0, 359: 0, 361: 0, 368: 0, 369: 0, 372: 0, 373: 0, 374: 0, 379: 0, 385: 0, 390: 0, 396: 0, 399: 0, 401: 0, 404: 0, 407: 0, 409: 0, 410: 0, 411: 0, 421: 0, 422: 0, 423: 0, 426: 0, 427: 0, 430: 0, 437: 0, 439: 0, 444: 0, 447: 0, 449: 0, 452: 0, 454: 0, 455: 0, 457: 0, 468: 0, 470: 0, 473: 0, 476: 0, 486: 0, 491: 0, 493: 0, 494: 0, 496: 0, 502: 0, 505: 0, 512: 0, 513: 0, 524: 0, 533: 0, 538: 0, 540: 0, 541: 0, 552: 0, 557: 0, 563: 0, 565: 0, 566: 0, 574: 0, 577: 0, 589: 0, 591: 0, 594: 0, 597: 0, 598: 0, 602: 0, 607: 0, 609: 0}), (3, {414: 0.001560170624596974, 599: 0.19773114954851184, 288: -0.3133531233420292, 474: -0.44050775757374333, 68: -0.09786437919472246, 274: 0.45743026847956286, 555: -0.44908769263018367, 448: -0.16482860904648888, 217: -0.4299883282441447, 368: -0.6341257359182454, 561: 0.3994523513972578, 590: -0.4717281765248632, 177: -0.44101591976886406, 182: -0.9240204783104943, 380: 0.4508287547749987, 480: -0.25388328404068966, 28: 0.20413967873005773, 84: -0.5330017908890261, 202: -0.4068403468150745, 307: 0.2375954816557457, 469: 0.1432068207985045, 489: -0.37729688731351946, 600: 0.10425720702853739, 603: 0.4332001127219817, 608: -0.3950918386598358, 42: -0.606976978666884, 51: -0.2787012112665436, 64: 0, 305: -0.4180844824929571, 313: 0.8333333333333334, 387: -0.34388716511316986, 517: 0, 562: -0.4777845132214413, 606: -0.7913343020885363, 1: 0.07981885710176258, 57: -0.6755997579149483, 104: -0.7660323462854266, 160: -0.5325352101035198, 234: -0.1888226904765912, 304: -0.7034964828924005, 312: -0.11062441971717743, 328: 0, 580: 0.7795119555779044, 597: -0.3521298163710325, 610: 0.569562205251635, 18: -0.3545475173733747, 66: 0.34375, 140: 0, 232: 0, 294: 0.6020797289396148, 477: 0.5163652433269779, 514: -0.373867176124268, 527: 0.6786716575301739, 19: -0.4424976788687096, 20: 0, 45: -0.7539233048860803, 50: 0, 103: 0, 105: 0, 186: 0.288082979849016, 298: 0.4205550915959994, 318: -0.49009802940980335, 330: -0.5527707983925666, 354: -0.7905694150420948, 372: 0.0, 377: 0.6744532734334623, 382: -0.38558839984744914, 437: 0, 438: -0.8068715304598785, 483: -0.051571062312939675, 525: 0, 534: 0.40824829046386296, 577: -0.6634034720037774, 596: 0.6077642367104554, 17: 0, 93: -0.408248290463863, 117: -0.3333333333333333, 137: -0.6831300510639733, 153: 0, 161: 0, 187: 0.13245323570650439, 226: 0.5773502691896257, 249: -0.3333333333333333, 263: 0, 265: 0.5, 266: 0, 290: -0.5773502691896257, 309: 0, 314: -0.7777777777777778, 332: -0.5773502691896257, 339: -0.25819888974716115, 367: 0, 381: -0.22549380840084865, 391: -1.0, 425: -0.11009637651263607, 432: 0, 452: 0.0, 479: -0.8703882797784892, 484: 0, 522: 0.7378647873726218, 554: 0, 572: 0, 607: -0.3333333333333333, 6: 0, 15: -0.944911182523068, 16: 0, 21: -0.9912407071619304, 33: 0, 59: 0, 70: 0, 91: 0.9773555548504416, 122: -1.0, 132: 0, 156: 0, 159: 0, 166: 0, 167: -0.18898223650461363, 169: 0, 198: 0, 219: -0.9449111825230682, 224: 0, 244: 0.7559289460184545, 271: 0.6933752452815365, 282: 0, 292: 0, 325: 0, 356: 0, 357: 0, 361: -0.7559289460184545, 362: 0.8660254037844386, 369: -0.49999999999999994, 376: -0.8962581595302715, 385: -0.5, 424: -0.4193139346887673, 464: -0.9449111825230682, 465: -0.9999999999999999, 488: 0, 495: 0, 509: 0, 518: 0.5204014838815378, 524: 0.8660254037844387, 532: -0.30542361089076303, 587: -0.5000000000000001, 593: 0, 22: 0, 29: 0, 32: -1.0, 39: 0, 47: 0, 58: 0, 62: 0, 63: 0, 72: 0, 74: 0, 88: -1.0, 89: 0, 95: 1.0, 96: -1.0, 109: 0, 110: 0, 111: 0, 113: 0, 116: 0, 131: 0, 135: -1.0, 149: 0, 152: 0, 162: 0, 168: 0, 172: 0, 183: 1.0, 195: 0, 199: 0, 200: 0, 201: 0, 203: -1.0, 204: 0, 215: 0, 216: 0, 221: 0, 230: 0, 233: 0, 240: 0, 246: 0, 247: 0, 254: 0, 267: 0, 275: 0, 278: 0, 280: -1.0, 287: 0, 326: 0, 346: 0, 352: 0, 359: 0, 378: 0, 390: -1.0, 403: -1.0, 405: 0, 411: 0, 413: 0, 419: 0, 421: 0, 422: -1.0, 426: 0, 434: 0, 436: 0, 453: 0, 462: 0, 492: -1.0, 500: 0, 501: -1.0, 523: 0, 552: 0, 560: 0, 571: -1.0, 576: -1.0, 579: 0, 581: 0, 601: 0, 602: 0, 4: 0, 5: 0, 8: 0, 14: 0, 23: 0, 24: 0, 25: 0, 27: 0, 31: 0, 34: 0, 38: 0, 40: 0, 41: 0, 44: 0, 49: 0, 55: 0, 60: 0, 61: 0, 65: 0, 71: 0, 73: 0, 75: 0, 80: 0, 82: 0, 85: 0, 98: 0, 100: 0, 101: 0, 115: 0, 118: 0, 121: 0, 124: 0, 125: 0, 127: 0, 129: 0, 133: 0, 136: 0, 138: 0, 142: 0, 144: 0, 146: 0, 155: 0, 157: 0, 158: 0, 164: 0, 171: 0, 173: 0, 174: 0, 178: 0, 180: 0, 181: 0, 185: 0, 188: 0, 189: 0, 190: 0, 191: 0, 193: 0, 210: 0, 211: 0, 212: 0, 222: 0, 225: 0, 227: 0, 229: 0, 231: 0, 235: 0, 236: 0, 237: 0, 238: 0, 239: 0, 241: 0, 243: 0, 251: 0, 256: 0, 258: 0, 260: 0, 261: 0, 264: 0, 268: 0, 277: 0, 279: 0, 285: 0, 286: 0, 296: 0, 297: 0, 300: 0, 301: 0, 303: 0, 308: 0, 315: 0, 317: 0, 319: 0, 320: 0, 323: 0, 324: 0, 333: 0, 334: 0, 335: 0, 336: 0, 337: 0, 338: 0, 343: 0, 344: 0, 345: 0, 348: 0, 349: 0, 350: 0, 351: 0, 355: 0, 366: 0, 373: 0, 379: 0, 395: 0, 398: 0, 399: 0, 400: 0, 402: 0, 404: 0, 408: 0, 409: 0, 410: 0, 416: 0, 417: 0, 418: 0, 420: 0, 427: 0, 428: 0, 430: 0, 433: 0, 439: 0, 440: 0, 441: 0, 442: 0, 444: 0, 445: 0, 446: 0, 447: 0, 449: 0, 450: 0, 454: 0, 455: 0, 457: 0, 461: 0, 463: 0, 467: 0, 470: 0, 471: 0, 482: 0, 493: 0, 496: 0, 503: 0, 504: 0, 510: 0, 511: 0, 512: 0, 515: 0, 516: 0, 533: 0, 536: 0, 537: 0, 539: 0, 541: 0, 542: 0, 549: 0, 553: 0, 557: 0, 563: 0, 565: 0, 566: 0, 570: 0, 586: 0, 588: 0, 589: 0, 594: 0, 605: 0})])"
            ]
          },
          "metadata": {},
          "execution_count": 28
        }
      ]
    },
    {
      "cell_type": "markdown",
      "metadata": {
        "id": "seRA_OGnrpsc"
      },
      "source": [
        "## ***Prediction***"
      ]
    },
    {
      "cell_type": "code",
      "metadata": {
        "id": "DRRLitltGOSg"
      },
      "source": [
        "# Function to get the most similar users for the user in question.\n",
        "\n",
        "def get_most_similar_users(user):\n",
        "  df_pearson_coff = pd.DataFrame.from_dict(pearson_coff[user], orient='index')\n",
        "  df_pearson_coff.columns = ['SimilarityIndex']\n",
        "  df_pearson_coff['UserId'] = df_pearson_coff.index\n",
        "  df_pearson_coff.index = range(len(df_pearson_coff))\n",
        "  most_similar_users = df_pearson_coff.sort_values(by='SimilarityIndex', ascending=False)\n",
        "  return most_similar_users"
      ],
      "execution_count": null,
      "outputs": []
    },
    {
      "cell_type": "code",
      "metadata": {
        "id": "yZGNejXbGFPP"
      },
      "source": [
        "# Function to get the list of movies that are not watched by the user in question but the similar users have watched.\n",
        "\n",
        "def get_list_of_not_seen_movies(user):\n",
        "  most_similar_users = get_most_similar_users(user)\n",
        "  most_similar_users = most_similar_users.merge(df_ratings, left_on='UserId', right_on='userId', how='inner').drop('userId', 1)\n",
        "  not_seen_movies = most_similar_users[~most_similar_users['movieId'].isin(df_group[df_group['userId'] == user]['movieId'])].sort_values(by='SimilarityIndex', ascending=False)\n",
        "  not_seen_movies.sort_values(by='movieId', inplace=True)\n",
        "  list_of_not_seen_movies = not_seen_movies.movieId.to_list()\n",
        "  set_of_not_seen_movies = set(list_of_not_seen_movies)\n",
        "  unique_list_of_not_seen_movies = list(sorted(set_of_not_seen_movies))\n",
        "  return unique_list_of_not_seen_movies"
      ],
      "execution_count": null,
      "outputs": []
    },
    {
      "cell_type": "code",
      "metadata": {
        "id": "ahHQ0OWwO-hh"
      },
      "source": [
        "# mean of ratings of users in group\n",
        "list_mean_ratings = []\n",
        "for user in group_of_users:\n",
        "  list_mean_ratings.append(statistics.mean(df_group[df_group['userId'] == user]['rating'].tolist()))"
      ],
      "execution_count": null,
      "outputs": []
    },
    {
      "cell_type": "code",
      "metadata": {
        "id": "TGQQuaGRdUnX"
      },
      "source": [
        "# Function to get the similarity index of all the similar users for the user in question.\n",
        "\n",
        "def get_list_of_sim_index(user, users_watched_movie):\n",
        "  most_similar_users = get_most_similar_users(user)\n",
        "  sim_index = most_similar_users[most_similar_users['UserId'].isin(users_watched_movie)].sort_values(by='UserId')\n",
        "  return sim_index['SimilarityIndex'].to_list()"
      ],
      "execution_count": null,
      "outputs": []
    },
    {
      "cell_type": "code",
      "metadata": {
        "id": "-KALo9KrScAW"
      },
      "source": [
        "# This block of code calculates the prediction score for all the movies that are not watched by the user in a group but similar users have watched these movies.\n",
        "\n",
        "prediction_of_movies = {}\n",
        "\n",
        "for user in group_of_users:\n",
        "  prediction_of_movies[user] = {}\n",
        "  not_seen_movies = get_list_of_not_seen_movies(user)\n",
        "  for movie in not_seen_movies:\n",
        "    users_watched_movie = df_ratings[df_ratings['movieId'] == int(movie)].sort_values(by='userId')\n",
        "    ratings_of_users_watched_movie = users_watched_movie['rating'].tolist()\n",
        "\n",
        "    mean_of_ratings_users_watched_movie = statistics.mean(ratings_of_users_watched_movie)\n",
        "\n",
        "    list_of_sim_index = get_list_of_sim_index(user, users_watched_movie['userId'].to_list())\n",
        "\n",
        "    r_bp_minus_mean_of_rb = [i-mean_of_ratings_users_watched_movie for i in ratings_of_users_watched_movie]\n",
        "\n",
        "    temp_numerator = (i*j for i, j in list(zip(list_of_sim_index, r_bp_minus_mean_of_rb)))\n",
        "\n",
        "    sum_temp_numerator = sum(temp_numerator)\n",
        "\n",
        "    numerator_pred = sum_temp_numerator + list_mean_ratings[user - 1]\n",
        "\n",
        "    if sum(list_of_sim_index) != 0:\n",
        "      prediction_of_movie = numerator_pred/sum(list_of_sim_index)\n",
        "      prediction_of_movies[user][movie] = prediction_of_movie\n",
        "    else:\n",
        "      prediction_of_movies[user][movie] = 0"
      ],
      "execution_count": null,
      "outputs": []
    },
    {
      "cell_type": "markdown",
      "metadata": {
        "id": "yIcVnIgB_Xbr"
      },
      "source": [
        "## ***Preprocessing for aggregation methods***"
      ]
    },
    {
      "cell_type": "code",
      "metadata": {
        "id": "B3o_ZDWW_eRg"
      },
      "source": [
        "# This preprocessing method will select the id's of movies predicted for all the users or you can say the this method will select the common predicted \n",
        "# movies among the users. For simplicity I am taking 100 movies.\n",
        "def preprocessing(ratings_of_users_in_group_dic):\n",
        "  common_movies_id = set()\n",
        "  movie_ids = []\n",
        "  for user in range(1, len(ratings_of_users_in_group_dic) + 1):\n",
        "    df_user = pd.DataFrame.from_dict(ratings_of_users_in_group_dic[user], orient='index')\n",
        "    df_user.columns = ['rating']\n",
        "    df_user['movieId'] = df_user.index\n",
        "    df_user.index = range(len(ratings_of_users_in_group_dic[user]))\n",
        "    df_user = df_user[(df_user['rating'] >= 0) & (df_user['rating'] <= 5)]\n",
        "    movie_ids.append(df_user['movieId'].to_list())\n",
        "  \n",
        "  common_movies_id = set(movie_ids[0])\n",
        "  for li in movie_ids[1:]:\n",
        "    common_movies_id = common_movies_id.intersection(set(li))\n",
        "  return sorted(common_movies_id)"
      ],
      "execution_count": null,
      "outputs": []
    },
    {
      "cell_type": "markdown",
      "metadata": {
        "id": "puPcsGMC4M1Q"
      },
      "source": [
        "## ***Average Aggregation*** "
      ]
    },
    {
      "cell_type": "code",
      "metadata": {
        "id": "HkypEav7SSig"
      },
      "source": [
        "# This method will take the movie id (predicted movie id from above preprocessing method) and compute the rating for the whole group.\n",
        "def avg_aggregation(movie_id):\n",
        "  ratings_given_by_users = []\n",
        "  for user in range(1, len(prediction_of_movies)+1):\n",
        "    ratings_given_by_users.append((prediction_of_movies[user][movie_id]))\n",
        "  return statistics.mean(ratings_given_by_users)\n",
        "  "
      ],
      "execution_count": null,
      "outputs": []
    },
    {
      "cell_type": "markdown",
      "metadata": {
        "id": "QOm6K26Ulkr0"
      },
      "source": [
        "## ***Least Misery Aggregation***"
      ]
    },
    {
      "cell_type": "code",
      "metadata": {
        "id": "gBtQls5WSSfq"
      },
      "source": [
        "# # This method will take the movie id (predicted movie id from above preprocessing method) and compute the rating for the whole group.\n",
        "def least_misery(movie_id):\n",
        "  ratings_given_by_users = []\n",
        "  for user in range(1, len(prediction_of_movies)+1):\n",
        "    ratings_given_by_users.append((prediction_of_movies[user][movie_id]))\n",
        "  return min(ratings_given_by_users)"
      ],
      "execution_count": null,
      "outputs": []
    },
    {
      "cell_type": "markdown",
      "metadata": {
        "id": "Ft5ZXQqroVVX"
      },
      "source": [
        "***show the top-20 recommendations, i.e., the 20 movies with the highest prediction scores that (i) the average method suggests, and (ii) the least misery method suggest***"
      ]
    },
    {
      "cell_type": "code",
      "metadata": {
        "id": "wp-kUEFHSSM8"
      },
      "source": [
        "movie_ids = preprocessing(prediction_of_movies)\n",
        "avg = []\n",
        "l_misery = []\n",
        "for id in movie_ids:\n",
        "  avg.append(avg_aggregation(id))\n",
        "  l_misery.append(least_misery(id))\n",
        "  "
      ],
      "execution_count": null,
      "outputs": []
    },
    {
      "cell_type": "markdown",
      "metadata": {
        "id": "UpQRTuiDPUv5"
      },
      "source": [
        "***Produce a group of 3 users, and for this group, show the top-20 recommendations, i.e., the 20 movies with the highest prediction scores that (i) the average method suggests***"
      ]
    },
    {
      "cell_type": "code",
      "metadata": {
        "id": "KzYTUdfHSSB9"
      },
      "source": [
        "df_average = pd.DataFrame(list(zip(movie_ids, avg)), columns=[\"Movie Id\", \"Rating\"])"
      ],
      "execution_count": null,
      "outputs": []
    },
    {
      "cell_type": "code",
      "metadata": {
        "id": "kZgfeg51SR-5",
        "colab": {
          "base_uri": "https://localhost:8080/",
          "height": 669
        },
        "outputId": "26cfbd4a-5d6d-4061-a415-c082a1c5f1bc"
      },
      "source": [
        "pd.merge(df_average.sort_values(by='Rating', ascending=False)[:20], df_movies, left_on=\"Movie Id\", right_on=\"movieId\").drop(\"movieId\", 1)"
      ],
      "execution_count": null,
      "outputs": [
        {
          "output_type": "execute_result",
          "data": {
            "text/html": [
              "<div>\n",
              "<style scoped>\n",
              "    .dataframe tbody tr th:only-of-type {\n",
              "        vertical-align: middle;\n",
              "    }\n",
              "\n",
              "    .dataframe tbody tr th {\n",
              "        vertical-align: top;\n",
              "    }\n",
              "\n",
              "    .dataframe thead th {\n",
              "        text-align: right;\n",
              "    }\n",
              "</style>\n",
              "<table border=\"1\" class=\"dataframe\">\n",
              "  <thead>\n",
              "    <tr style=\"text-align: right;\">\n",
              "      <th></th>\n",
              "      <th>Movie Id</th>\n",
              "      <th>Rating</th>\n",
              "      <th>title</th>\n",
              "      <th>year</th>\n",
              "    </tr>\n",
              "  </thead>\n",
              "  <tbody>\n",
              "    <tr>\n",
              "      <th>0</th>\n",
              "      <td>4158</td>\n",
              "      <td>4.144849</td>\n",
              "      <td>Monkeybone</td>\n",
              "      <td>2001</td>\n",
              "    </tr>\n",
              "    <tr>\n",
              "      <th>1</th>\n",
              "      <td>78039</td>\n",
              "      <td>4.074203</td>\n",
              "      <td>Blue Valentine</td>\n",
              "      <td>2010</td>\n",
              "    </tr>\n",
              "    <tr>\n",
              "      <th>2</th>\n",
              "      <td>169984</td>\n",
              "      <td>4.011560</td>\n",
              "      <td>Alien: Covenant</td>\n",
              "      <td>2017</td>\n",
              "    </tr>\n",
              "    <tr>\n",
              "      <th>3</th>\n",
              "      <td>51709</td>\n",
              "      <td>3.675471</td>\n",
              "      <td>Host, The (Gwoemul)</td>\n",
              "      <td>2006</td>\n",
              "    </tr>\n",
              "    <tr>\n",
              "      <th>4</th>\n",
              "      <td>79057</td>\n",
              "      <td>3.670889</td>\n",
              "      <td>Predators</td>\n",
              "      <td>2010</td>\n",
              "    </tr>\n",
              "    <tr>\n",
              "      <th>5</th>\n",
              "      <td>114935</td>\n",
              "      <td>3.609955</td>\n",
              "      <td>Predestination</td>\n",
              "      <td>2014</td>\n",
              "    </tr>\n",
              "    <tr>\n",
              "      <th>6</th>\n",
              "      <td>167746</td>\n",
              "      <td>3.608054</td>\n",
              "      <td>The Lego Batman Movie</td>\n",
              "      <td>2017</td>\n",
              "    </tr>\n",
              "    <tr>\n",
              "      <th>7</th>\n",
              "      <td>48322</td>\n",
              "      <td>3.597013</td>\n",
              "      <td>Jackass Number Two</td>\n",
              "      <td>2006</td>\n",
              "    </tr>\n",
              "    <tr>\n",
              "      <th>8</th>\n",
              "      <td>4855</td>\n",
              "      <td>3.536192</td>\n",
              "      <td>Dirty Harry</td>\n",
              "      <td>1971</td>\n",
              "    </tr>\n",
              "    <tr>\n",
              "      <th>9</th>\n",
              "      <td>93363</td>\n",
              "      <td>3.509755</td>\n",
              "      <td>John Carter</td>\n",
              "      <td>2012</td>\n",
              "    </tr>\n",
              "    <tr>\n",
              "      <th>10</th>\n",
              "      <td>6006</td>\n",
              "      <td>3.507186</td>\n",
              "      <td>Just Married</td>\n",
              "      <td>2003</td>\n",
              "    </tr>\n",
              "    <tr>\n",
              "      <th>11</th>\n",
              "      <td>4109</td>\n",
              "      <td>3.366169</td>\n",
              "      <td>Flowers in the Attic</td>\n",
              "      <td>1987</td>\n",
              "    </tr>\n",
              "    <tr>\n",
              "      <th>12</th>\n",
              "      <td>149406</td>\n",
              "      <td>3.240686</td>\n",
              "      <td>Kung Fu Panda 3</td>\n",
              "      <td>2016</td>\n",
              "    </tr>\n",
              "    <tr>\n",
              "      <th>13</th>\n",
              "      <td>127198</td>\n",
              "      <td>3.213036</td>\n",
              "      <td>Dope</td>\n",
              "      <td>2015</td>\n",
              "    </tr>\n",
              "    <tr>\n",
              "      <th>14</th>\n",
              "      <td>2138</td>\n",
              "      <td>3.183153</td>\n",
              "      <td>Watership Down</td>\n",
              "      <td>1978</td>\n",
              "    </tr>\n",
              "    <tr>\n",
              "      <th>15</th>\n",
              "      <td>101112</td>\n",
              "      <td>3.165928</td>\n",
              "      <td>Oz the Great and Powerful</td>\n",
              "      <td>2013</td>\n",
              "    </tr>\n",
              "    <tr>\n",
              "      <th>16</th>\n",
              "      <td>1405</td>\n",
              "      <td>3.152255</td>\n",
              "      <td>Beavis and Butt-Head Do America</td>\n",
              "      <td>1996</td>\n",
              "    </tr>\n",
              "    <tr>\n",
              "      <th>17</th>\n",
              "      <td>136020</td>\n",
              "      <td>3.142408</td>\n",
              "      <td>Spectre</td>\n",
              "      <td>2015</td>\n",
              "    </tr>\n",
              "    <tr>\n",
              "      <th>18</th>\n",
              "      <td>140247</td>\n",
              "      <td>3.141212</td>\n",
              "      <td>The Gift</td>\n",
              "      <td>2015</td>\n",
              "    </tr>\n",
              "    <tr>\n",
              "      <th>19</th>\n",
              "      <td>95875</td>\n",
              "      <td>3.054901</td>\n",
              "      <td>Total Recall</td>\n",
              "      <td>2012</td>\n",
              "    </tr>\n",
              "  </tbody>\n",
              "</table>\n",
              "</div>"
            ],
            "text/plain": [
              "    Movie Id    Rating                             title  year\n",
              "0       4158  4.144849                       Monkeybone   2001\n",
              "1      78039  4.074203                   Blue Valentine   2010\n",
              "2     169984  4.011560                  Alien: Covenant   2017\n",
              "3      51709  3.675471              Host, The (Gwoemul)   2006\n",
              "4      79057  3.670889                        Predators   2010\n",
              "5     114935  3.609955                   Predestination   2014\n",
              "6     167746  3.608054            The Lego Batman Movie   2017\n",
              "7      48322  3.597013               Jackass Number Two   2006\n",
              "8       4855  3.536192                      Dirty Harry   1971\n",
              "9      93363  3.509755                      John Carter   2012\n",
              "10      6006  3.507186                     Just Married   2003\n",
              "11      4109  3.366169             Flowers in the Attic   1987\n",
              "12    149406  3.240686                  Kung Fu Panda 3   2016\n",
              "13    127198  3.213036                             Dope   2015\n",
              "14      2138  3.183153                   Watership Down   1978\n",
              "15    101112  3.165928        Oz the Great and Powerful   2013\n",
              "16      1405  3.152255  Beavis and Butt-Head Do America   1996\n",
              "17    136020  3.142408                          Spectre   2015\n",
              "18    140247  3.141212                         The Gift   2015\n",
              "19     95875  3.054901                     Total Recall   2012"
            ]
          },
          "metadata": {},
          "execution_count": 39
        }
      ]
    },
    {
      "cell_type": "markdown",
      "metadata": {
        "id": "O1JfbAVCO186"
      },
      "source": [
        "***Produce a group of 3 users, and for this group, show the top-20 recommendations, i.e., the 20 movies with the highest prediction scores that the least misery method suggest***"
      ]
    },
    {
      "cell_type": "code",
      "metadata": {
        "id": "tPUAq3f3SR7T",
        "colab": {
          "base_uri": "https://localhost:8080/",
          "height": 669
        },
        "outputId": "069291a3-cb17-4abe-d22c-951256e9f4f0"
      },
      "source": [
        "df_least_misery = pd.DataFrame(list(zip(movie_ids, l_misery)), columns=['Movie Id', 'Rating'])\n",
        "pd.merge(df_least_misery.sort_values(by='Rating', ascending=False)[:20], df_movies, left_on=\"Movie Id\", right_on=\"movieId\").drop(\"movieId\", 1)"
      ],
      "execution_count": null,
      "outputs": [
        {
          "output_type": "execute_result",
          "data": {
            "text/html": [
              "<div>\n",
              "<style scoped>\n",
              "    .dataframe tbody tr th:only-of-type {\n",
              "        vertical-align: middle;\n",
              "    }\n",
              "\n",
              "    .dataframe tbody tr th {\n",
              "        vertical-align: top;\n",
              "    }\n",
              "\n",
              "    .dataframe thead th {\n",
              "        text-align: right;\n",
              "    }\n",
              "</style>\n",
              "<table border=\"1\" class=\"dataframe\">\n",
              "  <thead>\n",
              "    <tr style=\"text-align: right;\">\n",
              "      <th></th>\n",
              "      <th>Movie Id</th>\n",
              "      <th>Rating</th>\n",
              "      <th>title</th>\n",
              "      <th>year</th>\n",
              "    </tr>\n",
              "  </thead>\n",
              "  <tbody>\n",
              "    <tr>\n",
              "      <th>0</th>\n",
              "      <td>4158</td>\n",
              "      <td>3.657139</td>\n",
              "      <td>Monkeybone</td>\n",
              "      <td>2001</td>\n",
              "    </tr>\n",
              "    <tr>\n",
              "      <th>1</th>\n",
              "      <td>169984</td>\n",
              "      <td>3.579269</td>\n",
              "      <td>Alien: Covenant</td>\n",
              "      <td>2017</td>\n",
              "    </tr>\n",
              "    <tr>\n",
              "      <th>2</th>\n",
              "      <td>167746</td>\n",
              "      <td>3.394417</td>\n",
              "      <td>The Lego Batman Movie</td>\n",
              "      <td>2017</td>\n",
              "    </tr>\n",
              "    <tr>\n",
              "      <th>3</th>\n",
              "      <td>93363</td>\n",
              "      <td>3.311979</td>\n",
              "      <td>John Carter</td>\n",
              "      <td>2012</td>\n",
              "    </tr>\n",
              "    <tr>\n",
              "      <th>4</th>\n",
              "      <td>78039</td>\n",
              "      <td>2.921451</td>\n",
              "      <td>Blue Valentine</td>\n",
              "      <td>2010</td>\n",
              "    </tr>\n",
              "    <tr>\n",
              "      <th>5</th>\n",
              "      <td>79057</td>\n",
              "      <td>2.864718</td>\n",
              "      <td>Predators</td>\n",
              "      <td>2010</td>\n",
              "    </tr>\n",
              "    <tr>\n",
              "      <th>6</th>\n",
              "      <td>149406</td>\n",
              "      <td>2.755928</td>\n",
              "      <td>Kung Fu Panda 3</td>\n",
              "      <td>2016</td>\n",
              "    </tr>\n",
              "    <tr>\n",
              "      <th>7</th>\n",
              "      <td>48322</td>\n",
              "      <td>2.721634</td>\n",
              "      <td>Jackass Number Two</td>\n",
              "      <td>2006</td>\n",
              "    </tr>\n",
              "    <tr>\n",
              "      <th>8</th>\n",
              "      <td>6006</td>\n",
              "      <td>2.622691</td>\n",
              "      <td>Just Married</td>\n",
              "      <td>2003</td>\n",
              "    </tr>\n",
              "    <tr>\n",
              "      <th>9</th>\n",
              "      <td>55995</td>\n",
              "      <td>2.523432</td>\n",
              "      <td>Beowulf</td>\n",
              "      <td>2007</td>\n",
              "    </tr>\n",
              "    <tr>\n",
              "      <th>10</th>\n",
              "      <td>140247</td>\n",
              "      <td>2.522913</td>\n",
              "      <td>The Gift</td>\n",
              "      <td>2015</td>\n",
              "    </tr>\n",
              "    <tr>\n",
              "      <th>11</th>\n",
              "      <td>95875</td>\n",
              "      <td>2.520428</td>\n",
              "      <td>Total Recall</td>\n",
              "      <td>2012</td>\n",
              "    </tr>\n",
              "    <tr>\n",
              "      <th>12</th>\n",
              "      <td>104241</td>\n",
              "      <td>2.438094</td>\n",
              "      <td>Kick-Ass 2</td>\n",
              "      <td>2013</td>\n",
              "    </tr>\n",
              "    <tr>\n",
              "      <th>13</th>\n",
              "      <td>127198</td>\n",
              "      <td>2.401852</td>\n",
              "      <td>Dope</td>\n",
              "      <td>2015</td>\n",
              "    </tr>\n",
              "    <tr>\n",
              "      <th>14</th>\n",
              "      <td>55261</td>\n",
              "      <td>2.328585</td>\n",
              "      <td>Heartbreak Kid, The</td>\n",
              "      <td>2007</td>\n",
              "    </tr>\n",
              "    <tr>\n",
              "      <th>15</th>\n",
              "      <td>83613</td>\n",
              "      <td>2.170724</td>\n",
              "      <td>Cowboys &amp; Aliens</td>\n",
              "      <td>2011</td>\n",
              "    </tr>\n",
              "    <tr>\n",
              "      <th>16</th>\n",
              "      <td>62849</td>\n",
              "      <td>2.114726</td>\n",
              "      <td>RocknRolla</td>\n",
              "      <td>2008</td>\n",
              "    </tr>\n",
              "    <tr>\n",
              "      <th>17</th>\n",
              "      <td>3693</td>\n",
              "      <td>2.088063</td>\n",
              "      <td>Toxic Avenger, The</td>\n",
              "      <td>1985</td>\n",
              "    </tr>\n",
              "    <tr>\n",
              "      <th>18</th>\n",
              "      <td>4855</td>\n",
              "      <td>2.081558</td>\n",
              "      <td>Dirty Harry</td>\n",
              "      <td>1971</td>\n",
              "    </tr>\n",
              "    <tr>\n",
              "      <th>19</th>\n",
              "      <td>44974</td>\n",
              "      <td>2.064404</td>\n",
              "      <td>Hard Candy</td>\n",
              "      <td>2005</td>\n",
              "    </tr>\n",
              "  </tbody>\n",
              "</table>\n",
              "</div>"
            ],
            "text/plain": [
              "    Movie Id    Rating                   title  year\n",
              "0       4158  3.657139             Monkeybone   2001\n",
              "1     169984  3.579269        Alien: Covenant   2017\n",
              "2     167746  3.394417  The Lego Batman Movie   2017\n",
              "3      93363  3.311979            John Carter   2012\n",
              "4      78039  2.921451         Blue Valentine   2010\n",
              "5      79057  2.864718              Predators   2010\n",
              "6     149406  2.755928        Kung Fu Panda 3   2016\n",
              "7      48322  2.721634     Jackass Number Two   2006\n",
              "8       6006  2.622691           Just Married   2003\n",
              "9      55995  2.523432                Beowulf   2007\n",
              "10    140247  2.522913               The Gift   2015\n",
              "11     95875  2.520428           Total Recall   2012\n",
              "12    104241  2.438094             Kick-Ass 2   2013\n",
              "13    127198  2.401852                   Dope   2015\n",
              "14     55261  2.328585    Heartbreak Kid, The   2007\n",
              "15     83613  2.170724       Cowboys & Aliens   2011\n",
              "16     62849  2.114726             RocknRolla   2008\n",
              "17      3693  2.088063     Toxic Avenger, The   1985\n",
              "18      4855  2.081558            Dirty Harry   1971\n",
              "19     44974  2.064404             Hard Candy   2005"
            ]
          },
          "metadata": {},
          "execution_count": 40
        }
      ]
    },
    {
      "cell_type": "markdown",
      "metadata": {
        "id": "92BJhouplLXg"
      },
      "source": [
        "## ***Kendal Tau Distance***"
      ]
    },
    {
      "cell_type": "code",
      "metadata": {
        "id": "6VE_VQpclPUZ"
      },
      "source": [
        "# List of indexes for the movies suggested by the least misery method\n",
        "least_misery_index = df_least_misery.sort_values(by='Rating', ascending=False).index.to_list()"
      ],
      "execution_count": null,
      "outputs": []
    },
    {
      "cell_type": "code",
      "metadata": {
        "id": "Ks6lnuW_lbWt"
      },
      "source": [
        "# List of indexes for the movies suggested by the average method\n",
        "average_index = df_average.sort_values(by='Rating', ascending=False).index.to_list()"
      ],
      "execution_count": null,
      "outputs": []
    },
    {
      "cell_type": "code",
      "metadata": {
        "id": "1n95UVyumoN7"
      },
      "source": [
        "# This block of code calculates the indexes of movies - predicted for each user in group. for this assignment there are three users in group, therefore \n",
        "# last line of code of this block generates dynamic variables for three of users and assigns the indexes of movies.\n",
        "for user in range(1, len(prediction_of_movies)+1):\n",
        "  df_user = pd.DataFrame.from_dict(prediction_of_movies[user], orient='index')\n",
        "  df_user.columns = ['rating']\n",
        "  df_user['movieId'] = df_user.index\n",
        "  df_user.index = range(len(prediction_of_movies[user]))\n",
        "  df_user = df_user[(df_user['rating'] >= 0) & (df_user['rating'] <= 5)].sort_values(by='rating', ascending=False)\n",
        "  df_user = df_user[:99].index.to_list()\n",
        "  globals()[f'user_{user}_index'] = df_user"
      ],
      "execution_count": null,
      "outputs": []
    },
    {
      "cell_type": "code",
      "metadata": {
        "id": "YZgjxUB7qfR9"
      },
      "source": [
        "#This is the method to calcculate the Kendal Tau Distance between the two ranked lists.\n",
        "\n",
        "from itertools import combinations\n",
        "\n",
        "def kendal_tau_distance(group_recom, user_recom):\n",
        "\n",
        "  total_combinations = combinations(range(0, len(group_recom)), 2)\n",
        "  \n",
        "  kendal_distance = 0\n",
        "  \n",
        "  for x,y in total_combinations:\n",
        "    a = group_recom[x] - group_recom[y]\n",
        "    b = user_recom[x] - user_recom[y]\n",
        "\n",
        "    #calculating disagreements or discordants\n",
        "    if (a*b) < 0:\n",
        "      kendal_distance += 1\n",
        "\n",
        "  return kendal_distance"
      ],
      "execution_count": null,
      "outputs": []
    },
    {
      "cell_type": "markdown",
      "metadata": {
        "id": "h99_h7NDybz6"
      },
      "source": [
        "### ***Use again the group of 3 users, and for this group, show the top-20 recommendations, i.e., the 20 movies with the highest prediction scores that your method suggests***"
      ]
    },
    {
      "cell_type": "code",
      "metadata": {
        "colab": {
          "base_uri": "https://localhost:8080/"
        },
        "id": "xPEKzm4Cua8M",
        "outputId": "a8e2bd40-e3c7-4c35-d3e9-4416cad31fb8"
      },
      "source": [
        "average_kendal_distance = kendal_tau_distance(average_index, user_1_index) + kendal_tau_distance(average_index, user_2_index) + kendal_tau_distance(average_index, user_3_index)\n",
        "least_misery_kendal_distance = kendal_tau_distance(least_misery_index, user_1_index) + kendal_tau_distance(least_misery_index, user_2_index) + kendal_tau_distance(least_misery_index, user_3_index)\n",
        "\n",
        "if average_kendal_distance < least_misery_kendal_distance:\n",
        "  print(\"After calculating the Kendal Tau Distance, it is obvious that that we should select Average Aggregation Method instead of Least Misery Aggregation Method. Therefore, the top 20 movies recommended by the Average Aggregation Method are:\")\n",
        "  print(pd.merge(df_average.sort_values(by='Rating', ascending=False)[:20], df_movies, left_on=\"Movie Id\", right_on=\"movieId\").drop(\"movieId\", 1))\n",
        "else:\n",
        "  print(\"After calculating the Kendal Tau Distance, it is obvious that that we should select Least Misery Aggregation Method instead of Average Aggregation Method. Therefore, the top 20 movie recommended by the Least Misery Aggregation Method are:\")\n",
        "  print(pd.merge(df_least_misery.sort_values(by='Rating', ascending=False)[:20], df_movies, left_on=\"Movie Id\", right_on=\"movieId\").drop(\"movieId\", 1))"
      ],
      "execution_count": null,
      "outputs": [
        {
          "output_type": "stream",
          "name": "stdout",
          "text": [
            "After calculating the Kendal Tau Distance, it is obvious that that we should select Least Misery Aggregation Method instead of Average Aggregation Method. Therefore, the top 20 movie recommended by the Least Misery Aggregation Method are:\n",
            "    Movie Id    Rating                   title  year\n",
            "0       4158  3.657139             Monkeybone   2001\n",
            "1     169984  3.579269        Alien: Covenant   2017\n",
            "2     167746  3.394417  The Lego Batman Movie   2017\n",
            "3      93363  3.311979            John Carter   2012\n",
            "4      78039  2.921451         Blue Valentine   2010\n",
            "5      79057  2.864718              Predators   2010\n",
            "6     149406  2.755928        Kung Fu Panda 3   2016\n",
            "7      48322  2.721634     Jackass Number Two   2006\n",
            "8       6006  2.622691           Just Married   2003\n",
            "9      55995  2.523432                Beowulf   2007\n",
            "10    140247  2.522913               The Gift   2015\n",
            "11     95875  2.520428           Total Recall   2012\n",
            "12    104241  2.438094             Kick-Ass 2   2013\n",
            "13    127198  2.401852                   Dope   2015\n",
            "14     55261  2.328585    Heartbreak Kid, The   2007\n",
            "15     83613  2.170724       Cowboys & Aliens   2011\n",
            "16     62849  2.114726             RocknRolla   2008\n",
            "17      3693  2.088063     Toxic Avenger, The   1985\n",
            "18      4855  2.081558            Dirty Harry   1971\n",
            "19     44974  2.064404             Hard Candy   2005\n"
          ]
        }
      ]
    },
    {
      "cell_type": "code",
      "metadata": {
        "id": "H0nt1ObKM8x-"
      },
      "source": [
        ""
      ],
      "execution_count": null,
      "outputs": []
    }
  ]
}